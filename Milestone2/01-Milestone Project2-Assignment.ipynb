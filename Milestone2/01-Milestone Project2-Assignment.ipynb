{
 "cells": [
  {
   "cell_type": "markdown",
   "metadata": {},
   "source": [
    "___\n",
    "\n",
    "<a href='https://www.udemy.com/user/joseportilla/'><img src='../Pierian_Data_Logo.png'/></a>\n",
    "___\n",
    "<center><em>Content Copyright by Pierian Data</em></center>"
   ]
  },
  {
   "cell_type": "markdown",
   "metadata": {},
   "source": [
    "# Milestone Project 2 - Blackjack Game\n",
    "In this milestone project you will be creating a Complete BlackJack Card Game in Python.\n",
    "\n",
    "Here are the requirements:\n",
    "\n",
    "* You need to create a simple text-based [BlackJack](https://en.wikipedia.org/wiki/Blackjack) game\n",
    "* The game needs to have one player versus an automated dealer.\n",
    "* The player can stand or hit.\n",
    "* The player must be able to pick their betting amount.\n",
    "* You need to keep track of the player's total money.\n",
    "* You need to alert the player of wins, losses, or busts, etc...\n",
    "\n",
    "And most importantly:\n",
    "\n",
    "* **You must use OOP and classes in some portion of your game. You can not just use functions in your game. Use classes to help you define the Deck and the Player's hand. There are many right ways to do this, so explore it well!**\n",
    "\n",
    "\n",
    "Feel free to expand this game. Try including multiple players. Try adding in Double-Down and card splits! Remember to you are free to use any resources you want and as always:\n",
    "\n",
    "# HAVE FUN!"
   ]
  },
  {
   "cell_type": "markdown",
   "metadata": {},
   "source": [
    "# RULES"
   ]
  },
  {
   "cell_type": "code",
   "execution_count": 125,
   "metadata": {},
   "outputs": [
    {
     "data": {
      "text/plain": [
       "\"\\nRules:\\n\\nHand cannot total > 21 = BUST\\nObjective = higher number than dealer's hand\\nCards = JQK = 10 , ACE = 1 or 11\\n\\n1. Place a bet (everyone besides the dealer)\\n2. 1 Card dealt face up\\n3. 1 more card face up to all players & 1 card face down for dealer\\n4. If initially your cards = 21 --> you win and get 1.5x initial bet\\n    Once you see your cards, you can DOUBLE bet\\n5. Dealer asks if you want another card from top of deck\\n6. If you want a card = HIT\\n7. If you don't want a card = last round\\n8. Dealer reveals their card\\n9. If dealer's cards <= 16, they must take another card\\n10. If >= 17, they stay\\n11. If dealer BUSTS = everyone in the round wins 2x bet\\n12. If dealer doesn't BUST = only the player with higher number than dealer gets 2x bet\\n13. If dealer = player --> Nobody wins\\n14. Otherwise, lose bet to Dealer\\n\""
      ]
     },
     "execution_count": 125,
     "metadata": {},
     "output_type": "execute_result"
    }
   ],
   "source": [
    "\"\"\"\n",
    "Rules:\n",
    "\n",
    "Hand cannot total > 21 = BUST\n",
    "Objective = higher number than dealer's hand\n",
    "Cards = JQK = 10 , ACE = 1 or 11\n",
    "\n",
    "1. Place a bet (everyone besides the dealer)\n",
    "2. 1 Card dealt face up\n",
    "3. 1 more card face up to all players & 1 card face down for dealer\n",
    "4. If initially your cards = 21 --> you win and get 1.5x initial bet\n",
    "    Once you see your cards, you can DOUBLE bet\n",
    "5. Dealer asks if you want another card from top of deck\n",
    "6. If you want a card = HIT\n",
    "7. If you don't want a card = last round\n",
    "8. Dealer reveals their card\n",
    "9. If dealer's cards <= 16, they must take another card\n",
    "10. If >= 17, they stay\n",
    "11. If dealer BUSTS = everyone in the round wins 2x bet\n",
    "12. If dealer doesn't BUST = only the player with higher number than dealer gets 2x bet\n",
    "13. If dealer = player --> Nobody wins\n",
    "14. Otherwise, lose bet to Dealer\n",
    "\"\"\""
   ]
  },
  {
   "cell_type": "code",
   "execution_count": 126,
   "metadata": {},
   "outputs": [],
   "source": [
    "import random"
   ]
  },
  {
   "cell_type": "markdown",
   "metadata": {},
   "source": [
    "# CARDS"
   ]
  },
  {
   "cell_type": "code",
   "execution_count": 127,
   "metadata": {},
   "outputs": [],
   "source": [
    "ranks = [\"Ace\", \"Two\", \"Three\", \"Four\", \"Five\", \"Six\", \"Seven\", \"Eight\", \"Nine\", \"Ten\", \n",
    "         \"Jack\", \"Queen\", \"King\"]\n",
    "\n",
    "suits = [\"hearts\", \"clubs\", \"diamonds\", \"spades\"]\n",
    "\n",
    "values = {\"Ace\":1, \"Two\":2, \"Three\":3, \"Four\":4, \"Five\":5, \"Six\":6, \"Seven\":7, \"Eight\":8, \n",
    "         \"Nine\":9, \"Ten\":10, \"Jack\":10, \"Queen\":10, \"King\":10}"
   ]
  },
  {
   "cell_type": "code",
   "execution_count": 128,
   "metadata": {},
   "outputs": [],
   "source": [
    "class Card:\n",
    "\n",
    "    def __init__(self,suit,rank):\n",
    "        self.suit = suit\n",
    "        self.rank = rank\n",
    "        self.value = values[rank]\n",
    "        \n",
    "    def __str__(self): # has to return \n",
    "        return self.rank + ' of ' + self.suit"
   ]
  },
  {
   "cell_type": "code",
   "execution_count": 129,
   "metadata": {},
   "outputs": [],
   "source": [
    "mycard = Card(\"Hearts\", \"Two\")"
   ]
  },
  {
   "cell_type": "code",
   "execution_count": 130,
   "metadata": {},
   "outputs": [],
   "source": [
    "mycard2 = Card(suits[0], ranks[0])"
   ]
  },
  {
   "cell_type": "code",
   "execution_count": 131,
   "metadata": {},
   "outputs": [
    {
     "data": {
      "text/plain": [
       "2"
      ]
     },
     "execution_count": 131,
     "metadata": {},
     "output_type": "execute_result"
    }
   ],
   "source": [
    "mycard.value"
   ]
  },
  {
   "cell_type": "code",
   "execution_count": 132,
   "metadata": {},
   "outputs": [
    {
     "name": "stdout",
     "output_type": "stream",
     "text": [
      "Ace of hearts\n"
     ]
    }
   ],
   "source": [
    "print(mycard2)"
   ]
  },
  {
   "cell_type": "markdown",
   "metadata": {},
   "source": [
    "# DECK"
   ]
  },
  {
   "cell_type": "code",
   "execution_count": 133,
   "metadata": {},
   "outputs": [],
   "source": [
    "class Deck:\n",
    "    \n",
    "    def __init__(self):\n",
    "        # Note this only happens once upon creation of a new Deck\n",
    "        self.all_cards = [] \n",
    "        for rank in ranks:\n",
    "            for suit in suits:\n",
    "                # This assumes the Card class has already been defined!\n",
    "                self.all_cards.append(Card(suit,rank))\n",
    "        print(\"New deck created...\")\n",
    "\n",
    "    def shuffle(self):\n",
    "        # Note this doesn't return anything\n",
    "        random.shuffle(self.all_cards)\n",
    "        print(\"Deck shuffled...\")\n",
    "        \n",
    "    def deal_one(self):\n",
    "        # Note we remove one card from the list of all_cards\n",
    "        return self.all_cards.pop()\n",
    "\n",
    "    def __str__(self):\n",
    "        card_str = \"\"\n",
    "        for card in self.all_cards:\n",
    "            card_str += str(card) + \"\\n\"\n",
    "        return card_str"
   ]
  },
  {
   "cell_type": "code",
   "execution_count": 134,
   "metadata": {},
   "outputs": [],
   "source": [
    "# mydeck = Deck()"
   ]
  },
  {
   "cell_type": "code",
   "execution_count": 135,
   "metadata": {},
   "outputs": [],
   "source": [
    "# print(mydeck.all_cards[0])"
   ]
  },
  {
   "cell_type": "code",
   "execution_count": 136,
   "metadata": {},
   "outputs": [],
   "source": [
    "# mydeck.shuffle()"
   ]
  },
  {
   "cell_type": "code",
   "execution_count": 137,
   "metadata": {},
   "outputs": [],
   "source": [
    "# print(mydeck)"
   ]
  },
  {
   "cell_type": "code",
   "execution_count": 138,
   "metadata": {},
   "outputs": [],
   "source": [
    "# print(len(mydeck.all_cards))"
   ]
  },
  {
   "cell_type": "code",
   "execution_count": 139,
   "metadata": {},
   "outputs": [],
   "source": [
    "# print(mydeck.all_cards[0])"
   ]
  },
  {
   "cell_type": "code",
   "execution_count": 140,
   "metadata": {},
   "outputs": [],
   "source": [
    "# print(mydeck)"
   ]
  },
  {
   "cell_type": "code",
   "execution_count": 141,
   "metadata": {},
   "outputs": [],
   "source": [
    "# card_dealt = mydeck.deal_one()"
   ]
  },
  {
   "cell_type": "code",
   "execution_count": 142,
   "metadata": {},
   "outputs": [],
   "source": [
    "# print(card_dealt)"
   ]
  },
  {
   "cell_type": "markdown",
   "metadata": {},
   "source": [
    "# PLAYER"
   ]
  },
  {
   "cell_type": "code",
   "execution_count": 143,
   "metadata": {},
   "outputs": [],
   "source": [
    "class Player:\n",
    "    def __init__(self, name, rounds_won=0):\n",
    "        self.name = name\n",
    "        self.rounds_won = rounds_won\n",
    "\n",
    "    def new_round(self, dealt_cards, money=1000):\n",
    "        self.cards = []\n",
    "        self.cards.extend(dealt_cards)\n",
    "        self.money = money\n",
    "        self.value = 0\n",
    "        for card in self.cards:\n",
    "            self.value += card.value\n",
    "\n",
    "    def bet(self, amount):\n",
    "        self.money -= amount\n",
    "        print(f\"Bet placed: {amount}\\nRemaining Money: {self.money}.\")\n",
    "\n",
    "    def hit(self, new_card):\n",
    "        print(f\"{self.name} picked up new card.\")\n",
    "        for card in new_card:\n",
    "            self.cards.append(card)  # put at the back of the deck\n",
    "            self.value += card.value\n",
    "\n",
    "    def loss(self, loss):\n",
    "        loss = int(loss)\n",
    "        self.value -= loss\n",
    "        print(str(self.value))\n",
    "\n",
    "    def win(self, win):\n",
    "        win = int(win)\n",
    "        self.money += win\n",
    "        print(str(self.money))\n",
    "        self.rounds_won += 1\n",
    "\n",
    "    def double(self, bet_amount):\n",
    "        bet_amount = int(bet_amount)\n",
    "        money = self.money\n",
    "        if money - bet_amount < 0:\n",
    "            print(\"Unable to double amount, insufficient funds...\")\n",
    "        else:\n",
    "            print(f\"Total Bet Placed: {bet_amount*2}\")\n",
    "            self.bet(bet_amount)\n",
    "\n",
    "    def __str__(self):\n",
    "        card_strings = [f\"{card.rank} of {card.suit}\" for card in self.cards]\n",
    "        return (\n",
    "            f'Player {self.name} has {len(self.cards)} cards: {\", \".join(card_strings)}'\n",
    "        )"
   ]
  },
  {
   "cell_type": "code",
   "execution_count": 144,
   "metadata": {},
   "outputs": [],
   "source": [
    "class Dealer:\n",
    "\n",
    "    def __init__(self, name=\"Dealer\", rounds_won=0):\n",
    "        self.name = name\n",
    "        self.rounds_won = rounds_won\n",
    "\n",
    "    def new_round(self, dealt_cards):\n",
    "        self.cards = []\n",
    "        self.cards.extend(dealt_cards)\n",
    "        self.value = 0\n",
    "        for card in self.cards:\n",
    "            self.value += card.value\n",
    "\n",
    "    def value_one_card(self):\n",
    "        card = self.cards[1]\n",
    "        return card.value\n",
    "\n",
    "    def win(self):\n",
    "        self.rounds_won += 1\n",
    "\n",
    "    def hit(self, new_card):\n",
    "        print(f\"{self.name} picked up new card.\")\n",
    "        for card in new_card:\n",
    "            self.cards.append(card) # put at the back of the deck\n",
    "            self.value += card.value\n",
    "\n",
    "    def show_all_cards(self):\n",
    "        card_strings = [f'{card.rank} of {card.suit}' for card in self.cards]\n",
    "        return f'Dealer {self.name} has {len(self.cards)} cards: {\", \".join(card_strings)}'\n",
    "\n",
    "    def __str__(self):\n",
    "        card_strings = [f'{card.rank} of {card.suit}' for card in self.cards]\n",
    "        return f'Dealer has {len(self.cards)} cards: UNKNOWN and {card_strings[1]}'"
   ]
  },
  {
   "cell_type": "code",
   "execution_count": 145,
   "metadata": {},
   "outputs": [],
   "source": [
    "def deal_cards(amount, mydeck):\n",
    "    dealt_cards = []\n",
    "    for x in range(0, amount):\n",
    "        new_card = mydeck.deal_one()\n",
    "        dealt_cards.append(new_card)\n",
    "    # print(dealt_cards)\n",
    "    return dealt_cards\n",
    "\n",
    "\n",
    "def player_order(p1, p2):\n",
    "    players = [p1, p2]\n",
    "    random.shuffle(players)\n",
    "    player1 = players[0]\n",
    "    player2 = players[1]\n",
    "    return player1, player2, players\n",
    "\n",
    "\n",
    "def player_bet(player):\n",
    "    bet_amount = input(\n",
    "        f'How much does {player.name} want to bet? Type \"help\" for more info.'\n",
    "    )\n",
    "    if bet_amount.lower() == \"help\":\n",
    "        print(f\"You currently have - {player.money} in the fund\")\n",
    "        player_bet(player)\n",
    "    else:\n",
    "        print(bet_amount)\n",
    "        amount = int(bet_amount)\n",
    "        money = player.money\n",
    "        # invalid_amount = True\n",
    "        while True:\n",
    "            if amount == 0:\n",
    "                print(\n",
    "                    f\"\\nPlease enter a value higher than 0. Your current money - {money}.\"\n",
    "                )\n",
    "                player_bet(player)\n",
    "            elif money - amount < 0:\n",
    "                print(\n",
    "                    f\"\\nMoney after deduction: {money - amount}.\\nPlease enter a valid value that will not result in value below 0. Your current money - {money}.\"\n",
    "                )\n",
    "                player_bet(player)\n",
    "            else:\n",
    "                print(\"\\nBet Placed.\")\n",
    "                player.bet(amount)\n",
    "                return amount\n",
    "\n",
    "\n",
    "def show_values(player, dealer):\n",
    "    dealer_value_visible = dealer.value_one_card()\n",
    "    print(f\"\\nDealer value: {dealer_value_visible}\")\n",
    "    print(f\"{dealer}\")\n",
    "    print(f\"Player value: {player.value}\")\n",
    "    print(f\"{player}\")\n",
    "\n",
    "\n",
    "def show_values_after_reveal(player, dealer):\n",
    "    print(f\"\\nDealer value: {dealer.value}\")\n",
    "    print(f\"{dealer.show_all_cards()}\")\n",
    "    print(f\"Player value: {player.value}\")\n",
    "    print(f\"{player}\")"
   ]
  },
  {
   "cell_type": "code",
   "execution_count": 146,
   "metadata": {},
   "outputs": [],
   "source": [
    "def winner_funct(someone, next_round):\n",
    "    winner = someone.name\n",
    "    next_round = True\n",
    "    print(f\"\\n{winner} wins round!\\n\")\n",
    "    return next_round\n",
    "\n",
    "\n",
    "def draw_funct(next_round):\n",
    "    next_round = True\n",
    "    print(f\"\\nIt's a DRAW! Next round...\\n\")\n",
    "    return next_round"
   ]
  },
  {
   "cell_type": "code",
   "execution_count": 147,
   "metadata": {},
   "outputs": [],
   "source": [
    "def check_round_status(player, dealer, next_round, bet_amount):\n",
    "    winner = \"\"\n",
    "    if player.value == 21:\n",
    "        next_round = winner_funct(player, next_round)\n",
    "        player.win(bet_amount*2)\n",
    "    elif dealer.value == 21:\n",
    "        next_round = winner_funct(dealer, next_round)\n",
    "        dealer.win()\n",
    "    elif player.value > 21:\n",
    "        next_round = winner_funct(dealer, next_round)\n",
    "        dealer.win()\n",
    "    elif dealer.value > 21:\n",
    "        next_round = winner_funct(player, next_round)\n",
    "        player.win(bet_amount*2)\n",
    "    \n",
    "    return winner, next_round\n",
    "\n",
    "def check_game_status(player, dealer, game_on):\n",
    "    if player.money < 0:\n",
    "        game_on = False\n",
    "    return game_on"
   ]
  },
  {
   "cell_type": "code",
   "execution_count": 148,
   "metadata": {},
   "outputs": [],
   "source": [
    "def dealer_play(dealer, player, next_round, mydeck, reveal=True):\n",
    "    if reveal:\n",
    "        show_values_after_reveal(player, dealer)\n",
    "\n",
    "    if dealer.value == 21:\n",
    "        next_round = winner_funct(dealer, next_round)\n",
    "\n",
    "    elif dealer.value > 21:\n",
    "        next_round = winner_funct(player, next_round)\n",
    "\n",
    "    else:\n",
    "        if dealer.value > 17:\n",
    "            if dealer.value > player.value:\n",
    "                next_round = winner_funct(dealer, next_round)\n",
    "            elif dealer.value == player.value:\n",
    "                next_round = draw_funct(next_round)\n",
    "\n",
    "        elif dealer.value < 17:\n",
    "            new_card = deal_cards(1, mydeck)\n",
    "            dealer.hit(new_card)\n",
    "            # show_values_after_reveal(player, dealer)\n",
    "            dealer_play(dealer, player, next_round, mydeck)\n",
    "\n",
    "    return next_round"
   ]
  },
  {
   "cell_type": "code",
   "execution_count": 149,
   "metadata": {},
   "outputs": [],
   "source": [
    "# oscar = Player(\"Oscar\", dealt_cards=deal_cards(2))\n",
    "# dealer = Dealer(dealt_cards=deal_cards(2))"
   ]
  },
  {
   "cell_type": "code",
   "execution_count": 150,
   "metadata": {},
   "outputs": [],
   "source": [
    "# print(oscar)"
   ]
  },
  {
   "cell_type": "code",
   "execution_count": 151,
   "metadata": {},
   "outputs": [],
   "source": [
    "# print(dealer)"
   ]
  },
  {
   "cell_type": "code",
   "execution_count": 152,
   "metadata": {},
   "outputs": [],
   "source": [
    "# oscar.money"
   ]
  },
  {
   "cell_type": "code",
   "execution_count": 153,
   "metadata": {},
   "outputs": [],
   "source": [
    "# oscar.value"
   ]
  },
  {
   "cell_type": "markdown",
   "metadata": {},
   "source": [
    "# GAME LOGIC"
   ]
  },
  {
   "cell_type": "code",
   "execution_count": 154,
   "metadata": {},
   "outputs": [],
   "source": [
    "def choice_turn_1(dealer, player, next_round, mydeck, bet_amount):\n",
    "    # hit or stand\n",
    "    choice = input(\"Do you want to stand (0), hit (1) or double (2) your bet?\")\n",
    "    if choice == \"0\" or choice == \"stand\":\n",
    "        print(\"\\n\\tYou have decided to stand! ----------------\")\n",
    "        dealer_play(dealer, player, next_round, mydeck)\n",
    "    elif choice == \"1\" or choice == \"hit\":\n",
    "        print(\"\\n\\tYou have decided to hit! ----------------\")\n",
    "        new_cards = deal_cards(1, mydeck)\n",
    "        player.hit(new_cards)\n",
    "        # print(player)\n",
    "    elif choice == \"2\" or choice == \"double\":\n",
    "        print(\"CHOSE 2 or DOUBLE\")\n",
    "        print(bet_amount)\n",
    "        print(\"\\n\\tYou have decided to double your bet! ----------------\")\n",
    "        player.double(bet_amount)\n",
    "    else:\n",
    "        print(\"Sorry, invalid input. Try again?\")\n",
    "        choice_turn_1(dealer, player, next_round, mydeck, bet_amount)\n",
    "\n",
    "\n",
    "def choice_turn_conseq(dealer, player, next_round, mydeck):\n",
    "    # hit or stand\n",
    "    choice = input(\"Do you want to stand (0) or hit (1)?\")\n",
    "    if choice == \"0\" or choice == \"stand\":\n",
    "        print(\"\\n\\tYou have decided to stand! ----------------\")\n",
    "        dealer_play(dealer, player, next_round, mydeck)\n",
    "    elif choice == \"1\" or choice == \"hit\":\n",
    "        print(\"\\n\\tYou have decided to hit! ----------------\")\n",
    "        new_cards = deal_cards(1, mydeck)\n",
    "        player.hit(new_cards)\n",
    "        print(player)\n",
    "    else:\n",
    "        print(\"Sorry, invalid input. Try again?\")\n",
    "        choice_turn_conseq(dealer, player, next_round, mydeck)"
   ]
  },
  {
   "cell_type": "code",
   "execution_count": 155,
   "metadata": {},
   "outputs": [
    {
     "name": "stdout",
     "output_type": "stream",
     "text": [
      "Player 1 - Oscar\n",
      "New deck created...\n",
      "Deck shuffled...\n",
      "\n",
      "\n",
      "\n",
      "Round - 1\n",
      "Turn 1 ----------------------------------\n",
      "300\n",
      "\n",
      "Bet Placed.\n",
      "Bet placed: 300\n",
      "Remaining Money: 700.\n",
      "300 is the bet amount variable\n",
      "\n",
      "Dealer value: 10\n",
      "Dealer has 2 cards: UNKNOWN and Jack of diamonds\n",
      "Player value: 17\n",
      "Player Oscar has 2 cards: Seven of spades, King of diamonds\n",
      "Sorry, invalid input. Try again?\n",
      "Sorry, invalid input. Try again?\n"
     ]
    }
   ],
   "source": [
    "game_on = True\n",
    "\n",
    "# create players\n",
    "player = Player(\"Oscar\")\n",
    "dealer = Dealer()\n",
    "\n",
    "round = 1\n",
    "print(f\"Player 1 - {player.name}\")\n",
    "\n",
    "while game_on:\n",
    "    # deal new deck each round\n",
    "    mydeck = Deck()\n",
    "    mydeck.shuffle()\n",
    "\n",
    "    print(\"\\n\")\n",
    "\n",
    "    if round == 1:\n",
    "        # player initialize new round\n",
    "        player.new_round(dealt_cards=deal_cards(2, mydeck))\n",
    "        dealer.new_round(dealt_cards=deal_cards(2, mydeck))\n",
    "    else:\n",
    "        # Show scoreboard\n",
    "        print(f\"Rounds won by {player.name} - {player.rounds_won}\")\n",
    "        print(f\"Rounds won by {dealer.name} - {dealer.rounds_won}\")\n",
    "        # count cumulative money earned by player\n",
    "        cum_money = int(player.money)\n",
    "        # player initialize new round\n",
    "        player.new_round(dealt_cards=deal_cards(2, mydeck), money=cum_money)\n",
    "        dealer.new_round(dealt_cards=deal_cards(2, mydeck))\n",
    "\n",
    "    next_round = False\n",
    "    round_turn = 1\n",
    "    print(\n",
    "        f\"\\nRound - {str(round)}\\nTurn {str(round_turn)} ----------------------------------\"\n",
    "    )\n",
    "\n",
    "    # Choose bet amount\n",
    "    bet_amount = player_bet(player)\n",
    "    print(f\"{bet_amount} is the bet amount variable\")\n",
    "\n",
    "    # Show values\n",
    "    show_values(player, dealer)\n",
    "\n",
    "    while next_round is False:\n",
    "        if round_turn == 1:\n",
    "            choice_turn_1(dealer, player, next_round, mydeck, bet_amount)\n",
    "        else:\n",
    "            choice_turn_conseq(dealer, player, next_round, mydeck)\n",
    "\n",
    "        if next_round is False:\n",
    "            show_values(player, dealer)\n",
    "            print(\"\\nChecking status...\")\n",
    "            print(f\"This is bet amount - {bet_amount}\")\n",
    "            winner, next_round = check_round_status(player, dealer, next_round, bet_amount)\n",
    "            round_turn += 1\n",
    "    round += 1\n",
    "    game_on = check_game_status(player, dealer, game_on)"
   ]
  },
  {
   "cell_type": "code",
   "execution_count": null,
   "metadata": {},
   "outputs": [],
   "source": []
  },
  {
   "cell_type": "code",
   "execution_count": null,
   "metadata": {},
   "outputs": [],
   "source": []
  }
 ],
 "metadata": {
  "kernelspec": {
   "display_name": "Python 3",
   "language": "python",
   "name": "python3"
  },
  "language_info": {
   "codemirror_mode": {
    "name": "ipython",
    "version": 3
   },
   "file_extension": ".py",
   "mimetype": "text/x-python",
   "name": "python",
   "nbconvert_exporter": "python",
   "pygments_lexer": "ipython3",
   "version": "3.11.3"
  }
 },
 "nbformat": 4,
 "nbformat_minor": 1
}
