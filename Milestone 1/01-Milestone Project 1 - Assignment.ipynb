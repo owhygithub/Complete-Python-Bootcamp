{
 "cells": [
  {
   "cell_type": "markdown",
   "metadata": {},
   "source": [
    "___\n",
    "\n",
    "<a href='https://www.udemy.com/user/joseportilla/'><img src='../Pierian_Data_Logo.png'/></a>\n",
    "___\n",
    "<center><em>Content Copyright by Pierian Data</em></center>"
   ]
  },
  {
   "cell_type": "markdown",
   "metadata": {},
   "source": [
    "# Milestone Project 1\n",
    "## Congratulations on making it to your first milestone!\n",
    "You've already learned a ton and are ready to work on a real project.\n",
    "\n",
    "Your assignment: Create a Tic Tac Toe game. You are free to use any IDE you like.\n",
    "\n",
    "Here are the requirements:\n",
    "\n",
    "* 2 players should be able to play the game (both sitting at the same computer)\n",
    "* The board should be printed out every time a player makes a move\n",
    "* You should be able to accept input of the player position and then place a symbol on the board\n",
    "\n",
    "Feel free to use Google to help you figure anything out (but don't just Google \"Tic Tac Toe in Python\" otherwise you won't learn anything!) Keep in mind that this project can take anywhere between several hours to several days.\n",
    "\n",
    "There are 4 Jupyter Notebooks related to this assignment:\n",
    "\n",
    "* This Assignment Notebook\n",
    "* A \"Walkthrough Steps Workbook\" Notebook\n",
    "* A \"Complete Walkthrough Solution\" Notebook\n",
    "* An \"Advanced Solution\" Notebook\n",
    "\n",
    "I encourage you to just try to start the project on your own without referencing any of the notebooks. If you get stuck, check out the next lecture which is a text lecture with helpful hints and steps. If you're still stuck after that, then check out the Walkthrough Steps Workbook, which breaks up the project in steps for you to solve. Still stuck? Then check out the Complete Walkthrough Solution video for more help on approaching the project!"
   ]
  },
  {
   "cell_type": "markdown",
   "metadata": {},
   "source": [
    "There are parts of this that will be a struggle...and that is good! I have complete faith that if you have made it this far through the course you have all the tools and knowledge to tackle this project. Remember, it's totally open book, so take your time, do a little research, and remember:\n",
    "\n",
    "## HAVE FUN!"
   ]
  },
  {
   "cell_type": "markdown",
   "metadata": {},
   "source": [
    "visualize -> ask for input -> change variables -> visualize \n",
    "\n",
    "1. ask for player names\n",
    "2. visualize board\n",
    "3. P1 turn -> ask for position\n",
    "4. verify game status (W/L/D) --> 3 in a row\n",
    "5. visualize P1 move\n",
    "6. P2 turn -> ask for position\n",
    "7. verify game status (W/L/D) --> 3 in a row\n",
    "..."
   ]
  },
  {
   "cell_type": "code",
   "execution_count": 21,
   "metadata": {},
   "outputs": [],
   "source": [
    "from IPython.display import clear_output\n",
    "\n",
    "def initiate_game():\n",
    "    p1 = input(\"Enter name for Player 1: \")\n",
    "    print(f\"Welcome {p1}! You are Player 1\")\n",
    "    p2 = input(\"Enter name for Player 2: \")\n",
    "    print(f\"Welcome {p2}! You are Player 2\")\n",
    "    turn = 1\n",
    "    print(f\"It's {p1}'s turn...\")\n",
    "    return p1, p2, turn\n",
    "\n",
    "def turn_func(turn):\n",
    "    if turn == 1:\n",
    "        turn = 2\n",
    "        print(f\"\\nIt's {p2}'s turn...\")\n",
    "    else:\n",
    "        turn = 1\n",
    "        print(f\"\\nIt's {p1}'s turn...\")\n",
    "    return turn\n",
    "\n",
    "def visualize_board(matrix):\n",
    "    for row in matrix:\n",
    "        print(row)\n",
    "\n",
    "def check_game_status(matrix, turn):\n",
    "    # DRAW\n",
    "    for row in matrix:\n",
    "        for value in row:\n",
    "            if value != \"\":\n",
    "                draw =\n",
    "\n",
    "def player_input(matrix, turn):\n",
    "    if turn == 1:\n",
    "        marker = \"X\"\n",
    "    else:\n",
    "        marker = \"O\"\n",
    "    choice_row = int(input(\"Enter your choice (row): \"))\n",
    "    choice_col = int(input(\"Enter your choice (col): \"))\n",
    "    while choice_row > 2 or choice_col > 2:\n",
    "        print(\"Entered value is incorrect, please enter a value between 0 and 2...\")\n",
    "        choice_row = int(input(\"Enter your choice (row): \"))\n",
    "        choice_col = int(input(\"Enter your choice (col): \"))\n",
    "    matrix[choice_row][choice_col] = marker\n",
    "    visualize_board(matrix)\n",
    "    turn = turn_func(turn)\n",
    "    return matrix, turn"
   ]
  },
  {
   "cell_type": "code",
   "execution_count": 22,
   "metadata": {},
   "outputs": [
    {
     "name": "stdout",
     "output_type": "stream",
     "text": [
      "['', '', '']\n",
      "['', '', '']\n",
      "['', '', '']\n"
     ]
    }
   ],
   "source": [
    "matrix = [[\"\",\"\",\"\"],[\"\",\"\",\"\"],[\"\",\"\",\"\"]]\n",
    "visualize_board(matrix)"
   ]
  },
  {
   "cell_type": "code",
   "execution_count": 24,
   "metadata": {},
   "outputs": [
    {
     "name": "stdout",
     "output_type": "stream",
     "text": [
      "Welcome A! You are Player 1\n",
      "Welcome B! You are Player 2\n",
      "It's A's turn...\n"
     ]
    }
   ],
   "source": [
    "p1, p2, turn = initiate_game()"
   ]
  },
  {
   "cell_type": "code",
   "execution_count": 26,
   "metadata": {},
   "outputs": [
    {
     "name": "stdout",
     "output_type": "stream",
     "text": [
      "['X', '', '']\n",
      "['', '', '']\n",
      "['', '', '']\n",
      "\n",
      "It's B's turn...\n"
     ]
    }
   ],
   "source": [
    "while game_finished is not True:\n",
    "    matrix, turn = player_input(matrix, turn)"
   ]
  },
  {
   "cell_type": "code",
   "execution_count": null,
   "metadata": {},
   "outputs": [],
   "source": []
  }
 ],
 "metadata": {
  "kernelspec": {
   "display_name": "Python 3",
   "language": "python",
   "name": "python3"
  },
  "language_info": {
   "codemirror_mode": {
    "name": "ipython",
    "version": 3
   },
   "file_extension": ".py",
   "mimetype": "text/x-python",
   "name": "python",
   "nbconvert_exporter": "python",
   "pygments_lexer": "ipython3",
   "version": "3.11.3"
  }
 },
 "nbformat": 4,
 "nbformat_minor": 1
}
