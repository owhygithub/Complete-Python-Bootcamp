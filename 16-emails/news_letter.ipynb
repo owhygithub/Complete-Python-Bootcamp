{
 "cells": [
  {
   "cell_type": "markdown",
   "metadata": {},
   "source": [
    "# Python Email Exercise Ideas\n",
    "\n",
    "Since we can't really assess any code that would involve your personal email address, here are some ideas for you to test your new skills. Please keep in mind, we can not assess these."
   ]
  },
  {
   "cell_type": "markdown",
   "metadata": {},
   "source": [
    "\n",
    "## Ideas\n",
    "\n",
    "* Daily Automatic Email Reminder for your Tasks\n",
    "* Webscrape some statistics from a website automatically each day and email them to yourself\n",
    "* Automatically email daily/weekly/monthly reports at your work\n",
    "* Have end of day messages to your friends and family be sent out at random to spread joy\n",
    "* Be creative! Mix together any of the skills you've learned so far with email :)"
   ]
  },
  {
   "cell_type": "markdown",
   "metadata": {},
   "source": [
    "# Podcast Newsletter App"
   ]
  },
  {
   "cell_type": "code",
   "execution_count": null,
   "metadata": {},
   "outputs": [],
   "source": [
    "'''\n",
    "IDEA:\n",
    "\n",
    "- create a Podcast newsletter for headlines from geopolitics, finance, science, tech, and AI.\n",
    "    - websites:\n",
    "        - geopolitics:\n",
    "            - https://www.reuters.com/world/\n",
    "            - https://ground.news/\n",
    "        - finance\n",
    "            - https://www.reuters.com/business/\n",
    "            - https://www.reuters.com/markets/ \n",
    "        - science:\n",
    "            - https://ground.news/interest/science\n",
    "            - https://www.sciencenews.org/\n",
    "        - tech: \n",
    "            - https://www.wired.com/\n",
    "            - https://ground.news/interest/tech\n",
    "        - AI:\n",
    "            - https://ground.news/interest/ai\n",
    "            - https://www.artificialintelligence-news.com/\n",
    "\n",
    "- newsletter that will be sent every second day at 9am (server needed?)\n",
    "- set up server on Google Cloud Run\n",
    "\n",
    "'''"
   ]
  },
  {
   "cell_type": "code",
   "execution_count": null,
   "metadata": {},
   "outputs": [],
   "source": [
    "'''\n",
    "STEPS:\n",
    "\n",
    "1. set up web scraper -> headlines, text\n",
    "2. set up LLM (perplexity) integration -> short explainers for biggest headlines (let it choose which is biggest headline)\n",
    "3. finalize text and add image as part of email\n",
    "4. set up emailing infrastructure\n",
    "5. integrate structure into Cloud Run (Docker)\n",
    "\n",
    "'''"
   ]
  },
  {
   "cell_type": "code",
   "execution_count": null,
   "metadata": {},
   "outputs": [],
   "source": [
    "# TODO add error handling\n",
    "\n",
    "import torch\n",
    "import datetime\n",
    "import random\n",
    "import os\n",
    "import requests\n",
    "import bs4\n",
    "import smtplib\n",
    "import getpass\n",
    "from PIL import Image\n",
    "\n",
    "from huggingface_hub import hf_hub_download\n",
    "from llama_cpp import Llama"
   ]
  },
  {
   "cell_type": "code",
   "execution_count": 5,
   "metadata": {},
   "outputs": [],
   "source": [
    "# - geopolitics:\n",
    "    # - https://www.reuters.com/world/\n",
    "    # - https://ground.news/\n",
    "# - finance\n",
    "    # - https://www.reuters.com/business/\n",
    "    # - https://www.reuters.com/markets/ \n",
    "# - science:\n",
    "    # - https://ground.news/interest/science\n",
    "    # - https://www.sciencenews.org/\n",
    "# - tech: \n",
    "    # - https://www.wired.com/\n",
    "    # - https://ground.news/interest/tech\n",
    "# - AI:\n",
    "    # - https://ground.news/interest/ai\n",
    "    # - https://www.artificialintelligence-news.com/"
   ]
  },
  {
   "cell_type": "code",
   "execution_count": 69,
   "metadata": {},
   "outputs": [],
   "source": [
    "### 1 ### scrape headlines and first few lines\n",
    "\n",
    "# FIX needed?\n",
    "\n",
    "# headlines_and_text = {} # dict for headlines and text\n",
    "categories = ['geopolitics', 'science']\n",
    "# categories = ['geopolitics', 'finance', 'science', 'tech', 'ai']"
   ]
  },
  {
   "cell_type": "code",
   "execution_count": 7,
   "metadata": {},
   "outputs": [],
   "source": [
    "# request websites\n",
    "\n",
    "# TODO use Forbes instead of reuters\n",
    "# reuters_geo = requests.get('https://www.reuters.com/world/')\n",
    "ground_geo = requests.get('https://ground.news/')\n",
    "# reuters_bus = requests.get('https://www.reuters.com/business/')\n",
    "# reuters_fin = requests.get('https://www.reuters.com/markets/')\n",
    "news_sci = requests.get('https://www.sciencenews.org/')\n",
    "ground_sci = requests.get('https://ground.news/interest/science')\n",
    "wired_tech = requests.get('https://www.wired.com/')\n",
    "ground_tech = requests.get('https://ground.news/interest/tech')\n",
    "ground_ai = requests.get('https://ground.news/interest/ai')\n",
    "news_ai = requests.get('https://www.artificialintelligence-news.com/')"
   ]
  },
  {
   "cell_type": "code",
   "execution_count": 38,
   "metadata": {},
   "outputs": [],
   "source": [
    "# function for getting headlines:\n",
    "# TODO add the images\n",
    "# TODO how to get rid of extra symbols in text?\n",
    "\n",
    "def get_headline(request, category, request_2=None):\n",
    "\n",
    "    def get_number_headlines(headlines, category):\n",
    "        mapping = {\n",
    "            \"geopolitics\": 1,\n",
    "            \"finance\": 1,\n",
    "            \"science\" : 1,\n",
    "            \"tech\": 1,\n",
    "            \"ai\": 1\n",
    "        }\n",
    "\n",
    "        n = mapping[category]\n",
    "\n",
    "        return set(random.sample([headline.getText().strip() for headline in headlines], n))\n",
    "\n",
    "    if request_2 is None:\n",
    "        soup = bs4.BeautifulSoup(request.text, 'lxml')\n",
    "        headlines = soup.find_all('h4')\n",
    "\n",
    "        return list(get_number_headlines(headlines, category))\n",
    "    else:\n",
    "        soup_1 = bs4.BeautifulSoup(request.text, 'lxml')\n",
    "        headlines_1 = soup_1.find_all('h4')\n",
    "        headlines_1 = get_number_headlines(headlines_1, category)\n",
    "    \n",
    "        soup_2 = bs4.BeautifulSoup(request_2.text, 'lxml')\n",
    "        headlines_2 = soup_2.find_all('h4')\n",
    "        headlines_2 = get_number_headlines(headlines_2, category)\n",
    "        headlines_1.update(headlines_2)\n",
    "        return list(headlines_1)"
   ]
  },
  {
   "cell_type": "code",
   "execution_count": 39,
   "metadata": {},
   "outputs": [],
   "source": [
    "# getting all headlines\n",
    "\n",
    "headlines_geo = get_headline(ground_geo, \"geopolitics\")\n",
    "headlines_sci = get_headline(ground_sci, \"science\", news_sci)\n",
    "\n",
    "# todo finish all other websites\n"
   ]
  },
  {
   "cell_type": "code",
   "execution_count": 40,
   "metadata": {},
   "outputs": [],
   "source": [
    "mapping_lists = {\n",
    "    \"geopolitics\": headlines_geo,\n",
    "    # \"finance\": headlines_fin,\n",
    "    \"science\": headlines_sci,\n",
    "    # \"tech\": headlines_tech,\n",
    "    # \"ai\": headlines_ai\n",
    "}"
   ]
  },
  {
   "cell_type": "code",
   "execution_count": 43,
   "metadata": {},
   "outputs": [
    {
     "data": {
      "application/vnd.jupyter.widget-view+json": {
       "model_id": "90d15ba43d214a229cf00139085cd051",
       "version_major": 2,
       "version_minor": 0
      },
      "text/plain": [
       "Qwen3-4B.Q4_K_M.gguf:   0%|          | 0.00/2.72G [00:00<?, ?B/s]"
      ]
     },
     "metadata": {},
     "output_type": "display_data"
    }
   ],
   "source": [
    "#### MODEL ####\n",
    "\n",
    "repo_id = \"QuantFactory/Qwen3-4B-GGUF\"\n",
    "filename = \"Qwen3-4B.Q4_K_M.gguf\"  # e.g., Q8_0 for higher quality\n",
    "model_path = hf_hub_download(repo_id=repo_id, filename=filename)"
   ]
  },
  {
   "cell_type": "code",
   "execution_count": 58,
   "metadata": {},
   "outputs": [
    {
     "name": "stderr",
     "output_type": "stream",
     "text": [
      "llama_context: n_ctx_per_seq (8192) < n_ctx_train (40960) -- the full capacity of the model will not be utilized\n",
      "ggml_metal_init: skipping kernel_get_rows_bf16                     (not supported)\n",
      "ggml_metal_init: skipping kernel_set_rows_bf16                     (not supported)\n",
      "ggml_metal_init: skipping kernel_mul_mv_bf16_f32                   (not supported)\n",
      "ggml_metal_init: skipping kernel_mul_mv_bf16_f32_c4                (not supported)\n",
      "ggml_metal_init: skipping kernel_mul_mv_bf16_f32_1row              (not supported)\n",
      "ggml_metal_init: skipping kernel_mul_mv_bf16_f32_l4                (not supported)\n",
      "ggml_metal_init: skipping kernel_mul_mv_bf16_bf16                  (not supported)\n",
      "ggml_metal_init: skipping kernel_mul_mv_id_bf16_f32                (not supported)\n",
      "ggml_metal_init: skipping kernel_mul_mm_bf16_f32                   (not supported)\n",
      "ggml_metal_init: skipping kernel_mul_mm_id_bf16_f16                (not supported)\n",
      "ggml_metal_init: skipping kernel_flash_attn_ext_bf16_h64           (not supported)\n",
      "ggml_metal_init: skipping kernel_flash_attn_ext_bf16_h80           (not supported)\n",
      "ggml_metal_init: skipping kernel_flash_attn_ext_bf16_h96           (not supported)\n",
      "ggml_metal_init: skipping kernel_flash_attn_ext_bf16_h112          (not supported)\n",
      "ggml_metal_init: skipping kernel_flash_attn_ext_bf16_h128          (not supported)\n",
      "ggml_metal_init: skipping kernel_flash_attn_ext_bf16_h192          (not supported)\n",
      "ggml_metal_init: skipping kernel_flash_attn_ext_bf16_hk192_hv128   (not supported)\n",
      "ggml_metal_init: skipping kernel_flash_attn_ext_bf16_h256          (not supported)\n",
      "ggml_metal_init: skipping kernel_flash_attn_ext_bf16_hk576_hv512   (not supported)\n",
      "ggml_metal_init: skipping kernel_flash_attn_ext_vec_bf16_h64       (not supported)\n",
      "ggml_metal_init: skipping kernel_flash_attn_ext_vec_bf16_h96       (not supported)\n",
      "ggml_metal_init: skipping kernel_flash_attn_ext_vec_bf16_h128      (not supported)\n",
      "ggml_metal_init: skipping kernel_flash_attn_ext_vec_bf16_h192      (not supported)\n",
      "ggml_metal_init: skipping kernel_flash_attn_ext_vec_bf16_hk192_hv128 (not supported)\n",
      "ggml_metal_init: skipping kernel_flash_attn_ext_vec_bf16_h256      (not supported)\n",
      "ggml_metal_init: skipping kernel_flash_attn_ext_vec_bf16_hk576_hv512 (not supported)\n",
      "ggml_metal_init: skipping kernel_cpy_f32_bf16                      (not supported)\n",
      "ggml_metal_init: skipping kernel_cpy_bf16_f32                      (not supported)\n",
      "ggml_metal_init: skipping kernel_cpy_bf16_bf16                     (not supported)\n"
     ]
    }
   ],
   "source": [
    "# Plain completion (no chat roles)\n",
    "llm = Llama(\n",
    "    model_path=model_path,\n",
    "    n_ctx=8192,\n",
    "    n_threads=os.cpu_count(),      # use all CPU cores\n",
    "    n_threads_batch=os.cpu_count(),# speed up prompt eval\n",
    "    n_batch=1536,                  # increase prompt batch for faster prefill (tune with VRAM/RAM)\n",
    "    # n_gpu_layers=0,                # set >0 or -1 to offload to GPU if CUDA/Metal build is available\n",
    "    verbose=False,\n",
    ")"
   ]
  },
  {
   "cell_type": "code",
   "execution_count": null,
   "metadata": {},
   "outputs": [],
   "source": [
    "# TODO text must be in HTML\n",
    "\n",
    "def get_newsletter_text(newsletter_text, category):\n",
    "    date = datetime.datetime.now().strftime(\"%B %d, %Y\")\n",
    "    topics = mapping_lists[category]\n",
    "\n",
    "    for topic in topics:\n",
    "        newsletter_text += f\"{topic}\\n\"\n",
    "        # prepare the model input\n",
    "        prompt = f\"\"\"\n",
    "            Write on the news happening today. Topic: {topic}. Category: {category}. Today's date: {date}. \n",
    "            Write exactly six sentences: the first five should cover the news, and the last should explain why it is relevant right now.\n",
    "            Return only the sentences — no introduction, no closing, no extra text, no markdown.\n",
    "        \"\"\"\n",
    "\n",
    "        messages = [\n",
    "            {\"role\": \"system\", \"content\": \"You are a journalist writing a short paragraph for a daily newsletter.\"},\n",
    "            {\"role\": \"user\", \"content\": f\"{prompt}\"},\n",
    "        ]\n",
    "\n",
    "        # print(f'Prompt: {prompt}')\n",
    "\n",
    "        out = llm.create_chat_completion(\n",
    "            messages=messages,\n",
    "            max_tokens=600, # trim for faster return\n",
    "            temperature=0.25,\n",
    "            top_p=0.95,\n",
    "            top_k=40,\n",
    "            stop=[\"</think>\"]\n",
    "        )\n",
    "        print(out[\"choices\"][0][\"message\"][\"content\"])\n",
    "        response = out[\"choices\"][0][\"message\"][\"content\"].strip()\n",
    "\n",
    "        print(f'QWEN: {response}')\n",
    "\n",
    "        newsletter_text += f\"{response}\\n\\n\"\n",
    "\n",
    "    return newsletter_text"
   ]
  },
  {
   "cell_type": "code",
   "execution_count": null,
   "metadata": {},
   "outputs": [
    {
     "name": "stdout",
     "output_type": "stream",
     "text": [
      "Getting text for cat. - geopolitics\n",
      "<think>\n",
      "Okay, the user wants me to write a news paragraph about Trump being impatient with Russia on Ukraine, as per VP Vance. The date is September 26, 2025. They specified exactly four sentences, with the first three covering the news and the fourth explaining relevance.\n",
      "\n",
      "First, I need to confirm the key points: Trump's impatience, VP Vance's statement, and the context of the Ukraine-Russia situation. I should start by stating the main news, then mention the source (VP Vance), then the implications. The fourth sentence should tie it to current relevance, maybe linking to ongoing tensions or the importance of U.S.-Russia relations.\n",
      "\n",
      "Wait, the user mentioned \"geopolitics\" as the category. So I need to ensure the sentences are concise and fit into that category. Also, the user wants only the sentences, no extra text. Let me check if I have the correct date and that the statements are accurate. Maybe mention the specific actions Trump is taking, like pushing for military aid or sanctions. Also, the relevance could be about the current state of the conflict and how U.S. policy affects it. Need to make sure each sentence is clear and directly addresses the topic without fluff.\n",
      "</think>\n",
      "\n",
      "VP Vance said Trump is \"incredibly impatient\" with Russia on Ukraine, criticizing the administration's approach to diplomatic efforts. The statement comes as tensions rise over Russia's ongoing military actions in Ukraine and the U.S. response to Moscow's actions. Vance emphasized the need for a more strategic and sustained approach to pressure Russia. This dynamic highlights the growing strain on U.S.-Russia relations amid escalating conflict and global security concerns.\n",
      "QWEN: <think>\n",
      "Okay, the user wants me to write a news paragraph about Trump being impatient with Russia on Ukraine, as per VP Vance. The date is September 26, 2025. They specified exactly four sentences, with the first three covering the news and the fourth explaining relevance.\n",
      "\n",
      "First, I need to confirm the key points: Trump's impatience, VP Vance's statement, and the context of the Ukraine-Russia situation. I should start by stating the main news, then mention the source (VP Vance), then the implications. The fourth sentence should tie it to current relevance, maybe linking to ongoing tensions or the importance of U.S.-Russia relations.\n",
      "\n",
      "Wait, the user mentioned \"geopolitics\" as the category. So I need to ensure the sentences are concise and fit into that category. Also, the user wants only the sentences, no extra text. Let me check if I have the correct date and that the statements are accurate. Maybe mention the specific actions Trump is taking, like pushing for military aid or sanctions. Also, the relevance could be about the current state of the conflict and how U.S. policy affects it. Need to make sure each sentence is clear and directly addresses the topic without fluff.\n",
      "</think>\n",
      "\n",
      "VP Vance said Trump is \"incredibly impatient\" with Russia on Ukraine, criticizing the administration's approach to diplomatic efforts. The statement comes as tensions rise over Russia's ongoing military actions in Ukraine and the U.S. response to Moscow's actions. Vance emphasized the need for a more strategic and sustained approach to pressure Russia. This dynamic highlights the growing strain on U.S.-Russia relations amid escalating conflict and global security concerns.\n",
      "text after:\n",
      "\n",
      "Welcome to the daily newsletter from the Do You Belong? Podcast!\n",
      "We provide you daily with the freshest and most interesting news from politics, finance, science, technology, and AI. No need to be bored or doomscrolling on your ride to work, check out the newsletter!\n",
      "\n",
      "GEOPOLITICS\n",
      "\n",
      "Trump 'incredibly impatient' with Russia on Ukraine, VP Vance says\n",
      "<think>\n",
      "Okay, the user wants me to write a news paragraph about Trump being impatient with Russia on Ukraine, as per VP Vance. The date is September 26, 2025. They specified exactly four sentences, with the first three covering the news and the fourth explaining relevance.\n",
      "\n",
      "First, I need to confirm the key points: Trump's impatience, VP Vance's statement, and the context of the Ukraine-Russia situation. I should start by stating the main news, then mention the source (VP Vance), then the implications. The fourth sentence should tie it to current relevance, maybe linking to ongoing tensions or the importance of U.S.-Russia relations.\n",
      "\n",
      "Wait, the user mentioned \"geopolitics\" as the category. So I need to ensure the sentences are concise and fit into that category. Also, the user wants only the sentences, no extra text. Let me check if I have the correct date and that the statements are accurate. Maybe mention the specific actions Trump is taking, like pushing for military aid or sanctions. Also, the relevance could be about the current state of the conflict and how U.S. policy affects it. Need to make sure each sentence is clear and directly addresses the topic without fluff.\n",
      "</think>\n",
      "\n",
      "VP Vance said Trump is \"incredibly impatient\" with Russia on Ukraine, criticizing the administration's approach to diplomatic efforts. The statement comes as tensions rise over Russia's ongoing military actions in Ukraine and the U.S. response to Moscow's actions. Vance emphasized the need for a more strategic and sustained approach to pressure Russia. This dynamic highlights the growing strain on U.S.-Russia relations amid escalating conflict and global security concerns.\n",
      "\n",
      "\n",
      "Getting text for cat. - science\n",
      "<think>\n",
      "Okay, the user wants me to write a news paragraph about a sixth mass extinction, but some scientists say not so fast. The date is September 26, 2025. It needs to be exactly four sentences, with the first three covering the news and the fourth explaining relevance.\n",
      "\n",
      "First, I need to confirm the main points. The topic is that some scientists are challenging the idea of a sixth mass extinction. So the first sentence should state that scientists are debating this. The second sentence should mention the evidence they're citing, like biodiversity loss and human impact. The third sentence could talk about the debate's implications, maybe conflicting findings. The fourth sentence needs to connect it to current relevance, perhaps climate change or conservation efforts.\n",
      "\n",
      "Wait, the user specified \"not so fast, some scientists say.\" So the first sentence should introduce that. Then the second sentence could explain the arguments against it. The third sentence might mention the conflicting data. The fourth sentence should tie it to current issues, like climate change or policy decisions. Need to make sure each sentence is concise and fits the four-sentence requirement. Also, avoid any markdown and just the sentences. Let me check the example response to ensure I'm following the structure. Yes, the example starts with the debate, then the evidence, then the conflicting findings, and ends with relevance. That's the structure I need to follow.\n",
      "</think>\n",
      "\n",
      "Scientists are debating whether Earth is on the brink of a sixth mass extinction, with some arguing that current biodiversity loss doesn’t match the rapid pace of past extinctions. Others point to human-driven factors like habitat destruction and climate change as key drivers of species decline. However, recent studies suggest the evidence remains inconclusive, with conflicting data on extinction rates and ecological resilience. This debate is critical as global efforts to protect ecosystems face new challenges from accelerating environmental changes.\n",
      "QWEN: <think>\n",
      "Okay, the user wants me to write a news paragraph about a sixth mass extinction, but some scientists say not so fast. The date is September 26, 2025. It needs to be exactly four sentences, with the first three covering the news and the fourth explaining relevance.\n",
      "\n",
      "First, I need to confirm the main points. The topic is that some scientists are challenging the idea of a sixth mass extinction. So the first sentence should state that scientists are debating this. The second sentence should mention the evidence they're citing, like biodiversity loss and human impact. The third sentence could talk about the debate's implications, maybe conflicting findings. The fourth sentence needs to connect it to current relevance, perhaps climate change or conservation efforts.\n",
      "\n",
      "Wait, the user specified \"not so fast, some scientists say.\" So the first sentence should introduce that. Then the second sentence could explain the arguments against it. The third sentence might mention the conflicting data. The fourth sentence should tie it to current issues, like climate change or policy decisions. Need to make sure each sentence is concise and fits the four-sentence requirement. Also, avoid any markdown and just the sentences. Let me check the example response to ensure I'm following the structure. Yes, the example starts with the debate, then the evidence, then the conflicting findings, and ends with relevance. That's the structure I need to follow.\n",
      "</think>\n",
      "\n",
      "Scientists are debating whether Earth is on the brink of a sixth mass extinction, with some arguing that current biodiversity loss doesn’t match the rapid pace of past extinctions. Others point to human-driven factors like habitat destruction and climate change as key drivers of species decline. However, recent studies suggest the evidence remains inconclusive, with conflicting data on extinction rates and ecological resilience. This debate is critical as global efforts to protect ecosystems face new challenges from accelerating environmental changes.\n",
      "<think>\n",
      "Okay, the user wants me to write a news paragraph for a daily newsletter. The topic is the price increase for H1-B visa applications and how it's affecting international students. The category is science, but I need to make sure that's covered. The date is September 26, 2025. They specified exactly four sentences: first three as the news, fourth as the relevance.\n",
      "\n",
      "First, I need to state the main news. The H1-B visa application fees have gone up. Then, mention the impact on international students, maybe how it's making it harder for them to get visas. Next, perhaps include the reason for the increase, like administrative costs or policy changes. The fourth sentence should explain why this is relevant now, maybe in the context of the current academic and job market situation.\n",
      "\n",
      "Wait, the user said the category is science. Maybe I should link it to STEM fields or research? Or maybe the increase is related to a new policy in the science sector? Hmm, not sure. The user might have a specific angle in mind. But the main point is the price increase and its effect on students. I need to make sure the sentences are concise and each part is covered. Also, check that there's no markdown and only four sentences. Let me structure each sentence step by step to meet the requirements.\n",
      "</think>\n",
      "\n",
      "The U.S. government has raised the fee for H1-B visa applications, prompting concerns among international students seeking to work in STEM fields. The increase, effective September 26, 2025, adds financial pressure to already competitive application processes. Experts warn that higher costs could limit opportunities for non-citizen graduates, particularly in tech and research sectors. This development highlights ongoing challenges in balancing immigration policy with the needs of global talent in science and innovation.\n",
      "QWEN: <think>\n",
      "Okay, the user wants me to write a news paragraph for a daily newsletter. The topic is the price increase for H1-B visa applications and how it's affecting international students. The category is science, but I need to make sure that's covered. The date is September 26, 2025. They specified exactly four sentences: first three as the news, fourth as the relevance.\n",
      "\n",
      "First, I need to state the main news. The H1-B visa application fees have gone up. Then, mention the impact on international students, maybe how it's making it harder for them to get visas. Next, perhaps include the reason for the increase, like administrative costs or policy changes. The fourth sentence should explain why this is relevant now, maybe in the context of the current academic and job market situation.\n",
      "\n",
      "Wait, the user said the category is science. Maybe I should link it to STEM fields or research? Or maybe the increase is related to a new policy in the science sector? Hmm, not sure. The user might have a specific angle in mind. But the main point is the price increase and its effect on students. I need to make sure the sentences are concise and each part is covered. Also, check that there's no markdown and only four sentences. Let me structure each sentence step by step to meet the requirements.\n",
      "</think>\n",
      "\n",
      "The U.S. government has raised the fee for H1-B visa applications, prompting concerns among international students seeking to work in STEM fields. The increase, effective September 26, 2025, adds financial pressure to already competitive application processes. Experts warn that higher costs could limit opportunities for non-citizen graduates, particularly in tech and research sectors. This development highlights ongoing challenges in balancing immigration policy with the needs of global talent in science and innovation.\n",
      "text after:\n",
      "\n",
      "Welcome to the daily newsletter from the Do You Belong? Podcast!\n",
      "We provide you daily with the freshest and most interesting news from politics, finance, science, technology, and AI. No need to be bored or doomscrolling on your ride to work, check out the newsletter!\n",
      "\n",
      "GEOPOLITICS\n",
      "\n",
      "Trump 'incredibly impatient' with Russia on Ukraine, VP Vance says\n",
      "<think>\n",
      "Okay, the user wants me to write a news paragraph about Trump being impatient with Russia on Ukraine, as per VP Vance. The date is September 26, 2025. They specified exactly four sentences, with the first three covering the news and the fourth explaining relevance.\n",
      "\n",
      "First, I need to confirm the key points: Trump's impatience, VP Vance's statement, and the context of the Ukraine-Russia situation. I should start by stating the main news, then mention the source (VP Vance), then the implications. The fourth sentence should tie it to current relevance, maybe linking to ongoing tensions or the importance of U.S.-Russia relations.\n",
      "\n",
      "Wait, the user mentioned \"geopolitics\" as the category. So I need to ensure the sentences are concise and fit into that category. Also, the user wants only the sentences, no extra text. Let me check if I have the correct date and that the statements are accurate. Maybe mention the specific actions Trump is taking, like pushing for military aid or sanctions. Also, the relevance could be about the current state of the conflict and how U.S. policy affects it. Need to make sure each sentence is clear and directly addresses the topic without fluff.\n",
      "</think>\n",
      "\n",
      "VP Vance said Trump is \"incredibly impatient\" with Russia on Ukraine, criticizing the administration's approach to diplomatic efforts. The statement comes as tensions rise over Russia's ongoing military actions in Ukraine and the U.S. response to Moscow's actions. Vance emphasized the need for a more strategic and sustained approach to pressure Russia. This dynamic highlights the growing strain on U.S.-Russia relations amid escalating conflict and global security concerns.\n",
      "\n",
      "\n",
      "\n",
      "SCIENCE\n",
      "\n",
      "A sixth mass extinction? Not so fast, some scientists say\n",
      "<think>\n",
      "Okay, the user wants me to write a news paragraph about a sixth mass extinction, but some scientists say not so fast. The date is September 26, 2025. It needs to be exactly four sentences, with the first three covering the news and the fourth explaining relevance.\n",
      "\n",
      "First, I need to confirm the main points. The topic is that some scientists are challenging the idea of a sixth mass extinction. So the first sentence should state that scientists are debating this. The second sentence should mention the evidence they're citing, like biodiversity loss and human impact. The third sentence could talk about the debate's implications, maybe conflicting findings. The fourth sentence needs to connect it to current relevance, perhaps climate change or conservation efforts.\n",
      "\n",
      "Wait, the user specified \"not so fast, some scientists say.\" So the first sentence should introduce that. Then the second sentence could explain the arguments against it. The third sentence might mention the conflicting data. The fourth sentence should tie it to current issues, like climate change or policy decisions. Need to make sure each sentence is concise and fits the four-sentence requirement. Also, avoid any markdown and just the sentences. Let me check the example response to ensure I'm following the structure. Yes, the example starts with the debate, then the evidence, then the conflicting findings, and ends with relevance. That's the structure I need to follow.\n",
      "</think>\n",
      "\n",
      "Scientists are debating whether Earth is on the brink of a sixth mass extinction, with some arguing that current biodiversity loss doesn’t match the rapid pace of past extinctions. Others point to human-driven factors like habitat destruction and climate change as key drivers of species decline. However, recent studies suggest the evidence remains inconclusive, with conflicting data on extinction rates and ecological resilience. This debate is critical as global efforts to protect ecosystems face new challenges from accelerating environmental changes.\n",
      "\n",
      "Price Increase for H1-B Visa Applications Sparks Concern Among International Students\n",
      "<think>\n",
      "Okay, the user wants me to write a news paragraph for a daily newsletter. The topic is the price increase for H1-B visa applications and how it's affecting international students. The category is science, but I need to make sure that's covered. The date is September 26, 2025. They specified exactly four sentences: first three as the news, fourth as the relevance.\n",
      "\n",
      "First, I need to state the main news. The H1-B visa application fees have gone up. Then, mention the impact on international students, maybe how it's making it harder for them to get visas. Next, perhaps include the reason for the increase, like administrative costs or policy changes. The fourth sentence should explain why this is relevant now, maybe in the context of the current academic and job market situation.\n",
      "\n",
      "Wait, the user said the category is science. Maybe I should link it to STEM fields or research? Or maybe the increase is related to a new policy in the science sector? Hmm, not sure. The user might have a specific angle in mind. But the main point is the price increase and its effect on students. I need to make sure the sentences are concise and each part is covered. Also, check that there's no markdown and only four sentences. Let me structure each sentence step by step to meet the requirements.\n",
      "</think>\n",
      "\n",
      "The U.S. government has raised the fee for H1-B visa applications, prompting concerns among international students seeking to work in STEM fields. The increase, effective September 26, 2025, adds financial pressure to already competitive application processes. Experts warn that higher costs could limit opportunities for non-citizen graduates, particularly in tech and research sectors. This development highlights ongoing challenges in balancing immigration policy with the needs of global talent in science and innovation.\n",
      "\n",
      "\n"
     ]
    }
   ],
   "source": [
    "# TODO text must be in HTML\n",
    "newsletter_text = \"Welcome to the daily newsletter from the Do You Belong? Podcast!\\nWe provide you daily with the freshest and most interesting news from politics, finance, science, technology, and AI. No need to be bored or doomscrolling on your ride to work, check out the newsletter!\"\n",
    "\n",
    "for category in categories:\n",
    "    print(f\"Getting text for cat. - {category}\")\n",
    "    newsletter_text += f\"\\n\\n{category.upper()}\\n\\n\"\n",
    "    newsletter_text = get_newsletter_text(newsletter_text, category)\n",
    "    print(f\"text after:\\n\\n{newsletter_text}\")\n"
   ]
  },
  {
   "cell_type": "code",
   "execution_count": null,
   "metadata": {},
   "outputs": [],
   "source": [
    "#### EMAILING ARCHITECTURE ####\n",
    "\n",
    "import stmplib\n",
    "import getpass # FIX in cloud will use native passwords"
   ]
  },
  {
   "cell_type": "code",
   "execution_count": null,
   "metadata": {},
   "outputs": [],
   "source": [
    "stmp_object = stmplib.STMP('stmp.gmail.com', 587)"
   ]
  },
  {
   "cell_type": "code",
   "execution_count": null,
   "metadata": {},
   "outputs": [],
   "source": [
    "# initializing server and connection\n",
    "stmp_object.ehlo()\n",
    "\n",
    "# init security (handshake) and auth layer TLS\n",
    "stmp_object.starttls()"
   ]
  },
  {
   "cell_type": "code",
   "execution_count": null,
   "metadata": {},
   "outputs": [],
   "source": [
    "email = getpass.getpass(\"Enter your email: \")\n",
    "password = getpass.getpass(\"Enter your password: \")\n",
    "\n",
    "smtp_object.login(email,password)"
   ]
  },
  {
   "cell_type": "code",
   "execution_count": null,
   "metadata": {},
   "outputs": [],
   "source": [
    "from_address = getpass.getpass(\"Enter your email: \")\n",
    "to_address = getpass.getpass(\"Enter the email of the recipient: \")\n",
    "\n",
    "date = datetime.datetime.now().strftime('%B %d, %Y')\n",
    "\n",
    "subject = f\"Do You Belong? Newsletter - {date}\"\n",
    "\n",
    "# TODO convert text into email message\n",
    "message = input(\"Type out the message you want to send: \")\n",
    "msg = \"Subject: \" + subject + '\\n' + message\n",
    "smtp_object.sendmail(from_address,to_address,msg)"
   ]
  },
  {
   "cell_type": "code",
   "execution_count": null,
   "metadata": {},
   "outputs": [],
   "source": [
    "smtp_object.quit()"
   ]
  }
 ],
 "metadata": {
  "kernelspec": {
   "display_name": "Python 3",
   "language": "python",
   "name": "python3"
  },
  "language_info": {
   "codemirror_mode": {
    "name": "ipython",
    "version": 3
   },
   "file_extension": ".py",
   "mimetype": "text/x-python",
   "name": "python",
   "nbconvert_exporter": "python",
   "pygments_lexer": "ipython3",
   "version": "3.12.0"
  }
 },
 "nbformat": 4,
 "nbformat_minor": 2
}
