{
 "cells": [
  {
   "cell_type": "markdown",
   "metadata": {},
   "source": [
    "___\n",
    "\n",
    "<a href='https://www.udemy.com/user/joseportilla/'><img src='../Pierian_Data_Logo.png'/></a>\n",
    "___\n",
    "<center><em>Content Copyright by Pierian Data</em></center>"
   ]
  },
  {
   "cell_type": "markdown",
   "metadata": {},
   "source": [
    "# Milestone Project 2 - Blackjack Game\n",
    "In this milestone project you will be creating a Complete BlackJack Card Game in Python.\n",
    "\n",
    "Here are the requirements:\n",
    "\n",
    "* You need to create a simple text-based [BlackJack](https://en.wikipedia.org/wiki/Blackjack) game\n",
    "* The game needs to have one player versus an automated dealer.\n",
    "* The player can stand or hit.\n",
    "* The player must be able to pick their betting amount.\n",
    "* You need to keep track of the player's total money.\n",
    "* You need to alert the player of wins, losses, or busts, etc...\n",
    "\n",
    "And most importantly:\n",
    "\n",
    "* **You must use OOP and classes in some portion of your game. You can not just use functions in your game. Use classes to help you define the Deck and the Player's hand. There are many right ways to do this, so explore it well!**\n",
    "\n",
    "\n",
    "Feel free to expand this game. Try including multiple players. Try adding in Double-Down and card splits! Remember to you are free to use any resources you want and as always:\n",
    "\n",
    "# HAVE FUN!"
   ]
  },
  {
   "cell_type": "markdown",
   "metadata": {},
   "source": [
    "# RULES"
   ]
  },
  {
   "cell_type": "code",
   "execution_count": 30,
   "metadata": {},
   "outputs": [
    {
     "data": {
      "text/plain": [
       "\"\\nRules:\\n\\nHand cannot total > 21 = BUST\\nObjective = higher number than dealer's hand\\nCards = JQK = 10 , ACE = 1 or 11\\n\\n1. Place a bet (everyone besides the dealer)\\n2. 1 Card dealt face up\\n3. 1 more card face up to all players & 1 card face down for dealer\\n4. If initially your cards = 21 --> you win and get 1.5x initial bet\\n    Once you see your cards, you can DOUBLE bet\\n5. Dealer asks if you want another card from top of deck\\n6. If you want a card = HIT\\n7. If you don't want a card = last round\\n8. Dealer reveals their card\\n9. If dealer's cards <= 16, they must take another card\\n10. If >= 17, they stay\\n11. If dealer BUSTS = everyone in the round wins 2x bet\\n12. If dealer doesn't BUST = only the player with higher number than dealer gets 2x bet\\n13. If dealer = player --> Nobody wins\\n14. Otherwise, lose bet to Dealer\\n\""
      ]
     },
     "execution_count": 30,
     "metadata": {},
     "output_type": "execute_result"
    }
   ],
   "source": [
    "\"\"\"\n",
    "Rules:\n",
    "\n",
    "Hand cannot total > 21 = BUST\n",
    "Objective = higher number than dealer's hand\n",
    "Cards = JQK = 10 , ACE = 1 or 11\n",
    "\n",
    "1. Place a bet (everyone besides the dealer)\n",
    "2. 1 Card dealt face up\n",
    "3. 1 more card face up to all players & 1 card face down for dealer\n",
    "4. If initially your cards = 21 --> you win and get 1.5x initial bet\n",
    "    Once you see your cards, you can DOUBLE bet\n",
    "5. Dealer asks if you want another card from top of deck\n",
    "6. If you want a card = HIT\n",
    "7. If you don't want a card = last round\n",
    "8. Dealer reveals their card\n",
    "9. If dealer's cards <= 16, they must take another card\n",
    "10. If >= 17, they stay\n",
    "11. If dealer BUSTS = everyone in the round wins 2x bet\n",
    "12. If dealer doesn't BUST = only the player with higher number than dealer gets 2x bet\n",
    "13. If dealer = player --> Nobody wins\n",
    "14. Otherwise, lose bet to Dealer\n",
    "\"\"\""
   ]
  },
  {
   "cell_type": "code",
   "execution_count": 31,
   "metadata": {},
   "outputs": [],
   "source": [
    "import random"
   ]
  },
  {
   "cell_type": "markdown",
   "metadata": {},
   "source": [
    "# CARDS"
   ]
  },
  {
   "cell_type": "code",
   "execution_count": 32,
   "metadata": {},
   "outputs": [],
   "source": [
    "ranks = [\"Ace\", \"Two\", \"Three\", \"Four\", \"Five\", \"Six\", \"Seven\", \"Eight\", \"Nine\", \"Ten\", \n",
    "         \"Jack\", \"Queen\", \"King\"]\n",
    "\n",
    "suits = [\"hearts\", \"clubs\", \"diamonds\", \"spades\"]\n",
    "\n",
    "values = {\"Ace\":1, \"Two\":2, \"Three\":3, \"Four\":4, \"Five\":5, \"Six\":6, \"Seven\":7, \"Eight\":8, \n",
    "         \"Nine\":9, \"Ten\":10, \"Jack\":10, \"Queen\":10, \"King\":10}"
   ]
  },
  {
   "cell_type": "code",
   "execution_count": 33,
   "metadata": {},
   "outputs": [],
   "source": [
    "class Card:\n",
    "\n",
    "    def __init__(self,suit,rank):\n",
    "        self.suit = suit\n",
    "        self.rank = rank\n",
    "        self.value = values[rank]\n",
    "        \n",
    "    def __str__(self): # has to return \n",
    "        return self.rank + ' of ' + self.suit"
   ]
  },
  {
   "cell_type": "code",
   "execution_count": 34,
   "metadata": {},
   "outputs": [],
   "source": [
    "mycard = Card(\"Hearts\", \"Two\")"
   ]
  },
  {
   "cell_type": "code",
   "execution_count": 35,
   "metadata": {},
   "outputs": [],
   "source": [
    "mycard2 = Card(suits[0], ranks[0])"
   ]
  },
  {
   "cell_type": "code",
   "execution_count": 36,
   "metadata": {},
   "outputs": [
    {
     "data": {
      "text/plain": [
       "2"
      ]
     },
     "execution_count": 36,
     "metadata": {},
     "output_type": "execute_result"
    }
   ],
   "source": [
    "mycard.value"
   ]
  },
  {
   "cell_type": "code",
   "execution_count": 37,
   "metadata": {},
   "outputs": [
    {
     "name": "stdout",
     "output_type": "stream",
     "text": [
      "Ace of hearts\n"
     ]
    }
   ],
   "source": [
    "print(mycard2)"
   ]
  },
  {
   "cell_type": "markdown",
   "metadata": {},
   "source": [
    "# DECK"
   ]
  },
  {
   "cell_type": "code",
   "execution_count": 38,
   "metadata": {},
   "outputs": [],
   "source": [
    "class Deck:\n",
    "    \n",
    "    def __init__(self):\n",
    "        # Note this only happens once upon creation of a new Deck\n",
    "        self.all_cards = [] \n",
    "        for rank in ranks:\n",
    "            for suit in suits:\n",
    "                # This assumes the Card class has already been defined!\n",
    "                self.all_cards.append(Card(suit,rank))\n",
    "        print(\"New deck created...\")\n",
    "\n",
    "    def shuffle(self):\n",
    "        # Note this doesn't return anything\n",
    "        random.shuffle(self.all_cards)\n",
    "        print(\"Deck shuffled...\")\n",
    "        \n",
    "    def deal_one(self):\n",
    "        # Note we remove one card from the list of all_cards\n",
    "        return self.all_cards.pop()\n",
    "\n",
    "    def __str__(self):\n",
    "        card_str = \"\"\n",
    "        for card in self.all_cards:\n",
    "            card_str += str(card) + \"\\n\"\n",
    "        return card_str"
   ]
  },
  {
   "cell_type": "code",
   "execution_count": 39,
   "metadata": {},
   "outputs": [
    {
     "name": "stdout",
     "output_type": "stream",
     "text": [
      "New deck created...\n"
     ]
    }
   ],
   "source": [
    "mydeck = Deck()"
   ]
  },
  {
   "cell_type": "code",
   "execution_count": 40,
   "metadata": {},
   "outputs": [
    {
     "name": "stdout",
     "output_type": "stream",
     "text": [
      "Ace of hearts\n"
     ]
    }
   ],
   "source": [
    "print(mydeck.all_cards[0])"
   ]
  },
  {
   "cell_type": "code",
   "execution_count": 41,
   "metadata": {},
   "outputs": [
    {
     "name": "stdout",
     "output_type": "stream",
     "text": [
      "Deck shuffled...\n"
     ]
    }
   ],
   "source": [
    "mydeck.shuffle()"
   ]
  },
  {
   "cell_type": "code",
   "execution_count": 42,
   "metadata": {},
   "outputs": [
    {
     "name": "stdout",
     "output_type": "stream",
     "text": [
      "Ten of clubs\n",
      "Ace of clubs\n",
      "Nine of spades\n",
      "King of hearts\n",
      "Two of hearts\n",
      "Four of clubs\n",
      "Five of hearts\n",
      "Queen of diamonds\n",
      "Two of diamonds\n",
      "Three of hearts\n",
      "King of clubs\n",
      "Eight of clubs\n",
      "Nine of clubs\n",
      "Seven of clubs\n",
      "Four of hearts\n",
      "Three of spades\n",
      "Jack of diamonds\n",
      "Jack of clubs\n",
      "Six of spades\n",
      "Six of diamonds\n",
      "Eight of hearts\n",
      "Ten of diamonds\n",
      "Jack of spades\n",
      "Three of diamonds\n",
      "Seven of hearts\n",
      "Ten of hearts\n",
      "Seven of spades\n",
      "Four of spades\n",
      "Jack of hearts\n",
      "Ten of spades\n",
      "Six of clubs\n",
      "Nine of diamonds\n",
      "Queen of spades\n",
      "Five of clubs\n",
      "Five of spades\n",
      "Eight of spades\n",
      "King of diamonds\n",
      "Ace of hearts\n",
      "Four of diamonds\n",
      "Seven of diamonds\n",
      "Ace of diamonds\n",
      "Five of diamonds\n",
      "Two of spades\n",
      "Queen of hearts\n",
      "Six of hearts\n",
      "Queen of clubs\n",
      "Ace of spades\n",
      "Three of clubs\n",
      "King of spades\n",
      "Eight of diamonds\n",
      "Two of clubs\n",
      "Nine of hearts\n",
      "\n"
     ]
    }
   ],
   "source": [
    "print(mydeck)"
   ]
  },
  {
   "cell_type": "code",
   "execution_count": 43,
   "metadata": {},
   "outputs": [
    {
     "name": "stdout",
     "output_type": "stream",
     "text": [
      "52\n"
     ]
    }
   ],
   "source": [
    "print(len(mydeck.all_cards))"
   ]
  },
  {
   "cell_type": "code",
   "execution_count": 44,
   "metadata": {},
   "outputs": [
    {
     "name": "stdout",
     "output_type": "stream",
     "text": [
      "Ten of clubs\n"
     ]
    }
   ],
   "source": [
    "print(mydeck.all_cards[0])"
   ]
  },
  {
   "cell_type": "code",
   "execution_count": 45,
   "metadata": {},
   "outputs": [
    {
     "name": "stdout",
     "output_type": "stream",
     "text": [
      "Ten of clubs\n",
      "Ace of clubs\n",
      "Nine of spades\n",
      "King of hearts\n",
      "Two of hearts\n",
      "Four of clubs\n",
      "Five of hearts\n",
      "Queen of diamonds\n",
      "Two of diamonds\n",
      "Three of hearts\n",
      "King of clubs\n",
      "Eight of clubs\n",
      "Nine of clubs\n",
      "Seven of clubs\n",
      "Four of hearts\n",
      "Three of spades\n",
      "Jack of diamonds\n",
      "Jack of clubs\n",
      "Six of spades\n",
      "Six of diamonds\n",
      "Eight of hearts\n",
      "Ten of diamonds\n",
      "Jack of spades\n",
      "Three of diamonds\n",
      "Seven of hearts\n",
      "Ten of hearts\n",
      "Seven of spades\n",
      "Four of spades\n",
      "Jack of hearts\n",
      "Ten of spades\n",
      "Six of clubs\n",
      "Nine of diamonds\n",
      "Queen of spades\n",
      "Five of clubs\n",
      "Five of spades\n",
      "Eight of spades\n",
      "King of diamonds\n",
      "Ace of hearts\n",
      "Four of diamonds\n",
      "Seven of diamonds\n",
      "Ace of diamonds\n",
      "Five of diamonds\n",
      "Two of spades\n",
      "Queen of hearts\n",
      "Six of hearts\n",
      "Queen of clubs\n",
      "Ace of spades\n",
      "Three of clubs\n",
      "King of spades\n",
      "Eight of diamonds\n",
      "Two of clubs\n",
      "Nine of hearts\n",
      "\n"
     ]
    }
   ],
   "source": [
    "print(mydeck)"
   ]
  },
  {
   "cell_type": "code",
   "execution_count": 46,
   "metadata": {},
   "outputs": [],
   "source": [
    "card_dealt = mydeck.deal_one()"
   ]
  },
  {
   "cell_type": "code",
   "execution_count": 47,
   "metadata": {},
   "outputs": [
    {
     "name": "stdout",
     "output_type": "stream",
     "text": [
      "Nine of hearts\n"
     ]
    }
   ],
   "source": [
    "print(card_dealt)"
   ]
  },
  {
   "cell_type": "markdown",
   "metadata": {},
   "source": [
    "# PLAYER"
   ]
  },
  {
   "cell_type": "code",
   "execution_count": 48,
   "metadata": {},
   "outputs": [],
   "source": [
    "class Player:\n",
    "\n",
    "    def __init__(self, name, dealt_cards, money=1000):\n",
    "        self.name = name\n",
    "        self.money = money\n",
    "        self.cards = []\n",
    "        self.cards.extend(dealt_cards)\n",
    "        self.value = 0\n",
    "        for card in self.cards:\n",
    "            self.value += card.value\n",
    "\n",
    "    def bet(self, amount):\n",
    "        self.money -= amount\n",
    "        print(f\"Bet placed: {amount}\\nRemaining Money: {self.money}.\")\n",
    "        \n",
    "    def hit(self, new_card):\n",
    "        self.cards.append(new_card) # put at the back of the deck\n",
    "\n",
    "    def loss(self, loss):\n",
    "        loss = int(loss)\n",
    "        self.value -= loss\n",
    "        print(str(self.value))\n",
    "\n",
    "    def win(self, win):\n",
    "        win = int(win)\n",
    "        self.value += win\n",
    "        print(str(self.value))\n",
    "\n",
    "    def double(self, bet_amount):\n",
    "        bet_amount = int(bet_amount)\n",
    "        self.money -= bet_amount\n",
    "        bet_amount *= 2\n",
    "        self.bet(bet_amount)\n",
    "\n",
    "    def __str__(self):\n",
    "        card_strings = [f'{card.rank} of {card.suit}' for card in self.cards]\n",
    "        return f'Player {self.name} has {len(self.cards)} cards: {\", \".join(card_strings)}'"
   ]
  },
  {
   "cell_type": "code",
   "execution_count": 49,
   "metadata": {},
   "outputs": [],
   "source": [
    "class Dealer:\n",
    "\n",
    "    def __init__(self, dealt_cards, name=\"Dealer\"):\n",
    "        self.name = name\n",
    "        self.cards = []\n",
    "        self.cards.extend(dealt_cards)\n",
    "        self.value = 0\n",
    "        for card in self.cards:\n",
    "            self.value += card.value\n",
    "\n",
    "    def hit(self, new_card):\n",
    "        self.cards.append(new_card) # put at the back of the deck\n",
    "\n",
    "    def show_all_cards(self):\n",
    "        card_strings = [f'{card.rank} of {card.suit}' for card in self.cards]\n",
    "        return f'Dealer {self.name} has {len(self.cards)} cards: {\", \".join(card_strings)}'\n",
    "\n",
    "    def __str__(self):\n",
    "        card_strings = [f'{card.rank} of {card.suit}' for card in self.cards]\n",
    "        return f'Dealer has {len(self.cards)} cards: UNKNOWN and {card_strings[1]}'"
   ]
  },
  {
   "cell_type": "code",
   "execution_count": 50,
   "metadata": {},
   "outputs": [],
   "source": [
    "def deal_cards(amount):\n",
    "    dealt_cards = []\n",
    "    for x in range(0,amount):\n",
    "        new_card = mydeck.deal_one()\n",
    "        print(new_card)\n",
    "        dealt_cards.append(new_card)\n",
    "    return dealt_cards\n",
    "\n",
    "def player_order(p1, p2):\n",
    "    players = [p1, p2]\n",
    "    random.shuffle(players)\n",
    "    player1 = players[0]\n",
    "    player2 = players[1]\n",
    "    return player1, player2, players\n",
    "\n",
    "def check_status(player, dealer, game_on):\n",
    "    if player.value == 21:\n",
    "        winner = player.name\n",
    "        game_on = False\n",
    "        print(f\"{winner} wins!\")\n",
    "    elif dealer.value == 21:\n",
    "        winner = dealer.name\n",
    "        game_on = False\n",
    "        print(f\"{winner} wins!\")\n",
    "    if player.value > 21:\n",
    "        winner = player.name\n",
    "        game_on = False\n",
    "        print(f\"{winner} wins!\")\n",
    "    elif dealer.value > 21:\n",
    "        winner = dealer.name\n",
    "        game_on = False\n",
    "        print(f\"{winner} wins!\")\n",
    "    else:\n",
    "        winner = \"\"\n",
    "    return winner, game_on\n",
    "\n",
    "def player_bet(player):\n",
    "    bet_amount = input(f\"How much does {player.name} want to bet?\")\n",
    "    amount = int(bet_amount)\n",
    "    invalid_amount = True\n",
    "    while invalid_amount:\n",
    "        if amount == 0:\n",
    "            print(\"Please enter a value higher than 0.\")\n",
    "            player_bet(player)\n",
    "        elif player.money - amount < 0:\n",
    "            print(f\"Money after deduction: {player.money - amount}.\\nPlease enter a valid value that will not result in value below 0.\")\n",
    "            player_bet(player)\n",
    "        else:\n",
    "            player.bet(amount)\n",
    "            return amount"
   ]
  },
  {
   "cell_type": "code",
   "execution_count": 51,
   "metadata": {},
   "outputs": [
    {
     "name": "stdout",
     "output_type": "stream",
     "text": [
      "Two of clubs\n",
      "Eight of diamonds\n",
      "King of spades\n",
      "Three of clubs\n"
     ]
    }
   ],
   "source": [
    "oscar = Player(\"Oscar\", dealt_cards=deal_cards(2))\n",
    "dealer = Dealer(dealt_cards=deal_cards(2))"
   ]
  },
  {
   "cell_type": "code",
   "execution_count": 52,
   "metadata": {},
   "outputs": [
    {
     "name": "stdout",
     "output_type": "stream",
     "text": [
      "Player Oscar has 2 cards: Two of clubs, Eight of diamonds\n"
     ]
    }
   ],
   "source": [
    "print(oscar)"
   ]
  },
  {
   "cell_type": "code",
   "execution_count": 53,
   "metadata": {},
   "outputs": [
    {
     "name": "stdout",
     "output_type": "stream",
     "text": [
      "Dealer has 2 cards: UNKNOWN and Three of clubs\n"
     ]
    }
   ],
   "source": [
    "print(dealer)"
   ]
  },
  {
   "cell_type": "code",
   "execution_count": 54,
   "metadata": {},
   "outputs": [
    {
     "data": {
      "text/plain": [
       "1000"
      ]
     },
     "execution_count": 54,
     "metadata": {},
     "output_type": "execute_result"
    }
   ],
   "source": [
    "oscar.money"
   ]
  },
  {
   "cell_type": "code",
   "execution_count": 55,
   "metadata": {},
   "outputs": [
    {
     "data": {
      "text/plain": [
       "10"
      ]
     },
     "execution_count": 55,
     "metadata": {},
     "output_type": "execute_result"
    }
   ],
   "source": [
    "oscar.value"
   ]
  },
  {
   "cell_type": "code",
   "execution_count": 56,
   "metadata": {},
   "outputs": [],
   "source": [
    "player = oscar"
   ]
  },
  {
   "cell_type": "markdown",
   "metadata": {},
   "source": [
    "# GAME LOGIC"
   ]
  },
  {
   "cell_type": "code",
   "execution_count": 57,
   "metadata": {},
   "outputs": [
    {
     "name": "stdout",
     "output_type": "stream",
     "text": [
      "Player 1 - Player Oscar has 2 cards: Two of clubs, Eight of diamonds\n",
      "\t0\n",
      "\n",
      "\n",
      "Dealer value: 13\n",
      "Dealer has 2 cards: UNKNOWN and Three of clubs\n",
      "Player value: 10\n",
      "Player Oscar has 2 cards: Two of clubs, Eight of diamonds\n",
      "Money after deduction: -4000.\n",
      "Please enter a valid value that will not result in value below 0.\n",
      "Bet placed: 50\n",
      "Remaining Money: 950.\n",
      "Money after deduction: -4050.\n",
      "Please enter a valid value that will not result in value below 0.\n"
     ]
    },
    {
     "ename": "ValueError",
     "evalue": "invalid literal for int() with base 10: ''",
     "output_type": "error",
     "traceback": [
      "\u001b[0;31m---------------------------------------------------------------------------\u001b[0m",
      "\u001b[0;31mValueError\u001b[0m                                Traceback (most recent call last)",
      "\u001b[1;32m/Users/owhy/Desktop/github/Complete-Python-Bootcamp/Milestone 2/01-Milestone Project 2 - Assignment.ipynb Cell 35\u001b[0m line \u001b[0;36m1\n\u001b[1;32m     <a href='vscode-notebook-cell:/Users/owhy/Desktop/github/Complete-Python-Bootcamp/Milestone%202/01-Milestone%20Project%202%20-%20Assignment.ipynb#X46sZmlsZQ%3D%3D?line=13'>14</a>\u001b[0m \u001b[39mif\u001b[39;00m game_on:\n\u001b[1;32m     <a href='vscode-notebook-cell:/Users/owhy/Desktop/github/Complete-Python-Bootcamp/Milestone%202/01-Milestone%20Project%202%20-%20Assignment.ipynb#X46sZmlsZQ%3D%3D?line=14'>15</a>\u001b[0m     \u001b[39mif\u001b[39;00m \u001b[39mround\u001b[39m \u001b[39m==\u001b[39m \u001b[39m1\u001b[39m:\n\u001b[1;32m     <a href='vscode-notebook-cell:/Users/owhy/Desktop/github/Complete-Python-Bootcamp/Milestone%202/01-Milestone%20Project%202%20-%20Assignment.ipynb#X46sZmlsZQ%3D%3D?line=15'>16</a>\u001b[0m         \u001b[39m# initial bet\u001b[39;00m\n\u001b[0;32m---> <a href='vscode-notebook-cell:/Users/owhy/Desktop/github/Complete-Python-Bootcamp/Milestone%202/01-Milestone%20Project%202%20-%20Assignment.ipynb#X46sZmlsZQ%3D%3D?line=16'>17</a>\u001b[0m         bet_amount \u001b[39m=\u001b[39m player_bet(player)\n\u001b[1;32m     <a href='vscode-notebook-cell:/Users/owhy/Desktop/github/Complete-Python-Bootcamp/Milestone%202/01-Milestone%20Project%202%20-%20Assignment.ipynb#X46sZmlsZQ%3D%3D?line=18'>19</a>\u001b[0m         \u001b[39m# hit or stand\u001b[39;00m\n\u001b[1;32m     <a href='vscode-notebook-cell:/Users/owhy/Desktop/github/Complete-Python-Bootcamp/Milestone%202/01-Milestone%20Project%202%20-%20Assignment.ipynb#X46sZmlsZQ%3D%3D?line=19'>20</a>\u001b[0m         choice \u001b[39m=\u001b[39m \u001b[39minput\u001b[39m(\u001b[39m\"\u001b[39m\u001b[39mDo you want to stand (0), hit (1) or double (2) your bet?\u001b[39m\u001b[39m\"\u001b[39m)\n",
      "\u001b[1;32m/Users/owhy/Desktop/github/Complete-Python-Bootcamp/Milestone 2/01-Milestone Project 2 - Assignment.ipynb Cell 35\u001b[0m line \u001b[0;36m4\n\u001b[1;32m     <a href='vscode-notebook-cell:/Users/owhy/Desktop/github/Complete-Python-Bootcamp/Milestone%202/01-Milestone%20Project%202%20-%20Assignment.ipynb#X46sZmlsZQ%3D%3D?line=44'>45</a>\u001b[0m \u001b[39melif\u001b[39;00m player\u001b[39m.\u001b[39mmoney \u001b[39m-\u001b[39m amount \u001b[39m<\u001b[39m \u001b[39m0\u001b[39m:\n\u001b[1;32m     <a href='vscode-notebook-cell:/Users/owhy/Desktop/github/Complete-Python-Bootcamp/Milestone%202/01-Milestone%20Project%202%20-%20Assignment.ipynb#X46sZmlsZQ%3D%3D?line=45'>46</a>\u001b[0m     \u001b[39mprint\u001b[39m(\u001b[39mf\u001b[39m\u001b[39m\"\u001b[39m\u001b[39mMoney after deduction: \u001b[39m\u001b[39m{\u001b[39;00mplayer\u001b[39m.\u001b[39mmoney\u001b[39m \u001b[39m\u001b[39m-\u001b[39m\u001b[39m \u001b[39mamount\u001b[39m}\u001b[39;00m\u001b[39m.\u001b[39m\u001b[39m\\n\u001b[39;00m\u001b[39mPlease enter a valid value that will not result in value below 0.\u001b[39m\u001b[39m\"\u001b[39m)\n\u001b[0;32m---> <a href='vscode-notebook-cell:/Users/owhy/Desktop/github/Complete-Python-Bootcamp/Milestone%202/01-Milestone%20Project%202%20-%20Assignment.ipynb#X46sZmlsZQ%3D%3D?line=46'>47</a>\u001b[0m     player_bet(player)\n\u001b[1;32m     <a href='vscode-notebook-cell:/Users/owhy/Desktop/github/Complete-Python-Bootcamp/Milestone%202/01-Milestone%20Project%202%20-%20Assignment.ipynb#X46sZmlsZQ%3D%3D?line=47'>48</a>\u001b[0m \u001b[39melse\u001b[39;00m:\n\u001b[1;32m     <a href='vscode-notebook-cell:/Users/owhy/Desktop/github/Complete-Python-Bootcamp/Milestone%202/01-Milestone%20Project%202%20-%20Assignment.ipynb#X46sZmlsZQ%3D%3D?line=48'>49</a>\u001b[0m     player\u001b[39m.\u001b[39mbet(amount)\n",
      "\u001b[1;32m/Users/owhy/Desktop/github/Complete-Python-Bootcamp/Milestone 2/01-Milestone Project 2 - Assignment.ipynb Cell 35\u001b[0m line \u001b[0;36m3\n\u001b[1;32m     <a href='vscode-notebook-cell:/Users/owhy/Desktop/github/Complete-Python-Bootcamp/Milestone%202/01-Milestone%20Project%202%20-%20Assignment.ipynb#X46sZmlsZQ%3D%3D?line=36'>37</a>\u001b[0m \u001b[39mdef\u001b[39;00m \u001b[39mplayer_bet\u001b[39m(player):\n\u001b[1;32m     <a href='vscode-notebook-cell:/Users/owhy/Desktop/github/Complete-Python-Bootcamp/Milestone%202/01-Milestone%20Project%202%20-%20Assignment.ipynb#X46sZmlsZQ%3D%3D?line=37'>38</a>\u001b[0m     bet_amount \u001b[39m=\u001b[39m \u001b[39minput\u001b[39m(\u001b[39mf\u001b[39m\u001b[39m\"\u001b[39m\u001b[39mHow much does \u001b[39m\u001b[39m{\u001b[39;00mplayer\u001b[39m.\u001b[39mname\u001b[39m}\u001b[39;00m\u001b[39m want to bet?\u001b[39m\u001b[39m\"\u001b[39m)\n\u001b[0;32m---> <a href='vscode-notebook-cell:/Users/owhy/Desktop/github/Complete-Python-Bootcamp/Milestone%202/01-Milestone%20Project%202%20-%20Assignment.ipynb#X46sZmlsZQ%3D%3D?line=38'>39</a>\u001b[0m     amount \u001b[39m=\u001b[39m \u001b[39mint\u001b[39;49m(bet_amount)\n\u001b[1;32m     <a href='vscode-notebook-cell:/Users/owhy/Desktop/github/Complete-Python-Bootcamp/Milestone%202/01-Milestone%20Project%202%20-%20Assignment.ipynb#X46sZmlsZQ%3D%3D?line=39'>40</a>\u001b[0m     invalid_amount \u001b[39m=\u001b[39m \u001b[39mTrue\u001b[39;00m\n\u001b[1;32m     <a href='vscode-notebook-cell:/Users/owhy/Desktop/github/Complete-Python-Bootcamp/Milestone%202/01-Milestone%20Project%202%20-%20Assignment.ipynb#X46sZmlsZQ%3D%3D?line=40'>41</a>\u001b[0m     \u001b[39mwhile\u001b[39;00m invalid_amount:\n",
      "\u001b[0;31mValueError\u001b[0m: invalid literal for int() with base 10: ''"
     ]
    }
   ],
   "source": [
    "game_on = True\n",
    "turn = 0\n",
    "round = 0\n",
    "print(f\"Player 1 - {player}\\n\\t{str(turn)}\")\n",
    "\n",
    "while game_on:\n",
    "    round += 1\n",
    "    print(f\"\\n\\nDealer value: {dealer.value}\")\n",
    "    print(f\"{dealer}\")\n",
    "    print(f\"Player value: {player.value}\")\n",
    "    print(f\"{player}\")\n",
    "\n",
    "    winner, game_on = check_status(player, dealer, game_on)\n",
    "    if game_on:\n",
    "        if round == 1:\n",
    "            # initial bet\n",
    "            bet_amount = player_bet(player)\n",
    "\n",
    "            # hit or stand\n",
    "            choice = input(\"Do you want to stand (0), hit (1) or double (2) your bet?\")\n",
    "            if choice == 0:\n",
    "                print(\"You have decided to stand!\")\n",
    "                # TODO dealer plays\n",
    "                break\n",
    "            elif choice == 1:\n",
    "                print(\"You have decided to hit!\")\n",
    "                player.hit(new_cards=deal_cards(1))\n",
    "                print(player)\n",
    "            else:\n",
    "                print(\"You have decided to double your bet!\")\n",
    "                player.double(bet_amount)\n",
    "        else:\n",
    "            # hit or stand\n",
    "            choice = input(\"Do you want to stand (0) or hit (1) your bet?\")\n",
    "            if choice == 0:\n",
    "                print(\"You have decided to stand!\")\n",
    "                # TODO dealer plays\n",
    "                break\n",
    "            elif choice == 1:\n",
    "                print(\"You have decided to hit!\")\n",
    "                player.hit(new_cards=deal_cards(1))\n",
    "                print(player)\n",
    "\n",
    "        print(\"Checking status...\")\n",
    "        winner, game_on = check_status(player, dealer, game_on)\n",
    "\n",
    "\n"
   ]
  },
  {
   "cell_type": "code",
   "execution_count": null,
   "metadata": {},
   "outputs": [],
   "source": []
  }
 ],
 "metadata": {
  "kernelspec": {
   "display_name": "Python 3",
   "language": "python",
   "name": "python3"
  },
  "language_info": {
   "codemirror_mode": {
    "name": "ipython",
    "version": 3
   },
   "file_extension": ".py",
   "mimetype": "text/x-python",
   "name": "python",
   "nbconvert_exporter": "python",
   "pygments_lexer": "ipython3",
   "version": "3.11.3"
  }
 },
 "nbformat": 4,
 "nbformat_minor": 1
}
