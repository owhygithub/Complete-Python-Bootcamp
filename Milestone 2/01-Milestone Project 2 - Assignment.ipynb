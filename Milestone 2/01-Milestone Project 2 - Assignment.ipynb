{
 "cells": [
  {
   "cell_type": "markdown",
   "metadata": {},
   "source": [
    "___\n",
    "\n",
    "<a href='https://www.udemy.com/user/joseportilla/'><img src='../Pierian_Data_Logo.png'/></a>\n",
    "___\n",
    "<center><em>Content Copyright by Pierian Data</em></center>"
   ]
  },
  {
   "cell_type": "markdown",
   "metadata": {},
   "source": [
    "# Milestone Project 2 - Blackjack Game\n",
    "In this milestone project you will be creating a Complete BlackJack Card Game in Python.\n",
    "\n",
    "Here are the requirements:\n",
    "\n",
    "* You need to create a simple text-based [BlackJack](https://en.wikipedia.org/wiki/Blackjack) game\n",
    "* The game needs to have one player versus an automated dealer.\n",
    "* The player can stand or hit.\n",
    "* The player must be able to pick their betting amount.\n",
    "* You need to keep track of the player's total money.\n",
    "* You need to alert the player of wins, losses, or busts, etc...\n",
    "\n",
    "And most importantly:\n",
    "\n",
    "* **You must use OOP and classes in some portion of your game. You can not just use functions in your game. Use classes to help you define the Deck and the Player's hand. There are many right ways to do this, so explore it well!**\n",
    "\n",
    "\n",
    "Feel free to expand this game. Try including multiple players. Try adding in Double-Down and card splits! Remember to you are free to use any resources you want and as always:\n",
    "\n",
    "# HAVE FUN!"
   ]
  },
  {
   "cell_type": "markdown",
   "metadata": {},
   "source": [
    "# RULES"
   ]
  },
  {
   "cell_type": "code",
   "execution_count": 1,
   "metadata": {},
   "outputs": [
    {
     "data": {
      "text/plain": [
       "\"\\nRules:\\n\\nHand cannot total > 21 = BUST\\nObjective = higher number than dealer's hand\\nCards = JQK = 10 , ACE = 1 or 11\\n\\n1. Place a bet (everyone besides the dealer)\\n2. 1 Card dealt face up\\n3. 1 more card face up to all players & 1 card face down for dealer\\n4. If initially your cards = 21 --> you win and get 1.5x initial bet\\n    Once you see your cards, you can DOUBLE bet\\n5. Dealer asks if you want another card from top of deck\\n6. If you want a card = HIT\\n7. If you don't want a card = last round\\n8. Dealer reveals their card\\n9. If dealer's cards <= 16, they must take another card\\n10. If >= 17, they stay\\n11. If dealer BUSTS = everyone in the round wins 2x bet\\n12. If dealer doesn't BUST = only the player with higher number than dealer gets 2x bet\\n13. If dealer = player --> Nobody wins\\n14. Otherwise, lose bet to Dealer\\n\""
      ]
     },
     "execution_count": 1,
     "metadata": {},
     "output_type": "execute_result"
    }
   ],
   "source": [
    "\"\"\"\n",
    "Rules:\n",
    "\n",
    "Hand cannot total > 21 = BUST\n",
    "Objective = higher number than dealer's hand\n",
    "Cards = JQK = 10 , ACE = 1 or 11\n",
    "\n",
    "1. Place a bet (everyone besides the dealer)\n",
    "2. 1 Card dealt face up\n",
    "3. 1 more card face up to all players & 1 card face down for dealer\n",
    "4. If initially your cards = 21 --> you win and get 1.5x initial bet\n",
    "    Once you see your cards, you can DOUBLE bet\n",
    "5. Dealer asks if you want another card from top of deck\n",
    "6. If you want a card = HIT\n",
    "7. If you don't want a card = last round\n",
    "8. Dealer reveals their card\n",
    "9. If dealer's cards <= 16, they must take another card\n",
    "10. If >= 17, they stay\n",
    "11. If dealer BUSTS = everyone in the round wins 2x bet\n",
    "12. If dealer doesn't BUST = only the player with higher number than dealer gets 2x bet\n",
    "13. If dealer = player --> Nobody wins\n",
    "14. Otherwise, lose bet to Dealer\n",
    "\"\"\""
   ]
  },
  {
   "cell_type": "code",
   "execution_count": 2,
   "metadata": {},
   "outputs": [],
   "source": [
    "import random"
   ]
  },
  {
   "cell_type": "markdown",
   "metadata": {},
   "source": [
    "# CARDS"
   ]
  },
  {
   "cell_type": "code",
   "execution_count": 3,
   "metadata": {},
   "outputs": [],
   "source": [
    "ranks = [\"Ace\", \"Two\", \"Three\", \"Four\", \"Five\", \"Six\", \"Seven\", \"Eight\", \"Nine\", \"Ten\", \n",
    "         \"Jack\", \"Queen\", \"King\"]\n",
    "\n",
    "suits = [\"hearts\", \"clubs\", \"diamonds\", \"spades\"]\n",
    "\n",
    "values = {\"Ace\":1, \"Two\":2, \"Three\":3, \"Four\":4, \"Five\":5, \"Six\":6, \"Seven\":7, \"Eight\":8, \n",
    "         \"Nine\":9, \"Ten\":10, \"Jack\":10, \"Queen\":10, \"King\":10}"
   ]
  },
  {
   "cell_type": "code",
   "execution_count": 4,
   "metadata": {},
   "outputs": [],
   "source": [
    "class Card:\n",
    "\n",
    "    def __init__(self,suit,rank):\n",
    "        self.suit = suit\n",
    "        self.rank = rank\n",
    "        self.value = values[rank]\n",
    "        \n",
    "    def __str__(self): # has to return \n",
    "        return self.rank + ' of ' + self.suit"
   ]
  },
  {
   "cell_type": "code",
   "execution_count": 5,
   "metadata": {},
   "outputs": [],
   "source": [
    "mycard = Card(\"Hearts\", \"Two\")"
   ]
  },
  {
   "cell_type": "code",
   "execution_count": 6,
   "metadata": {},
   "outputs": [],
   "source": [
    "mycard2 = Card(suits[0], ranks[0])"
   ]
  },
  {
   "cell_type": "code",
   "execution_count": 7,
   "metadata": {},
   "outputs": [
    {
     "data": {
      "text/plain": [
       "2"
      ]
     },
     "execution_count": 7,
     "metadata": {},
     "output_type": "execute_result"
    }
   ],
   "source": [
    "mycard.value"
   ]
  },
  {
   "cell_type": "code",
   "execution_count": 8,
   "metadata": {},
   "outputs": [
    {
     "name": "stdout",
     "output_type": "stream",
     "text": [
      "Ace of hearts\n"
     ]
    }
   ],
   "source": [
    "print(mycard2)"
   ]
  },
  {
   "cell_type": "markdown",
   "metadata": {},
   "source": [
    "# DECK"
   ]
  },
  {
   "cell_type": "code",
   "execution_count": 9,
   "metadata": {},
   "outputs": [],
   "source": [
    "class Deck:\n",
    "    \n",
    "    def __init__(self):\n",
    "        # Note this only happens once upon creation of a new Deck\n",
    "        self.all_cards = [] \n",
    "        for rank in ranks:\n",
    "            for suit in suits:\n",
    "                # This assumes the Card class has already been defined!\n",
    "                self.all_cards.append(Card(suit,rank))\n",
    "        print(\"New deck created...\")\n",
    "\n",
    "    def shuffle(self):\n",
    "        # Note this doesn't return anything\n",
    "        random.shuffle(self.all_cards)\n",
    "        print(\"Deck shuffled...\")\n",
    "        \n",
    "    def deal_one(self):\n",
    "        # Note we remove one card from the list of all_cards\n",
    "        return self.all_cards.pop()\n",
    "\n",
    "    def __str__(self):\n",
    "        card_str = \"\"\n",
    "        for card in self.all_cards:\n",
    "            card_str += str(card) + \"\\n\"\n",
    "        return card_str"
   ]
  },
  {
   "cell_type": "code",
   "execution_count": 10,
   "metadata": {},
   "outputs": [
    {
     "name": "stdout",
     "output_type": "stream",
     "text": [
      "New deck created...\n"
     ]
    }
   ],
   "source": [
    "mydeck = Deck()"
   ]
  },
  {
   "cell_type": "code",
   "execution_count": 11,
   "metadata": {},
   "outputs": [
    {
     "name": "stdout",
     "output_type": "stream",
     "text": [
      "Ace of hearts\n"
     ]
    }
   ],
   "source": [
    "print(mydeck.all_cards[0])"
   ]
  },
  {
   "cell_type": "code",
   "execution_count": 12,
   "metadata": {},
   "outputs": [
    {
     "name": "stdout",
     "output_type": "stream",
     "text": [
      "Deck shuffled...\n"
     ]
    }
   ],
   "source": [
    "mydeck.shuffle()"
   ]
  },
  {
   "cell_type": "code",
   "execution_count": 13,
   "metadata": {},
   "outputs": [
    {
     "name": "stdout",
     "output_type": "stream",
     "text": [
      "Ace of spades\n",
      "Two of hearts\n",
      "Eight of spades\n",
      "King of clubs\n",
      "Five of clubs\n",
      "Jack of diamonds\n",
      "Three of hearts\n",
      "Seven of clubs\n",
      "Five of spades\n",
      "King of diamonds\n",
      "Eight of diamonds\n",
      "Eight of clubs\n",
      "Three of diamonds\n",
      "Jack of hearts\n",
      "Eight of hearts\n",
      "Nine of spades\n",
      "Three of clubs\n",
      "Ten of spades\n",
      "Four of hearts\n",
      "Nine of diamonds\n",
      "Six of diamonds\n",
      "Ten of diamonds\n",
      "Six of clubs\n",
      "Queen of spades\n",
      "Jack of clubs\n",
      "Ten of clubs\n",
      "Queen of diamonds\n",
      "Four of diamonds\n",
      "Queen of hearts\n",
      "Ace of hearts\n",
      "Seven of diamonds\n",
      "Three of spades\n",
      "Four of spades\n",
      "Ten of hearts\n",
      "Two of diamonds\n",
      "Nine of hearts\n",
      "Ace of diamonds\n",
      "Six of spades\n",
      "King of spades\n",
      "Seven of hearts\n",
      "Seven of spades\n",
      "Two of spades\n",
      "Two of clubs\n",
      "Six of hearts\n",
      "Ace of clubs\n",
      "Four of clubs\n",
      "Jack of spades\n",
      "King of hearts\n",
      "Nine of clubs\n",
      "Five of diamonds\n",
      "Five of hearts\n",
      "Queen of clubs\n",
      "\n"
     ]
    }
   ],
   "source": [
    "print(mydeck)"
   ]
  },
  {
   "cell_type": "code",
   "execution_count": 14,
   "metadata": {},
   "outputs": [
    {
     "name": "stdout",
     "output_type": "stream",
     "text": [
      "52\n"
     ]
    }
   ],
   "source": [
    "print(len(mydeck.all_cards))"
   ]
  },
  {
   "cell_type": "code",
   "execution_count": 15,
   "metadata": {},
   "outputs": [
    {
     "name": "stdout",
     "output_type": "stream",
     "text": [
      "Ace of spades\n"
     ]
    }
   ],
   "source": [
    "print(mydeck.all_cards[0])"
   ]
  },
  {
   "cell_type": "code",
   "execution_count": 16,
   "metadata": {},
   "outputs": [
    {
     "name": "stdout",
     "output_type": "stream",
     "text": [
      "Ace of spades\n",
      "Two of hearts\n",
      "Eight of spades\n",
      "King of clubs\n",
      "Five of clubs\n",
      "Jack of diamonds\n",
      "Three of hearts\n",
      "Seven of clubs\n",
      "Five of spades\n",
      "King of diamonds\n",
      "Eight of diamonds\n",
      "Eight of clubs\n",
      "Three of diamonds\n",
      "Jack of hearts\n",
      "Eight of hearts\n",
      "Nine of spades\n",
      "Three of clubs\n",
      "Ten of spades\n",
      "Four of hearts\n",
      "Nine of diamonds\n",
      "Six of diamonds\n",
      "Ten of diamonds\n",
      "Six of clubs\n",
      "Queen of spades\n",
      "Jack of clubs\n",
      "Ten of clubs\n",
      "Queen of diamonds\n",
      "Four of diamonds\n",
      "Queen of hearts\n",
      "Ace of hearts\n",
      "Seven of diamonds\n",
      "Three of spades\n",
      "Four of spades\n",
      "Ten of hearts\n",
      "Two of diamonds\n",
      "Nine of hearts\n",
      "Ace of diamonds\n",
      "Six of spades\n",
      "King of spades\n",
      "Seven of hearts\n",
      "Seven of spades\n",
      "Two of spades\n",
      "Two of clubs\n",
      "Six of hearts\n",
      "Ace of clubs\n",
      "Four of clubs\n",
      "Jack of spades\n",
      "King of hearts\n",
      "Nine of clubs\n",
      "Five of diamonds\n",
      "Five of hearts\n",
      "Queen of clubs\n",
      "\n"
     ]
    }
   ],
   "source": [
    "print(mydeck)"
   ]
  },
  {
   "cell_type": "code",
   "execution_count": 17,
   "metadata": {},
   "outputs": [],
   "source": [
    "card_dealt = mydeck.deal_one()"
   ]
  },
  {
   "cell_type": "code",
   "execution_count": 18,
   "metadata": {},
   "outputs": [
    {
     "name": "stdout",
     "output_type": "stream",
     "text": [
      "Queen of clubs\n"
     ]
    }
   ],
   "source": [
    "print(card_dealt)"
   ]
  },
  {
   "cell_type": "markdown",
   "metadata": {},
   "source": [
    "# PLAYER"
   ]
  },
  {
   "cell_type": "code",
   "execution_count": 19,
   "metadata": {},
   "outputs": [],
   "source": [
    "class Player:\n",
    "\n",
    "    def __init__(self, name, dealt_cards, money=1000):\n",
    "        self.name = name\n",
    "        self.money = money\n",
    "        self.cards = []\n",
    "        self.cards.extend(dealt_cards)\n",
    "        self.value = 0\n",
    "        for card in self.cards:\n",
    "            self.value += card.value\n",
    "\n",
    "    def bet(self, amount):\n",
    "        invalid_amount = True\n",
    "        while invalid_amount:\n",
    "            if amount == 0:\n",
    "                print(\"Please enter a value higher than 0.\")\n",
    "            elif self.money - amount < 0:\n",
    "                print(f\"Money after deduction: {self.money - amount}.\\nPlease enter a valid value that will not result in value below 0.\")\n",
    "            else:\n",
    "                print(f\"Bet placed: {amount}\\nRemaining Money: {self.money}.\")\n",
    "                invalid_amount = False\n",
    "                \n",
    "    def hit(self, new_card):\n",
    "        self.cards.append(new_card) # put at the back of the deck\n",
    "\n",
    "    def loss(self, loss):\n",
    "        self.value -= loss\n",
    "        print(str(self.value))\n",
    "\n",
    "    def win(self, win):\n",
    "        self.value += win\n",
    "        print(str(self.value))\n",
    "\n",
    "    def double(self, bet_amount):\n",
    "        bet_amount *= 2\n",
    "        self.bet(bet_amount)\n",
    "\n",
    "    def __str__(self):\n",
    "        return f'Player {self.name} has {len(self.cards)} cards.'"
   ]
  },
  {
   "cell_type": "code",
   "execution_count": 27,
   "metadata": {},
   "outputs": [],
   "source": [
    "class Dealer:\n",
    "\n",
    "    def __init__(self, dealt_cards):\n",
    "        self.cards = []\n",
    "        self.cards.extend(dealt_cards)\n",
    "        self.value = 0\n",
    "        for card in self.cards:\n",
    "            self.value += card.value\n",
    "\n",
    "    def hit(self, new_card):\n",
    "        self.cards.append(new_card) # put at the back of the deck\n",
    "\n",
    "    def __str__(self):\n",
    "        return f'Dealer has {len(self.cards)} cards.'"
   ]
  },
  {
   "cell_type": "code",
   "execution_count": 28,
   "metadata": {},
   "outputs": [],
   "source": [
    "def deal_cards():\n",
    "    dealt_cards = []\n",
    "    for x in range(0,2):\n",
    "        new_card = mydeck.deal_one()\n",
    "        print(new_card)\n",
    "        dealt_cards.append(new_card)\n",
    "    return dealt_cards\n",
    "\n",
    "def player_order(p1, p2):\n",
    "    players = [p1, p2]\n",
    "    random.shuffle(players)\n",
    "    player1 = players[0]\n",
    "    player2 = players[1]\n",
    "    return player1, player2, players"
   ]
  },
  {
   "cell_type": "code",
   "execution_count": 29,
   "metadata": {},
   "outputs": [
    {
     "name": "stdout",
     "output_type": "stream",
     "text": [
      "Jack of spades\n",
      "Four of clubs\n",
      "Ace of clubs\n",
      "Six of hearts\n"
     ]
    }
   ],
   "source": [
    "oscar = Player(\"Oscar\", dealt_cards=deal_cards())\n",
    "dealer = Dealer(dealt_cards=deal_cards())"
   ]
  },
  {
   "cell_type": "code",
   "execution_count": 22,
   "metadata": {},
   "outputs": [
    {
     "data": {
      "text/plain": [
       "1000"
      ]
     },
     "execution_count": 22,
     "metadata": {},
     "output_type": "execute_result"
    }
   ],
   "source": [
    "oscar.money"
   ]
  },
  {
   "cell_type": "code",
   "execution_count": 23,
   "metadata": {},
   "outputs": [
    {
     "data": {
      "text/plain": [
       "10"
      ]
     },
     "execution_count": 23,
     "metadata": {},
     "output_type": "execute_result"
    }
   ],
   "source": [
    "oscar.value"
   ]
  },
  {
   "cell_type": "code",
   "execution_count": 24,
   "metadata": {},
   "outputs": [],
   "source": [
    "player = oscar"
   ]
  },
  {
   "cell_type": "markdown",
   "metadata": {},
   "source": [
    "# GAME LOGIC"
   ]
  },
  {
   "cell_type": "code",
   "execution_count": 25,
   "metadata": {},
   "outputs": [
    {
     "name": "stdout",
     "output_type": "stream",
     "text": [
      "Player 1 - Player Oscar has 2 cards.\n",
      "Oscar's Turn:\n",
      "\n"
     ]
    },
    {
     "ename": "TypeError",
     "evalue": "unsupported operand type(s) for -: 'int' and 'str'",
     "output_type": "error",
     "traceback": [
      "\u001b[0;31m---------------------------------------------------------------------------\u001b[0m",
      "\u001b[0;31mTypeError\u001b[0m                                 Traceback (most recent call last)",
      "\u001b[1;32m/Users/owhy/Desktop/github/Complete-Python-Bootcamp/Milestone 2/01-Milestone Project 2 - Assignment.ipynb Cell 32\u001b[0m line \u001b[0;36m1\n\u001b[1;32m     <a href='vscode-notebook-cell:/Users/owhy/Desktop/github/Complete-Python-Bootcamp/Milestone%202/01-Milestone%20Project%202%20-%20Assignment.ipynb#X54sZmlsZQ%3D%3D?line=12'>13</a>\u001b[0m \u001b[39m# initial bet\u001b[39;00m\n\u001b[1;32m     <a href='vscode-notebook-cell:/Users/owhy/Desktop/github/Complete-Python-Bootcamp/Milestone%202/01-Milestone%20Project%202%20-%20Assignment.ipynb#X54sZmlsZQ%3D%3D?line=13'>14</a>\u001b[0m bet_amount \u001b[39m=\u001b[39m \u001b[39minput\u001b[39m(\u001b[39mf\u001b[39m\u001b[39m\"\u001b[39m\u001b[39mHow much does \u001b[39m\u001b[39m{\u001b[39;00mplayer\u001b[39m.\u001b[39mname\u001b[39m}\u001b[39;00m\u001b[39m want to bet?\u001b[39m\u001b[39m\"\u001b[39m)\n\u001b[0;32m---> <a href='vscode-notebook-cell:/Users/owhy/Desktop/github/Complete-Python-Bootcamp/Milestone%202/01-Milestone%20Project%202%20-%20Assignment.ipynb#X54sZmlsZQ%3D%3D?line=14'>15</a>\u001b[0m player\u001b[39m.\u001b[39;49mbet(bet_amount)\n\u001b[1;32m     <a href='vscode-notebook-cell:/Users/owhy/Desktop/github/Complete-Python-Bootcamp/Milestone%202/01-Milestone%20Project%202%20-%20Assignment.ipynb#X54sZmlsZQ%3D%3D?line=16'>17</a>\u001b[0m \u001b[39m# hit or stand\u001b[39;00m\n\u001b[1;32m     <a href='vscode-notebook-cell:/Users/owhy/Desktop/github/Complete-Python-Bootcamp/Milestone%202/01-Milestone%20Project%202%20-%20Assignment.ipynb#X54sZmlsZQ%3D%3D?line=17'>18</a>\u001b[0m choice \u001b[39m=\u001b[39m \u001b[39minput\u001b[39m(\u001b[39m\"\u001b[39m\u001b[39mDo you want to stand (0), hit (1) or double (2) your bet?\u001b[39m\u001b[39m\"\u001b[39m)\n",
      "\u001b[1;32m/Users/owhy/Desktop/github/Complete-Python-Bootcamp/Milestone 2/01-Milestone Project 2 - Assignment.ipynb Cell 32\u001b[0m line \u001b[0;36m1\n\u001b[1;32m     <a href='vscode-notebook-cell:/Users/owhy/Desktop/github/Complete-Python-Bootcamp/Milestone%202/01-Milestone%20Project%202%20-%20Assignment.ipynb#X54sZmlsZQ%3D%3D?line=14'>15</a>\u001b[0m \u001b[39mif\u001b[39;00m amount \u001b[39m==\u001b[39m \u001b[39m0\u001b[39m:\n\u001b[1;32m     <a href='vscode-notebook-cell:/Users/owhy/Desktop/github/Complete-Python-Bootcamp/Milestone%202/01-Milestone%20Project%202%20-%20Assignment.ipynb#X54sZmlsZQ%3D%3D?line=15'>16</a>\u001b[0m     \u001b[39mprint\u001b[39m(\u001b[39m\"\u001b[39m\u001b[39mPlease enter a value higher than 0.\u001b[39m\u001b[39m\"\u001b[39m)\n\u001b[0;32m---> <a href='vscode-notebook-cell:/Users/owhy/Desktop/github/Complete-Python-Bootcamp/Milestone%202/01-Milestone%20Project%202%20-%20Assignment.ipynb#X54sZmlsZQ%3D%3D?line=16'>17</a>\u001b[0m \u001b[39melif\u001b[39;00m \u001b[39mself\u001b[39;49m\u001b[39m.\u001b[39;49mmoney \u001b[39m-\u001b[39;49m amount \u001b[39m<\u001b[39m \u001b[39m0\u001b[39m:\n\u001b[1;32m     <a href='vscode-notebook-cell:/Users/owhy/Desktop/github/Complete-Python-Bootcamp/Milestone%202/01-Milestone%20Project%202%20-%20Assignment.ipynb#X54sZmlsZQ%3D%3D?line=17'>18</a>\u001b[0m     \u001b[39mprint\u001b[39m(\u001b[39mf\u001b[39m\u001b[39m\"\u001b[39m\u001b[39mMoney after deduction: \u001b[39m\u001b[39m{\u001b[39;00m\u001b[39mself\u001b[39m\u001b[39m.\u001b[39mmoney\u001b[39m \u001b[39m\u001b[39m-\u001b[39m\u001b[39m \u001b[39mamount\u001b[39m}\u001b[39;00m\u001b[39m.\u001b[39m\u001b[39m\\n\u001b[39;00m\u001b[39mPlease enter a valid value that will not result in value below 0.\u001b[39m\u001b[39m\"\u001b[39m)\n\u001b[1;32m     <a href='vscode-notebook-cell:/Users/owhy/Desktop/github/Complete-Python-Bootcamp/Milestone%202/01-Milestone%20Project%202%20-%20Assignment.ipynb#X54sZmlsZQ%3D%3D?line=18'>19</a>\u001b[0m \u001b[39melse\u001b[39;00m:\n",
      "\u001b[0;31mTypeError\u001b[0m: unsupported operand type(s) for -: 'int' and 'str'"
     ]
    }
   ],
   "source": [
    "game_on = True\n",
    "print(f\"Player 1 - {player}\")\n",
    "\n",
    "while game_on:\n",
    "    if player.value == 21:\n",
    "        winner = player.name\n",
    "        game_on = False\n",
    "        print(f\"{player} wins!\")\n",
    "\n",
    "    # turn player/players\n",
    "    print(f\"{player.name}'s Turn:\\n\")\n",
    "\n",
    "    # initial bet\n",
    "    bet_amount = input(f\"How much does {player.name} want to bet?\")\n",
    "    player.bet(bet_amount)\n",
    "\n",
    "    # hit or stand\n",
    "    choice = input(\"Do you want to stand (0), hit (1) or double (2) your bet?\")\n",
    "    if choice == 0:\n",
    "        print(\"You have decided to stand\")\n",
    "    elif choice == 1:\n",
    "        print(\"You have decided to hit\")\n",
    "    else:\n",
    "        print(\"You have decided to double your bet\")\n",
    "        player.double(bet_amount)\n",
    "\n",
    "\n"
   ]
  },
  {
   "cell_type": "code",
   "execution_count": null,
   "metadata": {},
   "outputs": [],
   "source": []
  }
 ],
 "metadata": {
  "kernelspec": {
   "display_name": "Python 3",
   "language": "python",
   "name": "python3"
  },
  "language_info": {
   "codemirror_mode": {
    "name": "ipython",
    "version": 3
   },
   "file_extension": ".py",
   "mimetype": "text/x-python",
   "name": "python",
   "nbconvert_exporter": "python",
   "pygments_lexer": "ipython3",
   "version": "3.11.3"
  }
 },
 "nbformat": 4,
 "nbformat_minor": 1
}
