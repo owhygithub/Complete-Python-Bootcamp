{
 "cells": [
  {
   "cell_type": "markdown",
   "metadata": {},
   "source": [
    "___\n",
    "\n",
    "<a href='https://www.udemy.com/user/joseportilla/'><img src='../Pierian_Data_Logo.png'/></a>\n",
    "___\n",
    "<center><em>Content Copyright by Pierian Data</em></center>"
   ]
  },
  {
   "cell_type": "markdown",
   "metadata": {},
   "source": [
    "# Milestone Project 2 - Blackjack Game\n",
    "In this milestone project you will be creating a Complete BlackJack Card Game in Python.\n",
    "\n",
    "Here are the requirements:\n",
    "\n",
    "* You need to create a simple text-based [BlackJack](https://en.wikipedia.org/wiki/Blackjack) game\n",
    "* The game needs to have one player versus an automated dealer.\n",
    "* The player can stand or hit.\n",
    "* The player must be able to pick their betting amount.\n",
    "* You need to keep track of the player's total money.\n",
    "* You need to alert the player of wins, losses, or busts, etc...\n",
    "\n",
    "And most importantly:\n",
    "\n",
    "* **You must use OOP and classes in some portion of your game. You can not just use functions in your game. Use classes to help you define the Deck and the Player's hand. There are many right ways to do this, so explore it well!**\n",
    "\n",
    "\n",
    "Feel free to expand this game. Try including multiple players. Try adding in Double-Down and card splits! Remember to you are free to use any resources you want and as always:\n",
    "\n",
    "# HAVE FUN!"
   ]
  },
  {
   "cell_type": "markdown",
   "metadata": {},
   "source": [
    "# RULES"
   ]
  },
  {
   "cell_type": "code",
   "execution_count": 164,
   "metadata": {},
   "outputs": [
    {
     "data": {
      "text/plain": [
       "\"\\nRules:\\n\\nHand cannot total > 21 = BUST\\nObjective = higher number than dealer's hand\\nCards = JQK = 10 , ACE = 1 or 11\\n\\n1. Place a bet (everyone besides the dealer)\\n2. 1 Card dealt face up\\n3. 1 more card face up to all players & 1 card face down for dealer\\n4. If initially your cards = 21 --> you win and get 1.5x initial bet\\n    Once you see your cards, you can DOUBLE bet\\n5. Dealer asks if you want another card from top of deck\\n6. If you want a card = HIT\\n7. If you don't want a card = last round\\n8. Dealer reveals their card\\n9. If dealer's cards <= 16, they must take another card\\n10. If >= 17, they stay\\n11. If dealer BUSTS = everyone in the round wins 2x bet\\n12. If dealer doesn't BUST = only the player with higher number than dealer gets 2x bet\\n13. If dealer = player --> Nobody wins\\n14. Otherwise, lose bet to Dealer\\n\""
      ]
     },
     "execution_count": 164,
     "metadata": {},
     "output_type": "execute_result"
    }
   ],
   "source": [
    "\"\"\"\n",
    "Rules:\n",
    "\n",
    "Hand cannot total > 21 = BUST\n",
    "Objective = higher number than dealer's hand\n",
    "Cards = JQK = 10 , ACE = 1 or 11\n",
    "\n",
    "1. Place a bet (everyone besides the dealer)\n",
    "2. 1 Card dealt face up\n",
    "3. 1 more card face up to all players & 1 card face down for dealer\n",
    "4. If initially your cards = 21 --> you win and get 1.5x initial bet\n",
    "    Once you see your cards, you can DOUBLE bet\n",
    "5. Dealer asks if you want another card from top of deck\n",
    "6. If you want a card = HIT\n",
    "7. If you don't want a card = last round\n",
    "8. Dealer reveals their card\n",
    "9. If dealer's cards <= 16, they must take another card\n",
    "10. If >= 17, they stay\n",
    "11. If dealer BUSTS = everyone in the round wins 2x bet\n",
    "12. If dealer doesn't BUST = only the player with higher number than dealer gets 2x bet\n",
    "13. If dealer = player --> Nobody wins\n",
    "14. Otherwise, lose bet to Dealer\n",
    "\"\"\""
   ]
  },
  {
   "cell_type": "code",
   "execution_count": 165,
   "metadata": {},
   "outputs": [],
   "source": [
    "import random"
   ]
  },
  {
   "cell_type": "markdown",
   "metadata": {},
   "source": [
    "# CARDS"
   ]
  },
  {
   "cell_type": "code",
   "execution_count": 166,
   "metadata": {},
   "outputs": [],
   "source": [
    "ranks = [\"Ace\", \"Two\", \"Three\", \"Four\", \"Five\", \"Six\", \"Seven\", \"Eight\", \"Nine\", \"Ten\", \n",
    "         \"Jack\", \"Queen\", \"King\"]\n",
    "\n",
    "suits = [\"hearts\", \"clubs\", \"diamonds\", \"spades\"]\n",
    "\n",
    "values = {\"Ace\":1, \"Two\":2, \"Three\":3, \"Four\":4, \"Five\":5, \"Six\":6, \"Seven\":7, \"Eight\":8, \n",
    "         \"Nine\":9, \"Ten\":10, \"Jack\":10, \"Queen\":10, \"King\":10}"
   ]
  },
  {
   "cell_type": "code",
   "execution_count": 167,
   "metadata": {},
   "outputs": [],
   "source": [
    "class Card:\n",
    "\n",
    "    def __init__(self,suit,rank):\n",
    "        self.suit = suit\n",
    "        self.rank = rank\n",
    "        self.value = values[rank]\n",
    "        \n",
    "    def __str__(self): # has to return \n",
    "        return self.rank + ' of ' + self.suit"
   ]
  },
  {
   "cell_type": "code",
   "execution_count": 168,
   "metadata": {},
   "outputs": [],
   "source": [
    "mycard = Card(\"Hearts\", \"Two\")"
   ]
  },
  {
   "cell_type": "code",
   "execution_count": 169,
   "metadata": {},
   "outputs": [],
   "source": [
    "mycard2 = Card(suits[0], ranks[0])"
   ]
  },
  {
   "cell_type": "code",
   "execution_count": 170,
   "metadata": {},
   "outputs": [
    {
     "data": {
      "text/plain": [
       "2"
      ]
     },
     "execution_count": 170,
     "metadata": {},
     "output_type": "execute_result"
    }
   ],
   "source": [
    "mycard.value"
   ]
  },
  {
   "cell_type": "code",
   "execution_count": 171,
   "metadata": {},
   "outputs": [
    {
     "name": "stdout",
     "output_type": "stream",
     "text": [
      "Ace of hearts\n"
     ]
    }
   ],
   "source": [
    "print(mycard2)"
   ]
  },
  {
   "cell_type": "markdown",
   "metadata": {},
   "source": [
    "# DECK"
   ]
  },
  {
   "cell_type": "code",
   "execution_count": 172,
   "metadata": {},
   "outputs": [],
   "source": [
    "class Deck:\n",
    "    \n",
    "    def __init__(self):\n",
    "        # Note this only happens once upon creation of a new Deck\n",
    "        self.all_cards = [] \n",
    "        for rank in ranks:\n",
    "            for suit in suits:\n",
    "                # This assumes the Card class has already been defined!\n",
    "                self.all_cards.append(Card(suit,rank))\n",
    "        print(\"New deck created...\")\n",
    "\n",
    "    def shuffle(self):\n",
    "        # Note this doesn't return anything\n",
    "        random.shuffle(self.all_cards)\n",
    "        print(\"Deck shuffled...\")\n",
    "        \n",
    "    def deal_one(self):\n",
    "        # Note we remove one card from the list of all_cards\n",
    "        return self.all_cards.pop()\n",
    "\n",
    "    def __str__(self):\n",
    "        card_str = \"\"\n",
    "        for card in self.all_cards:\n",
    "            card_str += str(card) + \"\\n\"\n",
    "        return card_str"
   ]
  },
  {
   "cell_type": "code",
   "execution_count": 173,
   "metadata": {},
   "outputs": [
    {
     "name": "stdout",
     "output_type": "stream",
     "text": [
      "New deck created...\n"
     ]
    }
   ],
   "source": [
    "mydeck = Deck()"
   ]
  },
  {
   "cell_type": "code",
   "execution_count": 174,
   "metadata": {},
   "outputs": [
    {
     "name": "stdout",
     "output_type": "stream",
     "text": [
      "Ace of hearts\n"
     ]
    }
   ],
   "source": [
    "print(mydeck.all_cards[0])"
   ]
  },
  {
   "cell_type": "code",
   "execution_count": 175,
   "metadata": {},
   "outputs": [
    {
     "name": "stdout",
     "output_type": "stream",
     "text": [
      "Deck shuffled...\n"
     ]
    }
   ],
   "source": [
    "mydeck.shuffle()"
   ]
  },
  {
   "cell_type": "code",
   "execution_count": 176,
   "metadata": {},
   "outputs": [
    {
     "name": "stdout",
     "output_type": "stream",
     "text": [
      "King of hearts\n",
      "Queen of diamonds\n",
      "Five of clubs\n",
      "Four of diamonds\n",
      "Four of hearts\n",
      "Jack of diamonds\n",
      "Six of hearts\n",
      "Queen of spades\n",
      "Four of clubs\n",
      "Six of clubs\n",
      "Five of diamonds\n",
      "Two of clubs\n",
      "Eight of hearts\n",
      "Nine of clubs\n",
      "Two of diamonds\n",
      "Ace of spades\n",
      "Five of hearts\n",
      "Six of spades\n",
      "King of diamonds\n",
      "Eight of spades\n",
      "King of spades\n",
      "Ten of spades\n",
      "Queen of hearts\n",
      "Ten of clubs\n",
      "Five of spades\n",
      "Three of clubs\n",
      "Seven of diamonds\n",
      "Ace of diamonds\n",
      "Nine of diamonds\n",
      "Two of spades\n",
      "Nine of hearts\n",
      "Two of hearts\n",
      "Seven of spades\n",
      "Three of hearts\n",
      "Eight of diamonds\n",
      "Three of spades\n",
      "Six of diamonds\n",
      "Seven of clubs\n",
      "Three of diamonds\n",
      "Jack of clubs\n",
      "King of clubs\n",
      "Jack of hearts\n",
      "Eight of clubs\n",
      "Four of spades\n",
      "Seven of hearts\n",
      "Ten of hearts\n",
      "Ten of diamonds\n",
      "Nine of spades\n",
      "Queen of clubs\n",
      "Ace of clubs\n",
      "Jack of spades\n",
      "Ace of hearts\n",
      "\n"
     ]
    }
   ],
   "source": [
    "print(mydeck)"
   ]
  },
  {
   "cell_type": "code",
   "execution_count": 177,
   "metadata": {},
   "outputs": [
    {
     "name": "stdout",
     "output_type": "stream",
     "text": [
      "52\n"
     ]
    }
   ],
   "source": [
    "print(len(mydeck.all_cards))"
   ]
  },
  {
   "cell_type": "code",
   "execution_count": 178,
   "metadata": {},
   "outputs": [
    {
     "name": "stdout",
     "output_type": "stream",
     "text": [
      "King of hearts\n"
     ]
    }
   ],
   "source": [
    "print(mydeck.all_cards[0])"
   ]
  },
  {
   "cell_type": "code",
   "execution_count": 179,
   "metadata": {},
   "outputs": [
    {
     "name": "stdout",
     "output_type": "stream",
     "text": [
      "King of hearts\n",
      "Queen of diamonds\n",
      "Five of clubs\n",
      "Four of diamonds\n",
      "Four of hearts\n",
      "Jack of diamonds\n",
      "Six of hearts\n",
      "Queen of spades\n",
      "Four of clubs\n",
      "Six of clubs\n",
      "Five of diamonds\n",
      "Two of clubs\n",
      "Eight of hearts\n",
      "Nine of clubs\n",
      "Two of diamonds\n",
      "Ace of spades\n",
      "Five of hearts\n",
      "Six of spades\n",
      "King of diamonds\n",
      "Eight of spades\n",
      "King of spades\n",
      "Ten of spades\n",
      "Queen of hearts\n",
      "Ten of clubs\n",
      "Five of spades\n",
      "Three of clubs\n",
      "Seven of diamonds\n",
      "Ace of diamonds\n",
      "Nine of diamonds\n",
      "Two of spades\n",
      "Nine of hearts\n",
      "Two of hearts\n",
      "Seven of spades\n",
      "Three of hearts\n",
      "Eight of diamonds\n",
      "Three of spades\n",
      "Six of diamonds\n",
      "Seven of clubs\n",
      "Three of diamonds\n",
      "Jack of clubs\n",
      "King of clubs\n",
      "Jack of hearts\n",
      "Eight of clubs\n",
      "Four of spades\n",
      "Seven of hearts\n",
      "Ten of hearts\n",
      "Ten of diamonds\n",
      "Nine of spades\n",
      "Queen of clubs\n",
      "Ace of clubs\n",
      "Jack of spades\n",
      "Ace of hearts\n",
      "\n"
     ]
    }
   ],
   "source": [
    "print(mydeck)"
   ]
  },
  {
   "cell_type": "code",
   "execution_count": 180,
   "metadata": {},
   "outputs": [],
   "source": [
    "card_dealt = mydeck.deal_one()"
   ]
  },
  {
   "cell_type": "code",
   "execution_count": 181,
   "metadata": {},
   "outputs": [
    {
     "name": "stdout",
     "output_type": "stream",
     "text": [
      "Ace of hearts\n"
     ]
    }
   ],
   "source": [
    "print(card_dealt)"
   ]
  },
  {
   "cell_type": "markdown",
   "metadata": {},
   "source": [
    "# PLAYER"
   ]
  },
  {
   "cell_type": "code",
   "execution_count": 182,
   "metadata": {},
   "outputs": [],
   "source": [
    "class Player:\n",
    "\n",
    "    def __init__(self, name, dealt_cards, money=1000):\n",
    "        self.name = name\n",
    "        self.money = money\n",
    "        self.cards = []\n",
    "        self.cards.extend(dealt_cards)\n",
    "        self.value = 0\n",
    "        for card in self.cards:\n",
    "            self.value += card.value\n",
    "\n",
    "    def bet(self, amount):\n",
    "        self.money -= amount\n",
    "        print(f\"Bet placed: {amount}\\nRemaining Money: {self.money}.\")\n",
    "        \n",
    "    def hit(self, new_card):\n",
    "        for card in new_card:\n",
    "            self.cards.append(card) # put at the back of the deck\n",
    "            self.value += card.value\n",
    "\n",
    "    def loss(self, loss):\n",
    "        loss = int(loss)\n",
    "        self.value -= loss\n",
    "        print(str(self.value))\n",
    "\n",
    "    def win(self, win):\n",
    "        win = int(win)\n",
    "        self.value += win\n",
    "        print(str(self.value))\n",
    "\n",
    "    def double(self, bet_amount):\n",
    "        bet_amount = int(bet_amount)\n",
    "        money = self.money \n",
    "        if money - bet_amount < 0:\n",
    "            print(\"Unable to double amount, insufficient funds...\")\n",
    "        else:\n",
    "            print(f\"Total Bet Placed: {bet_amount*2}\")\n",
    "            self.bet(bet_amount)\n",
    "\n",
    "    def __str__(self):\n",
    "        card_strings = [f'{card.rank} of {card.suit}' for card in self.cards]\n",
    "        return f'Player {self.name} has {len(self.cards)} cards: {\", \".join(card_strings)}'"
   ]
  },
  {
   "cell_type": "code",
   "execution_count": 183,
   "metadata": {},
   "outputs": [],
   "source": [
    "class Dealer:\n",
    "\n",
    "    def __init__(self, dealt_cards, name=\"Dealer\"):\n",
    "        self.name = name\n",
    "        self.cards = []\n",
    "        self.cards.extend(dealt_cards)\n",
    "        self.value = 0\n",
    "        for card in self.cards:\n",
    "            self.value += card.value\n",
    "\n",
    "    def hit(self, new_card):\n",
    "        for card in new_card:\n",
    "            self.cards.append(card) # put at the back of the deck\n",
    "            self.value += card.value\n",
    "\n",
    "    def show_all_cards(self):\n",
    "        card_strings = [f'{card.rank} of {card.suit}' for card in self.cards]\n",
    "        return f'Dealer {self.name} has {len(self.cards)} cards: {\", \".join(card_strings)}'\n",
    "\n",
    "    def __str__(self):\n",
    "        card_strings = [f'{card.rank} of {card.suit}' for card in self.cards]\n",
    "        return f'Dealer has {len(self.cards)} cards: UNKNOWN and {card_strings[1]}'"
   ]
  },
  {
   "cell_type": "code",
   "execution_count": 184,
   "metadata": {},
   "outputs": [],
   "source": [
    "def deal_cards(amount):\n",
    "    dealt_cards = []\n",
    "    for x in range(0,amount):\n",
    "        new_card = mydeck.deal_one()\n",
    "        print(new_card)\n",
    "        dealt_cards.append(new_card)\n",
    "    # print(dealt_cards)\n",
    "    return dealt_cards\n",
    "\n",
    "def player_order(p1, p2):\n",
    "    players = [p1, p2]\n",
    "    random.shuffle(players)\n",
    "    player1 = players[0]\n",
    "    player2 = players[1]\n",
    "    return player1, player2, players\n",
    "\n",
    "def check_status(player, dealer, game_on):\n",
    "    if player.value == 21:\n",
    "        winner = player.name\n",
    "        game_on = False\n",
    "        print(f\"{winner} wins!\")\n",
    "    elif dealer.value == 21:\n",
    "        winner = dealer.name\n",
    "        game_on = False\n",
    "        print(f\"{winner} wins!\")\n",
    "    if player.value > 21:\n",
    "        winner = dealer.name\n",
    "        game_on = False\n",
    "        print(f\"{winner} wins!\")\n",
    "    elif dealer.value > 21:\n",
    "        winner = player.name\n",
    "        game_on = False\n",
    "        print(f\"{winner} wins!\")\n",
    "    else:\n",
    "        winner = \"\"\n",
    "    return winner, game_on\n",
    "\n",
    "def player_bet(player):\n",
    "    bet_amount = input(f\"How much does {player.name} want to bet?\")\n",
    "    amount = int(bet_amount)\n",
    "    money = player.money\n",
    "    # invalid_amount = True\n",
    "    while True:\n",
    "        if amount == 0:\n",
    "            print(\"\\nPlease enter a value higher than 0. Your current money - {money}.\")\n",
    "            player_bet(player)\n",
    "        elif money - amount < 0:\n",
    "            print(f\"\\nMoney after deduction: {money - amount}.\\nPlease enter a valid value that will not result in value below 0. Your current money - {money}.\")\n",
    "            player_bet(player)\n",
    "        else:\n",
    "            print(\"\\nBet Placed.\")\n",
    "            player.bet(amount)\n",
    "            break\n",
    "        break\n",
    "    return amount\n",
    "        \n",
    "def show_values(player, dealer):\n",
    "    print(f\"\\n\\nDealer value: {dealer.value}\")\n",
    "    print(f\"{dealer}\")\n",
    "    print(f\"Player value: {player.value}\")\n",
    "    print(f\"{player}\")"
   ]
  },
  {
   "cell_type": "code",
   "execution_count": 185,
   "metadata": {},
   "outputs": [
    {
     "name": "stdout",
     "output_type": "stream",
     "text": [
      "Jack of spades\n",
      "Ace of clubs\n",
      "Queen of clubs\n",
      "Nine of spades\n"
     ]
    }
   ],
   "source": [
    "oscar = Player(\"Oscar\", dealt_cards=deal_cards(2))\n",
    "dealer = Dealer(dealt_cards=deal_cards(2))"
   ]
  },
  {
   "cell_type": "code",
   "execution_count": 186,
   "metadata": {},
   "outputs": [
    {
     "name": "stdout",
     "output_type": "stream",
     "text": [
      "Player Oscar has 2 cards: Jack of spades, Ace of clubs\n"
     ]
    }
   ],
   "source": [
    "print(oscar)"
   ]
  },
  {
   "cell_type": "code",
   "execution_count": 187,
   "metadata": {},
   "outputs": [
    {
     "name": "stdout",
     "output_type": "stream",
     "text": [
      "Dealer has 2 cards: UNKNOWN and Nine of spades\n"
     ]
    }
   ],
   "source": [
    "print(dealer)"
   ]
  },
  {
   "cell_type": "code",
   "execution_count": 188,
   "metadata": {},
   "outputs": [
    {
     "data": {
      "text/plain": [
       "1000"
      ]
     },
     "execution_count": 188,
     "metadata": {},
     "output_type": "execute_result"
    }
   ],
   "source": [
    "oscar.money"
   ]
  },
  {
   "cell_type": "code",
   "execution_count": 189,
   "metadata": {},
   "outputs": [
    {
     "data": {
      "text/plain": [
       "11"
      ]
     },
     "execution_count": 189,
     "metadata": {},
     "output_type": "execute_result"
    }
   ],
   "source": [
    "oscar.value"
   ]
  },
  {
   "cell_type": "code",
   "execution_count": 190,
   "metadata": {},
   "outputs": [],
   "source": [
    "player = oscar"
   ]
  },
  {
   "cell_type": "markdown",
   "metadata": {},
   "source": [
    "# GAME LOGIC"
   ]
  },
  {
   "cell_type": "code",
   "execution_count": 191,
   "metadata": {},
   "outputs": [
    {
     "name": "stdout",
     "output_type": "stream",
     "text": [
      "Player 1 - Player Oscar has 2 cards: Jack of spades, Ace of clubs\n",
      "\tTurn - 1\n",
      "\n",
      "\n",
      "\n",
      "Dealer value: 19\n",
      "Dealer has 2 cards: UNKNOWN and Nine of spades\n",
      "Player value: 11\n",
      "Player Oscar has 2 cards: Jack of spades, Ace of clubs\n",
      "\n",
      "Bet Placed.\n",
      "Bet placed: 500\n",
      "Remaining Money: 500.\n",
      "500\n",
      "\n",
      "You have decided to hit!\n",
      "Ten of diamonds\n",
      "Player Oscar has 3 cards: Jack of spades, Ace of clubs, Ten of diamonds\n",
      "\n",
      "\n",
      "Dealer value: 19\n",
      "Dealer has 2 cards: UNKNOWN and Nine of spades\n",
      "Player value: 21\n",
      "Player Oscar has 3 cards: Jack of spades, Ace of clubs, Ten of diamonds\n",
      "\n",
      "Checking status...\n",
      "Oscar wins!\n"
     ]
    }
   ],
   "source": [
    "game_on = True\n",
    "turn = 1\n",
    "round = 0\n",
    "print(f\"Player 1 - {player}\\n\\tTurn - {str(turn)}\\n\")\n",
    "\n",
    "while game_on:\n",
    "    round += 1\n",
    "    show_values(player, dealer)\n",
    "    winner, game_on = check_status(player, dealer, game_on)\n",
    "\n",
    "    if game_on:\n",
    "        if round == 1:\n",
    "            # initial bet\n",
    "            bet_amount = player_bet(player)\n",
    "            print(bet_amount)\n",
    "\n",
    "            # hit or stand\n",
    "            choice = input(\"Do you want to stand (0), hit (1) or double (2) your bet?\")\n",
    "            if choice == \"0\":\n",
    "                print(\"\\nYou have decided to stand!\")\n",
    "                # TODO dealer plays\n",
    "                break\n",
    "            elif choice == \"1\":\n",
    "                print(\"\\nYou have decided to hit!\")\n",
    "                new_cards = deal_cards(1)\n",
    "                player.hit(new_cards)\n",
    "                print(player)\n",
    "            else:\n",
    "                print(bet_amount)\n",
    "                print(\"\\nYou have decided to double your bet!\")\n",
    "                player.double(bet_amount)\n",
    "        else:\n",
    "            show_values(player, dealer)\n",
    "            # hit or stand\n",
    "            choice = input(\"Do you want to stand (0) or hit (1)?\")\n",
    "            if choice == \"0\":\n",
    "                print(\"\\nYou have decided to stand!\")\n",
    "                # TODO dealer plays\n",
    "                break\n",
    "            elif choice == \"1\":\n",
    "                print(\"\\nYou have decided to hit!\")\n",
    "                new_cards = deal_cards(1)\n",
    "                player.hit(new_cards)\n",
    "                print(player)\n",
    "\n",
    "        show_values(player, dealer)\n",
    "\n",
    "        print(\"\\nChecking status...\")\n",
    "        winner, game_on = check_status(player, dealer, game_on)\n",
    "\n",
    "\n"
   ]
  },
  {
   "cell_type": "code",
   "execution_count": null,
   "metadata": {},
   "outputs": [],
   "source": []
  }
 ],
 "metadata": {
  "kernelspec": {
   "display_name": "Python 3",
   "language": "python",
   "name": "python3"
  },
  "language_info": {
   "codemirror_mode": {
    "name": "ipython",
    "version": 3
   },
   "file_extension": ".py",
   "mimetype": "text/x-python",
   "name": "python",
   "nbconvert_exporter": "python",
   "pygments_lexer": "ipython3",
   "version": "3.11.3"
  }
 },
 "nbformat": 4,
 "nbformat_minor": 1
}
