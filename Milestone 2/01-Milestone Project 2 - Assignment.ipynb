{
 "cells": [
  {
   "cell_type": "markdown",
   "metadata": {},
   "source": [
    "___\n",
    "\n",
    "<a href='https://www.udemy.com/user/joseportilla/'><img src='../Pierian_Data_Logo.png'/></a>\n",
    "___\n",
    "<center><em>Content Copyright by Pierian Data</em></center>"
   ]
  },
  {
   "cell_type": "markdown",
   "metadata": {},
   "source": [
    "# Milestone Project 2 - Blackjack Game\n",
    "In this milestone project you will be creating a Complete BlackJack Card Game in Python.\n",
    "\n",
    "Here are the requirements:\n",
    "\n",
    "* You need to create a simple text-based [BlackJack](https://en.wikipedia.org/wiki/Blackjack) game\n",
    "* The game needs to have one player versus an automated dealer.\n",
    "* The player can stand or hit.\n",
    "* The player must be able to pick their betting amount.\n",
    "* You need to keep track of the player's total money.\n",
    "* You need to alert the player of wins, losses, or busts, etc...\n",
    "\n",
    "And most importantly:\n",
    "\n",
    "* **You must use OOP and classes in some portion of your game. You can not just use functions in your game. Use classes to help you define the Deck and the Player's hand. There are many right ways to do this, so explore it well!**\n",
    "\n",
    "\n",
    "Feel free to expand this game. Try including multiple players. Try adding in Double-Down and card splits! Remember to you are free to use any resources you want and as always:\n",
    "\n",
    "# HAVE FUN!"
   ]
  },
  {
   "cell_type": "code",
   "execution_count": 19,
   "metadata": {},
   "outputs": [
    {
     "data": {
      "text/plain": [
       "\"\\nRules:\\n\\nHand cannot total > 21 = BUST\\nObjective = higher number than dealer's hand\\nCards = JQK = 10 , ACE = 1 or 11\\n\\n1. Place a bet (everyone besides the dealer)\\n2. 1 Card dealt face up\\n3. 1 more card face up to all players & 1 card face down for dealer\\n4. If initially your cards = 21 --> you win and get 1.5x initial bet\\n    Once you see your cards, you can DOUBLE bet\\n5. Dealer asks if you want another card from top of deck\\n6. If you want a card = HIT\\n7. If you don't want a card = last round\\n8. Dealer reveals their card\\n9. If dealer's cards <= 16, they must take another card\\n10. If >= 17, they stay\\n11. If dealer BUSTS = everyone in the round wins 2x bet\\n12. If dealer doesn't BUST = only the player with higher number than dealer gets 2x bet\\n13. If dealer = player --> Nobody wins\\n14. Otherwise, lose bet to Dealer\\n\""
      ]
     },
     "execution_count": 19,
     "metadata": {},
     "output_type": "execute_result"
    }
   ],
   "source": [
    "\"\"\"\n",
    "Rules:\n",
    "\n",
    "Hand cannot total > 21 = BUST\n",
    "Objective = higher number than dealer's hand\n",
    "Cards = JQK = 10 , ACE = 1 or 11\n",
    "\n",
    "1. Place a bet (everyone besides the dealer)\n",
    "2. 1 Card dealt face up\n",
    "3. 1 more card face up to all players & 1 card face down for dealer\n",
    "4. If initially your cards = 21 --> you win and get 1.5x initial bet\n",
    "    Once you see your cards, you can DOUBLE bet\n",
    "5. Dealer asks if you want another card from top of deck\n",
    "6. If you want a card = HIT\n",
    "7. If you don't want a card = last round\n",
    "8. Dealer reveals their card\n",
    "9. If dealer's cards <= 16, they must take another card\n",
    "10. If >= 17, they stay\n",
    "11. If dealer BUSTS = everyone in the round wins 2x bet\n",
    "12. If dealer doesn't BUST = only the player with higher number than dealer gets 2x bet\n",
    "13. If dealer = player --> Nobody wins\n",
    "14. Otherwise, lose bet to Dealer\n",
    "\"\"\""
   ]
  },
  {
   "cell_type": "code",
   "execution_count": 20,
   "metadata": {},
   "outputs": [],
   "source": [
    "import random"
   ]
  },
  {
   "cell_type": "code",
   "execution_count": 21,
   "metadata": {},
   "outputs": [],
   "source": [
    "ranks = [\"Ace\", \"Two\", \"Three\", \"Four\", \"Five\", \"Six\", \"Seven\", \"Eight\", \"Nine\", \"Ten\", \n",
    "         \"Jack\", \"Queen\", \"King\"]\n",
    "\n",
    "suits = [\"hearts\", \"clubs\", \"diamonds\", \"spades\"]\n",
    "\n",
    "values = {\"Ace\":1, \"Two\":2, \"Three\":3, \"Four\":4, \"Five\":5, \"Six\":6, \"Seven\":7, \"Eight\":8, \n",
    "         \"Nine\":9, \"Ten\":10, \"Jack\":10, \"Queen\":10, \"King\":10}"
   ]
  },
  {
   "cell_type": "code",
   "execution_count": 22,
   "metadata": {},
   "outputs": [],
   "source": [
    "class Card:\n",
    "\n",
    "    def __init__(self,suit,rank):\n",
    "        self.suit = suit\n",
    "        self.rank = rank\n",
    "        self.value = values[rank]\n",
    "        \n",
    "    def __str__(self): # has to return \n",
    "        return self.rank + ' of ' + self.suit"
   ]
  },
  {
   "cell_type": "code",
   "execution_count": 23,
   "metadata": {},
   "outputs": [],
   "source": [
    "mycard = Card(\"Hearts\", \"Two\")"
   ]
  },
  {
   "cell_type": "code",
   "execution_count": 24,
   "metadata": {},
   "outputs": [],
   "source": [
    "mycard2 = Card(suits[0], ranks[0])"
   ]
  },
  {
   "cell_type": "code",
   "execution_count": 25,
   "metadata": {},
   "outputs": [
    {
     "data": {
      "text/plain": [
       "2"
      ]
     },
     "execution_count": 25,
     "metadata": {},
     "output_type": "execute_result"
    }
   ],
   "source": [
    "mycard.value"
   ]
  },
  {
   "cell_type": "code",
   "execution_count": 26,
   "metadata": {},
   "outputs": [
    {
     "name": "stdout",
     "output_type": "stream",
     "text": [
      "Ace of hearts\n"
     ]
    }
   ],
   "source": [
    "print(mycard2)"
   ]
  },
  {
   "cell_type": "code",
   "execution_count": 27,
   "metadata": {},
   "outputs": [],
   "source": [
    "class Deck:\n",
    "    \n",
    "    def __init__(self):\n",
    "        # Note this only happens once upon creation of a new Deck\n",
    "        self.all_cards = [] \n",
    "        for rank in ranks:\n",
    "            for suit in suits:\n",
    "                # This assumes the Card class has already been defined!\n",
    "                self.all_cards.append(Card(suit,rank))\n",
    "        print(\"New deck created...\")\n",
    "\n",
    "    def shuffle(self):\n",
    "        # Note this doesn't return anything\n",
    "        random.shuffle(self.all_cards)\n",
    "        print(\"Deck shuffled...\")\n",
    "        \n",
    "    def deal_one(self):\n",
    "        # Note we remove one card from the list of all_cards\n",
    "        return self.all_cards.pop()\n",
    "\n",
    "    # def __str__(self):\n",
    "    #     card_str = \"\"\n",
    "    #     for card in self.all_cards:\n",
    "    #         card_str += str(card) + \"\\n\"\n",
    "    #     return card_str"
   ]
  },
  {
   "cell_type": "code",
   "execution_count": 28,
   "metadata": {},
   "outputs": [
    {
     "name": "stdout",
     "output_type": "stream",
     "text": [
      "New deck created...\n"
     ]
    }
   ],
   "source": [
    "mydeck = Deck()"
   ]
  },
  {
   "cell_type": "code",
   "execution_count": 29,
   "metadata": {},
   "outputs": [
    {
     "name": "stdout",
     "output_type": "stream",
     "text": [
      "Ace of hearts\n"
     ]
    }
   ],
   "source": [
    "print(mydeck.all_cards[0])"
   ]
  },
  {
   "cell_type": "code",
   "execution_count": 30,
   "metadata": {},
   "outputs": [
    {
     "name": "stdout",
     "output_type": "stream",
     "text": [
      "Deck shuffled...\n"
     ]
    }
   ],
   "source": [
    "mydeck.shuffle()"
   ]
  },
  {
   "cell_type": "code",
   "execution_count": 31,
   "metadata": {},
   "outputs": [
    {
     "name": "stdout",
     "output_type": "stream",
     "text": [
      "52\n"
     ]
    }
   ],
   "source": [
    "print(len(mydeck.all_cards))"
   ]
  },
  {
   "cell_type": "code",
   "execution_count": 32,
   "metadata": {},
   "outputs": [
    {
     "name": "stdout",
     "output_type": "stream",
     "text": [
      "Queen of clubs\n"
     ]
    }
   ],
   "source": [
    "print(mydeck.all_cards[0])"
   ]
  },
  {
   "cell_type": "code",
   "execution_count": 33,
   "metadata": {},
   "outputs": [
    {
     "name": "stdout",
     "output_type": "stream",
     "text": [
      "<__main__.Deck object at 0x1066db350>\n"
     ]
    }
   ],
   "source": [
    "print(mydeck)"
   ]
  },
  {
   "cell_type": "code",
   "execution_count": 34,
   "metadata": {},
   "outputs": [],
   "source": [
    "card_dealt = mydeck.deal_one()"
   ]
  },
  {
   "cell_type": "code",
   "execution_count": 35,
   "metadata": {},
   "outputs": [
    {
     "name": "stdout",
     "output_type": "stream",
     "text": [
      "Ace of diamonds\n"
     ]
    }
   ],
   "source": [
    "print(card_dealt)"
   ]
  },
  {
   "cell_type": "code",
   "execution_count": 105,
   "metadata": {},
   "outputs": [],
   "source": [
    "class Player:\n",
    "\n",
    "    def __init__(self, name, dealt_cards, money=1000):\n",
    "        self.name = name\n",
    "        self.money = money\n",
    "        self.cards = []\n",
    "        self.cards.extend(dealt_cards)\n",
    "        self.value = 0\n",
    "        for card in self.cards:\n",
    "            self.value += card.value\n",
    "\n",
    "    def bet(self, amount):\n",
    "        invalid_amount = True\n",
    "        while invalid_amount is True:\n",
    "            if amount == 0:\n",
    "                print(\"Please enter a value higher than 0.\")\n",
    "            elif self.money - amount < 0:\n",
    "                print(f\"Money after deduction: {self.money - amount}.\\nPlease enter a valid value that will not result in value below 0.\")\n",
    "            else:\n",
    "                print(f\"Bet placed: {amount}\\nRemaining Money: {self.money}.\")\n",
    "                invalid_amount = False\n",
    "                \n",
    "    def hit(self, new_card):\n",
    "        self.cards.append(new_card) # put at the back of the deck\n",
    "\n",
    "    def loss(self, loss):\n",
    "        self.value -= loss\n",
    "        print(str(self.value))\n",
    "\n",
    "    def win(self, win):\n",
    "        self.value += win\n",
    "        print(str(self.value))\n",
    "\n",
    "    def __str__(self):\n",
    "        return f'Player {self.name} has {len(self.cards)} cards.'"
   ]
  },
  {
   "cell_type": "code",
   "execution_count": 106,
   "metadata": {},
   "outputs": [],
   "source": [
    "def deal_cards():\n",
    "    dealt_cards = []\n",
    "    for x in range(0,2):\n",
    "        new_card = mydeck.deal_one()\n",
    "        print(new_card)\n",
    "        dealt_cards.append(new_card)\n",
    "    return dealt_cards"
   ]
  },
  {
   "cell_type": "code",
   "execution_count": 113,
   "metadata": {},
   "outputs": [
    {
     "name": "stdout",
     "output_type": "stream",
     "text": [
      "King of clubs\n",
      "Seven of clubs\n",
      "Nine of hearts\n",
      "Five of clubs\n"
     ]
    }
   ],
   "source": [
    "oscar = Player(\"Oscar\", dealt_cards=deal_cards())\n",
    "george = Player(\"George\", dealt_cards=deal_cards())"
   ]
  },
  {
   "cell_type": "code",
   "execution_count": 114,
   "metadata": {},
   "outputs": [
    {
     "data": {
      "text/plain": [
       "1000"
      ]
     },
     "execution_count": 114,
     "metadata": {},
     "output_type": "execute_result"
    }
   ],
   "source": [
    "oscar.money"
   ]
  },
  {
   "cell_type": "code",
   "execution_count": 115,
   "metadata": {},
   "outputs": [
    {
     "data": {
      "text/plain": [
       "17"
      ]
     },
     "execution_count": 115,
     "metadata": {},
     "output_type": "execute_result"
    }
   ],
   "source": [
    "oscar.value"
   ]
  },
  {
   "cell_type": "code",
   "execution_count": 116,
   "metadata": {},
   "outputs": [
    {
     "data": {
      "text/plain": [
       "14"
      ]
     },
     "execution_count": 116,
     "metadata": {},
     "output_type": "execute_result"
    }
   ],
   "source": [
    "george.value"
   ]
  },
  {
   "cell_type": "code",
   "execution_count": 117,
   "metadata": {},
   "outputs": [
    {
     "name": "stdout",
     "output_type": "stream",
     "text": [
      "Player Oscar has 2 cards.\n",
      "Player George has 2 cards.\n"
     ]
    }
   ],
   "source": [
    "print(oscar)\n",
    "print(george)"
   ]
  }
 ],
 "metadata": {
  "kernelspec": {
   "display_name": "Python 3",
   "language": "python",
   "name": "python3"
  },
  "language_info": {
   "codemirror_mode": {
    "name": "ipython",
    "version": 3
   },
   "file_extension": ".py",
   "mimetype": "text/x-python",
   "name": "python",
   "nbconvert_exporter": "python",
   "pygments_lexer": "ipython3",
   "version": "3.11.3"
  }
 },
 "nbformat": 4,
 "nbformat_minor": 1
}
