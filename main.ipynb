{
 "cells": [
  {
   "cell_type": "markdown",
   "metadata": {},
   "source": [
    "# Python Bootcamp - UDEMY COURSE"
   ]
  },
  {
   "cell_type": "markdown",
   "metadata": {},
   "source": [
    "### Structure:\n",
    "1. object and data structure basics\n",
    "2. Comparison Operators\n",
    "3. Python Statements\n",
    "4. Methods and Functions\n",
    "5. First Milestone Project - Game\n",
    "6. Object-Oriented Programming\n",
    "7. Errors and Exception Handling\n",
    "8. Second Milestone Project - Complex Game\n",
    "9. Modules and Packages\n",
    "10. Built-in Functions\n",
    "11. Decorators in Python\n",
    "12. Python Generators\n",
    "13. Final Capstone Project\n",
    "14. Advanced Python\n",
    "\n",
    "### Python\n",
    "- Readability and ease-of-use\n",
    "- Clear logical code\n",
    "- Optimizing developer's time, not computer's time\n",
    "- Automating simple tasks\n",
    "- Data science and Machine Learning\n",
    "- Create websites - Django and Flask\n",
    "\n",
    "### Terminal\n",
    "pwd = current directory path\n",
    "ls = list of files and folders\n",
    "cd = go in\n",
    "cd .. = go back\n",
    "clear = clear screen\n",
    "\n",
    "### Text Editos / Full IDEs (development environments) / Notebook Environments\n",
    "Sublime/Atom VS PyCharm/Spyder VS JupyterNotebook\n",
    "\n",
    "### Data Types & Structures\n",
    "Data Types: integer, float, strings\n",
    "Data structures: list, dictionary, sets (unordered+unique), tuples (immutable+ordered), booleans\n",
    "\n"
   ]
  },
  {
   "cell_type": "markdown",
   "metadata": {},
   "source": [
    "### Modulo Operator"
   ]
  },
  {
   "cell_type": "code",
   "execution_count": 1,
   "metadata": {},
   "outputs": [
    {
     "data": {
      "text/plain": [
       "1.75"
      ]
     },
     "execution_count": 1,
     "metadata": {},
     "output_type": "execute_result"
    }
   ],
   "source": [
    "7/4"
   ]
  },
  {
   "cell_type": "code",
   "execution_count": 2,
   "metadata": {},
   "outputs": [
    {
     "data": {
      "text/plain": [
       "3"
      ]
     },
     "execution_count": 2,
     "metadata": {},
     "output_type": "execute_result"
    }
   ],
   "source": [
    "7%4 # reminder of division --> see if numbers are divisible"
   ]
  },
  {
   "cell_type": "code",
   "execution_count": 7,
   "metadata": {},
   "outputs": [
    {
     "name": "stdout",
     "output_type": "stream",
     "text": [
      "5.551115123125783e-17\n",
      "0\n"
     ]
    }
   ],
   "source": [
    "val = 0.1+0.2-0.3\n",
    "print(val)\n",
    "print(int(val))"
   ]
  },
  {
   "cell_type": "code",
   "execution_count": 11,
   "metadata": {},
   "outputs": [
    {
     "data": {
      "text/plain": [
       "0.5"
      ]
     },
     "execution_count": 11,
     "metadata": {},
     "output_type": "execute_result"
    }
   ],
   "source": [
    "1/2 # python 3 performs true divisions"
   ]
  },
  {
   "cell_type": "markdown",
   "metadata": {},
   "source": [
    "### Strings"
   ]
  },
  {
   "cell_type": "code",
   "execution_count": 13,
   "metadata": {},
   "outputs": [
    {
     "name": "stdout",
     "output_type": "stream",
     "text": [
      "This is a quote: \"This is great stuff\" - Confucius\n"
     ]
    }
   ],
   "source": [
    "a = \"This is a quote: \\\"This is great stuff\\\" - Confucius\"\n",
    "print(a)"
   ]
  },
  {
   "cell_type": "code",
   "execution_count": 18,
   "metadata": {},
   "outputs": [
    {
     "data": {
      "text/plain": [
       "'quote: \"This is great stuff\" - Confucius'"
      ]
     },
     "execution_count": 18,
     "metadata": {},
     "output_type": "execute_result"
    }
   ],
   "source": [
    "a[10:]"
   ]
  },
  {
   "cell_type": "code",
   "execution_count": 19,
   "metadata": {},
   "outputs": [
    {
     "data": {
      "text/plain": [
       "'This is a quote'"
      ]
     },
     "execution_count": 19,
     "metadata": {},
     "output_type": "execute_result"
    }
   ],
   "source": [
    "a[:15]"
   ]
  },
  {
   "cell_type": "code",
   "execution_count": 22,
   "metadata": {},
   "outputs": [
    {
     "data": {
      "text/plain": [
       "'Ti saqoe Ti sgetsuf  ofcu'"
      ]
     },
     "execution_count": 22,
     "metadata": {},
     "output_type": "execute_result"
    }
   ],
   "source": [
    "a[::2] # jump by step size"
   ]
  },
  {
   "cell_type": "code",
   "execution_count": 23,
   "metadata": {},
   "outputs": [
    {
     "data": {
      "text/plain": [
       "'suicufnoC - \"ffuts taerg si sihT\" :etouq a si sihT'"
      ]
     },
     "execution_count": 23,
     "metadata": {},
     "output_type": "execute_result"
    }
   ],
   "source": [
    "a[::-1] # reverse string"
   ]
  },
  {
   "cell_type": "code",
   "execution_count": 24,
   "metadata": {},
   "outputs": [
    {
     "data": {
      "text/plain": [
       "'r'"
      ]
     },
     "execution_count": 24,
     "metadata": {},
     "output_type": "execute_result"
    }
   ],
   "source": [
    "'Hello World'[-3]"
   ]
  },
  {
   "cell_type": "code",
   "execution_count": 26,
   "metadata": {},
   "outputs": [
    {
     "data": {
      "text/plain": [
       "'This is a quote: \"This is great stuff\" - ConfuciusThis is a quote: \"This is great stuff\" - ConfuciusThis is a quote: \"This is great stuff\" - ConfuciusThis is a quote: \"This is great stuff\" - ConfuciusThis is a quote: \"This is great stuff\" - ConfuciusThis is a quote: \"This is great stuff\" - ConfuciusThis is a quote: \"This is great stuff\" - ConfuciusThis is a quote: \"This is great stuff\" - ConfuciusThis is a quote: \"This is great stuff\" - ConfuciusThis is a quote: \"This is great stuff\" - Confucius'"
      ]
     },
     "execution_count": 26,
     "metadata": {},
     "output_type": "execute_result"
    }
   ],
   "source": [
    "a * 10 # multiplying strings"
   ]
  },
  {
   "cell_type": "code",
   "execution_count": 34,
   "metadata": {},
   "outputs": [
    {
     "name": "stdout",
     "output_type": "stream",
     "text": [
      "THIS IS A QUOTE: \"THIS IS GREAT STUFF\" - CONFUCIUS\n",
      "this is a quote: \"this is great stuff\" - confucius\n",
      "This is a quote: \"this is great stuff\" - confucius\n",
      "['This', 'is', 'a', 'quote:', '\"This', 'is', 'great', 'stuff\"', '-', 'Confucius']\n",
      "['Th', 's ', 's a quote: \"Th', 's ', 's great stuff\" - Confuc', 'us']\n"
     ]
    }
   ],
   "source": [
    "print(a.upper())\n",
    "print(a.lower())\n",
    "print(a.capitalize())\n",
    "split_a = a.split()\n",
    "print(split_a)\n",
    "print(a.split(\"i\"))"
   ]
  },
  {
   "cell_type": "markdown",
   "metadata": {},
   "source": [
    "String formatting"
   ]
  },
  {
   "cell_type": "code",
   "execution_count": 35,
   "metadata": {},
   "outputs": [
    {
     "name": "stdout",
     "output_type": "stream",
     "text": [
      "Well this was a nightmare. Never doing this again in California.\n"
     ]
    }
   ],
   "source": [
    "print(\"Well this was a {}. Never doing this again in {}.\".format(\"nightmare\", \"California\"))"
   ]
  },
  {
   "cell_type": "code",
   "execution_count": 36,
   "metadata": {},
   "outputs": [
    {
     "name": "stdout",
     "output_type": "stream",
     "text": [
      "Well this was a nightmare. Never doing this again in nightmare.\n"
     ]
    }
   ],
   "source": [
    "print(\"Well this was a {0}. Never doing this again in {0}.\".format(\"nightmare\", \"California\"))"
   ]
  },
  {
   "cell_type": "code",
   "execution_count": 37,
   "metadata": {},
   "outputs": [
    {
     "name": "stdout",
     "output_type": "stream",
     "text": [
      "Well this was a California, nightmare. Never again in California.\n"
     ]
    }
   ],
   "source": [
    "print(\"Well this was a {p}, {o}. Never again in {p}.\".format(o=\"nightmare\",p=\"California\"))"
   ]
  },
  {
   "cell_type": "markdown",
   "metadata": {},
   "source": [
    "Float formatting follows \"{value:width.precisionf}\""
   ]
  },
  {
   "cell_type": "code",
   "execution_count": 39,
   "metadata": {},
   "outputs": [],
   "source": [
    "number = 1.2345678"
   ]
  },
  {
   "cell_type": "code",
   "execution_count": 46,
   "metadata": {},
   "outputs": [
    {
     "name": "stdout",
     "output_type": "stream",
     "text": [
      "This is the number = 1.235\n"
     ]
    }
   ],
   "source": [
    "print(\"This is the number = {n:1.3f}\".format(n=number))"
   ]
  },
  {
   "cell_type": "code",
   "execution_count": 57,
   "metadata": {},
   "outputs": [
    {
     "name": "stdout",
     "output_type": "stream",
     "text": [
      "This is the number =            1.2345678\n"
     ]
    }
   ],
   "source": [
    "print(\"This is the number = {n:20.7f}\".format(n=number))"
   ]
  },
  {
   "cell_type": "code",
   "execution_count": null,
   "metadata": {},
   "outputs": [],
   "source": []
  }
 ],
 "metadata": {
  "kernelspec": {
   "display_name": "Python 3",
   "language": "python",
   "name": "python3"
  },
  "language_info": {
   "codemirror_mode": {
    "name": "ipython",
    "version": 3
   },
   "file_extension": ".py",
   "mimetype": "text/x-python",
   "name": "python",
   "nbconvert_exporter": "python",
   "pygments_lexer": "ipython3",
   "version": "3.11.3"
  },
  "orig_nbformat": 4
 },
 "nbformat": 4,
 "nbformat_minor": 2
}
