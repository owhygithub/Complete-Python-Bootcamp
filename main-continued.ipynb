{
 "cells": [
  {
   "cell_type": "markdown",
   "metadata": {},
   "source": [
    "# Python Bootcamp - UDEMY COURSE - n.2"
   ]
  },
  {
   "cell_type": "markdown",
   "metadata": {},
   "source": [
    "### Structure:\n",
    "1. object and data structure basics\n",
    "2. Comparison Operators\n",
    "3. Python Statements\n",
    "4. Methods and Functions\n",
    "5. First Milestone Project - Game\n",
    "6. Object-Oriented Programming\n",
    "7. Errors and Exception Handling\n",
    "8. Second Milestone Project - Complex Game\n",
    "9. Modules and Packages\n",
    "10. Built-in Functions\n",
    "11. Decorators in Python\n",
    "12. Python Generators\n",
    "13. Final Capstone Project\n",
    "14. Advanced Python\n",
    "\n",
    "### Python\n",
    "- Readability and ease-of-use\n",
    "- Clear logical code\n",
    "- Optimizing developer's time, not computer's time\n",
    "- Automating simple tasks\n",
    "- Data science and Machine Learning\n",
    "- Create websites - Django and Flask\n",
    "\n",
    "### Terminal\n",
    "pwd = current directory path\n",
    "ls = list of files and folders\n",
    "cd = go in\n",
    "cd .. = go back\n",
    "clear = clear screen\n",
    "\n",
    "### Text Editos / Full IDEs (development environments) / Notebook Environments\n",
    "Sublime/Atom VS PyCharm/Spyder VS JupyterNotebook\n",
    "\n",
    "### Data Types & Structures\n",
    "Data Types: integer, float, strings\n",
    "Data structures: list, dictionary, sets (unordered+unique), tuples (immutable+ordered), booleans\n",
    "\n"
   ]
  },
  {
   "cell_type": "code",
   "execution_count": null,
   "metadata": {},
   "outputs": [],
   "source": []
  },
  {
   "cell_type": "markdown",
   "metadata": {},
   "source": [
    "# PYTHON DECORATORS"
   ]
  },
  {
   "cell_type": "markdown",
   "metadata": {},
   "source": [
    "### What are decorators?\n",
    "- how to add functionality to old functions?\n",
    "\n",
    "1. add functionality to the old function (extra code) --> problem = unable to call as it is now changed\n",
    "2. create new function with old code + new code --> problem = copy - paste AND delete old function\n",
    "\n",
    "ANOTHER WAY. On/Off switch --> tag on new functinoality to already existing functions (@)\n",
    "- it goes on TOP of the function\n"
   ]
  },
  {
   "cell_type": "code",
   "execution_count": null,
   "metadata": {},
   "outputs": [],
   "source": [
    "\"\"\"\n",
    "@somedecorator\n",
    "def somefunction():\n",
    "    pass\n",
    "\"\"\""
   ]
  },
  {
   "cell_type": "code",
   "execution_count": 1,
   "metadata": {},
   "outputs": [],
   "source": [
    "def func():\n",
    "    return 1"
   ]
  },
  {
   "cell_type": "code",
   "execution_count": 2,
   "metadata": {},
   "outputs": [
    {
     "data": {
      "text/plain": [
       "1"
      ]
     },
     "execution_count": 2,
     "metadata": {},
     "output_type": "execute_result"
    }
   ],
   "source": [
    "func()"
   ]
  },
  {
   "cell_type": "code",
   "execution_count": 5,
   "metadata": {},
   "outputs": [],
   "source": [
    "def hello():\n",
    "    return \"Hello\""
   ]
  },
  {
   "cell_type": "code",
   "execution_count": 6,
   "metadata": {},
   "outputs": [
    {
     "data": {
      "text/plain": [
       "'Hello'"
      ]
     },
     "execution_count": 6,
     "metadata": {},
     "output_type": "execute_result"
    }
   ],
   "source": [
    "hello()"
   ]
  },
  {
   "cell_type": "code",
   "execution_count": 7,
   "metadata": {},
   "outputs": [],
   "source": [
    "greet = hello"
   ]
  },
  {
   "cell_type": "code",
   "execution_count": 8,
   "metadata": {},
   "outputs": [
    {
     "data": {
      "text/plain": [
       "'Hello'"
      ]
     },
     "execution_count": 8,
     "metadata": {},
     "output_type": "execute_result"
    }
   ],
   "source": [
    "greet()"
   ]
  },
  {
   "cell_type": "code",
   "execution_count": 9,
   "metadata": {},
   "outputs": [],
   "source": [
    "del hello"
   ]
  },
  {
   "cell_type": "code",
   "execution_count": 10,
   "metadata": {},
   "outputs": [
    {
     "ename": "NameError",
     "evalue": "name 'hello' is not defined",
     "output_type": "error",
     "traceback": [
      "\u001b[31m---------------------------------------------------------------------------\u001b[39m",
      "\u001b[31mNameError\u001b[39m                                 Traceback (most recent call last)",
      "\u001b[36mCell\u001b[39m\u001b[36m \u001b[39m\u001b[32mIn[10]\u001b[39m\u001b[32m, line 1\u001b[39m\n\u001b[32m----> \u001b[39m\u001b[32m1\u001b[39m \u001b[43mhello\u001b[49m()\n",
      "\u001b[31mNameError\u001b[39m: name 'hello' is not defined"
     ]
    }
   ],
   "source": [
    "hello()"
   ]
  },
  {
   "cell_type": "code",
   "execution_count": 12,
   "metadata": {},
   "outputs": [
    {
     "data": {
      "text/plain": [
       "'Hello'"
      ]
     },
     "execution_count": 12,
     "metadata": {},
     "output_type": "execute_result"
    }
   ],
   "source": [
    "greet()"
   ]
  },
  {
   "cell_type": "code",
   "execution_count": 15,
   "metadata": {},
   "outputs": [],
   "source": [
    "def hello(name='Jose'):\n",
    "    print('this is hello function')\n",
    "\n",
    "    def greet():\n",
    "        return '\\t This is greet function inside!'\n",
    "    \n",
    "    def welcome():\n",
    "        return '\\t This is welcome function inside!'\n",
    "    \n",
    "    print(greet())\n",
    "    print(welcome())\n",
    "\n",
    "    # instead .. return the greet and welcome functions"
   ]
  },
  {
   "cell_type": "code",
   "execution_count": 14,
   "metadata": {},
   "outputs": [
    {
     "name": "stdout",
     "output_type": "stream",
     "text": [
      "this is hello function\n",
      "\t This is greet function inside!\n"
     ]
    }
   ],
   "source": [
    "hello()"
   ]
  },
  {
   "cell_type": "code",
   "execution_count": 20,
   "metadata": {},
   "outputs": [],
   "source": [
    "def hello(name='Jose'):\n",
    "    print('this is hello function')\n",
    "\n",
    "    def greet():\n",
    "        return '\\t This is greet function inside!'\n",
    "    \n",
    "    def welcome():\n",
    "        return '\\t This is welcome function inside!'\n",
    "    \n",
    "    print('I am going to return a function...')\n",
    "\n",
    "    if name == 'Jose':\n",
    "        return greet\n",
    "    else:\n",
    "        return welcome\n",
    "\n",
    "    # instead .. return the greet and welcome functions"
   ]
  },
  {
   "cell_type": "code",
   "execution_count": 21,
   "metadata": {},
   "outputs": [
    {
     "name": "stdout",
     "output_type": "stream",
     "text": [
      "this is hello function\n",
      "I am going to return a function...\n"
     ]
    }
   ],
   "source": [
    "new_func = hello('Jose')"
   ]
  },
  {
   "cell_type": "code",
   "execution_count": 22,
   "metadata": {},
   "outputs": [
    {
     "data": {
      "text/plain": [
       "<function __main__.hello.<locals>.greet()>"
      ]
     },
     "execution_count": 22,
     "metadata": {},
     "output_type": "execute_result"
    }
   ],
   "source": [
    "# pointing to the greet function inside the hello function\n",
    "new_func"
   ]
  },
  {
   "cell_type": "code",
   "execution_count": 23,
   "metadata": {},
   "outputs": [],
   "source": [
    "def cool():\n",
    "\n",
    "    def super_cool():\n",
    "        return 'I am very cool!'\n",
    "    \n",
    "    return super_cool"
   ]
  },
  {
   "cell_type": "code",
   "execution_count": 24,
   "metadata": {},
   "outputs": [],
   "source": [
    "some_func = cool()"
   ]
  },
  {
   "cell_type": "code",
   "execution_count": null,
   "metadata": {},
   "outputs": [
    {
     "data": {
      "text/plain": [
       "<function __main__.cool.<locals>.super_cool()>"
      ]
     },
     "execution_count": 25,
     "metadata": {},
     "output_type": "execute_result"
    }
   ],
   "source": [
    "# because the cool() function is returning the super_cool() function, \n",
    "# the assignment is also pointing towards super_cool\n",
    "\n",
    "some_func"
   ]
  },
  {
   "cell_type": "code",
   "execution_count": 26,
   "metadata": {},
   "outputs": [],
   "source": [
    "# passing an outside function inside another function\n",
    "\n",
    "def hello():\n",
    "    return 'Hi Jose!'"
   ]
  },
  {
   "cell_type": "code",
   "execution_count": 27,
   "metadata": {},
   "outputs": [],
   "source": [
    "def other(some_other_func):\n",
    "    print('other code is here --v')\n",
    "    print(some_other_func)"
   ]
  },
  {
   "cell_type": "code",
   "execution_count": 29,
   "metadata": {},
   "outputs": [
    {
     "data": {
      "text/plain": [
       "'Hi Jose!'"
      ]
     },
     "execution_count": 29,
     "metadata": {},
     "output_type": "execute_result"
    }
   ],
   "source": [
    "hello()"
   ]
  },
  {
   "cell_type": "code",
   "execution_count": 30,
   "metadata": {},
   "outputs": [
    {
     "name": "stdout",
     "output_type": "stream",
     "text": [
      "other code is here --v\n",
      "Hi Jose!\n"
     ]
    }
   ],
   "source": [
    "other(hello())"
   ]
  },
  {
   "cell_type": "markdown",
   "metadata": {},
   "source": [
    "##### decorator mechanism"
   ]
  },
  {
   "cell_type": "code",
   "execution_count": 31,
   "metadata": {},
   "outputs": [],
   "source": [
    "def new_decorator(original_func):\n",
    "\n",
    "    def wrap_func():\n",
    "        print('some extra code before...')\n",
    "        original_func()\n",
    "        print('some extra code after...')\n",
    "\n",
    "    return wrap_func"
   ]
  },
  {
   "cell_type": "code",
   "execution_count": null,
   "metadata": {},
   "outputs": [],
   "source": [
    "def func_needs_decorator():\n",
    "    print('I want to be decorated')"
   ]
  },
  {
   "cell_type": "code",
   "execution_count": 34,
   "metadata": {},
   "outputs": [],
   "source": [
    "decorated_func = new_decorator(func_needs_decorator)"
   ]
  },
  {
   "cell_type": "code",
   "execution_count": 37,
   "metadata": {},
   "outputs": [
    {
     "name": "stdout",
     "output_type": "stream",
     "text": [
      "some extra code before...\n",
      "I want to be decorated\n",
      "some extra code after...\n"
     ]
    }
   ],
   "source": [
    "decorated_func()"
   ]
  },
  {
   "cell_type": "code",
   "execution_count": null,
   "metadata": {},
   "outputs": [],
   "source": [
    "## SPECIAL SYNTAX @\n",
    "\n",
    "@new_decorator\n",
    "def func_needs_decorator():\n",
    "    print('I want to be decorated')"
   ]
  },
  {
   "cell_type": "code",
   "execution_count": 42,
   "metadata": {},
   "outputs": [
    {
     "name": "stdout",
     "output_type": "stream",
     "text": [
      "I want to be decorated\n"
     ]
    }
   ],
   "source": [
    "func_needs_decorator()"
   ]
  },
  {
   "cell_type": "markdown",
   "metadata": {},
   "source": [
    "The on / off switch for decorators (comment in and out for easy use)"
   ]
  },
  {
   "cell_type": "markdown",
   "metadata": {},
   "source": [
    "## GENERATORS"
   ]
  },
  {
   "cell_type": "code",
   "execution_count": 1,
   "metadata": {},
   "outputs": [],
   "source": [
    "def create_cubes(n):\n",
    "    result = []\n",
    "    for x in range(n):\n",
    "        result.append(x**3) # creating cubed values for all numbers until 'n'\n",
    "    return result"
   ]
  },
  {
   "cell_type": "code",
   "execution_count": 5,
   "metadata": {},
   "outputs": [
    {
     "name": "stdout",
     "output_type": "stream",
     "text": [
      "[0, 1, 8, 27, 64, 125, 216, 343, 512, 729]\n"
     ]
    }
   ],
   "source": [
    "print(create_cubes(10))"
   ]
  },
  {
   "cell_type": "markdown",
   "metadata": {},
   "source": [
    "I don't want to store any of this in memory. Generate me the values directly one by one.\n",
    "\n",
    "Using \"yield\""
   ]
  },
  {
   "cell_type": "code",
   "execution_count": 7,
   "metadata": {},
   "outputs": [],
   "source": [
    "def create_cubes(n):\n",
    "    for x in range(n):\n",
    "        yield(x**3) # directly yielding"
   ]
  },
  {
   "cell_type": "code",
   "execution_count": 12,
   "metadata": {},
   "outputs": [
    {
     "name": "stdout",
     "output_type": "stream",
     "text": [
      "0\n",
      "1\n",
      "8\n",
      "27\n",
      "64\n",
      "125\n",
      "216\n",
      "343\n",
      "512\n",
      "729\n"
     ]
    }
   ],
   "source": [
    "for x in create_cubes(10): # must iterate through it. \n",
    "    print(x)"
   ]
  },
  {
   "cell_type": "code",
   "execution_count": 18,
   "metadata": {},
   "outputs": [
    {
     "name": "stdout",
     "output_type": "stream",
     "text": [
      "[0, 1, 8, 27, 64, 125, 216, 343, 512, 729]\n"
     ]
    }
   ],
   "source": [
    "# if you want the list:\n",
    "a = list(create_cubes(10))\n",
    "print(a)"
   ]
  },
  {
   "cell_type": "code",
   "execution_count": 19,
   "metadata": {},
   "outputs": [],
   "source": [
    "# generating a fibonacci sequence:\n",
    "\n",
    "def gen_fib_seq(n):\n",
    "\n",
    "    a = 1\n",
    "    b = 1\n",
    "    for i in range(n): # up to number we want\n",
    "        yield a\n",
    "        a,b = b,a+b\n"
   ]
  },
  {
   "cell_type": "code",
   "execution_count": 20,
   "metadata": {},
   "outputs": [
    {
     "name": "stdout",
     "output_type": "stream",
     "text": [
      "1\n",
      "1\n",
      "2\n",
      "3\n",
      "5\n",
      "8\n",
      "13\n",
      "21\n",
      "34\n",
      "55\n"
     ]
    }
   ],
   "source": [
    "for n in gen_fib_seq(10):\n",
    "    print(n)"
   ]
  },
  {
   "cell_type": "markdown",
   "metadata": {},
   "source": [
    "# ADVANCED PYTHON MODULES"
   ]
  },
  {
   "cell_type": "markdown",
   "metadata": {},
   "source": [
    "### Counter"
   ]
  },
  {
   "cell_type": "code",
   "execution_count": 25,
   "metadata": {},
   "outputs": [],
   "source": [
    "from collections import Counter"
   ]
  },
  {
   "cell_type": "code",
   "execution_count": 26,
   "metadata": {},
   "outputs": [],
   "source": [
    "my_ls = [2, 2, 3, 13, 3, 4, 14, 33, 23, 2, 3, 23, 2, 9, 3, 4]"
   ]
  },
  {
   "cell_type": "code",
   "execution_count": 29,
   "metadata": {},
   "outputs": [],
   "source": [
    "c = Counter(my_ls)"
   ]
  },
  {
   "cell_type": "code",
   "execution_count": 31,
   "metadata": {},
   "outputs": [
    {
     "data": {
      "text/plain": [
       "Counter({2: 4, 3: 4, 4: 2, 23: 2, 13: 1, 14: 1, 33: 1, 9: 1})"
      ]
     },
     "execution_count": 31,
     "metadata": {},
     "output_type": "execute_result"
    }
   ],
   "source": [
    "c"
   ]
  },
  {
   "cell_type": "code",
   "execution_count": 32,
   "metadata": {},
   "outputs": [
    {
     "data": {
      "text/plain": [
       "[(2, 4), (3, 4), (4, 2)]"
      ]
     },
     "execution_count": 32,
     "metadata": {},
     "output_type": "execute_result"
    }
   ],
   "source": [
    "c.most_common(3)"
   ]
  },
  {
   "cell_type": "code",
   "execution_count": 39,
   "metadata": {},
   "outputs": [],
   "source": [
    "a = {\"key1\": 1,\"key2\": 2, \"key3\": 3}"
   ]
  },
  {
   "cell_type": "code",
   "execution_count": 44,
   "metadata": {},
   "outputs": [
    {
     "data": {
      "text/plain": [
       "2"
      ]
     },
     "execution_count": 44,
     "metadata": {},
     "output_type": "execute_result"
    }
   ],
   "source": [
    "a[\"key2\"]"
   ]
  },
  {
   "cell_type": "markdown",
   "metadata": {},
   "source": [
    "### Default Dictionary"
   ]
  },
  {
   "cell_type": "code",
   "execution_count": 46,
   "metadata": {},
   "outputs": [],
   "source": [
    "from collections import defaultdict"
   ]
  },
  {
   "cell_type": "code",
   "execution_count": 47,
   "metadata": {},
   "outputs": [],
   "source": [
    "d = defaultdict(lambda: 0)"
   ]
  },
  {
   "cell_type": "code",
   "execution_count": 48,
   "metadata": {},
   "outputs": [
    {
     "data": {
      "text/plain": [
       "0"
      ]
     },
     "execution_count": 48,
     "metadata": {},
     "output_type": "execute_result"
    }
   ],
   "source": [
    "d['correct']"
   ]
  },
  {
   "cell_type": "markdown",
   "metadata": {},
   "source": [
    "### Named Tuple"
   ]
  },
  {
   "cell_type": "code",
   "execution_count": 49,
   "metadata": {},
   "outputs": [],
   "source": [
    "from collections import namedtuple"
   ]
  },
  {
   "cell_type": "code",
   "execution_count": 51,
   "metadata": {},
   "outputs": [],
   "source": [
    "Person = namedtuple('Person', ['age','nationality','name'])"
   ]
  },
  {
   "cell_type": "code",
   "execution_count": 52,
   "metadata": {},
   "outputs": [],
   "source": [
    "oscar = Person(age=25, nationality=\"Czech\", name=\"Oscar\")"
   ]
  },
  {
   "cell_type": "code",
   "execution_count": 53,
   "metadata": {},
   "outputs": [
    {
     "data": {
      "text/plain": [
       "__main__.Person"
      ]
     },
     "execution_count": 53,
     "metadata": {},
     "output_type": "execute_result"
    }
   ],
   "source": [
    "type(oscar)"
   ]
  },
  {
   "cell_type": "code",
   "execution_count": 58,
   "metadata": {},
   "outputs": [
    {
     "data": {
      "text/plain": [
       "25"
      ]
     },
     "execution_count": 58,
     "metadata": {},
     "output_type": "execute_result"
    }
   ],
   "source": [
    "oscar.age"
   ]
  },
  {
   "cell_type": "markdown",
   "metadata": {},
   "source": [
    "### OPENING AND READING FILES"
   ]
  },
  {
   "cell_type": "code",
   "execution_count": null,
   "metadata": {},
   "outputs": [],
   "source": [
    "# os & shutil\n",
    "\n",
    "import os\n",
    "import shutil # shell utility module --> moving files"
   ]
  },
  {
   "cell_type": "code",
   "execution_count": null,
   "metadata": {},
   "outputs": [
    {
     "data": {
      "text/plain": [
       "'/Users/oscarw/Library/Mobile Documents/com~apple~CloudDocs/Documents/github/Complete-Python-Bootcamp'"
      ]
     },
     "execution_count": 61,
     "metadata": {},
     "output_type": "execute_result"
    }
   ],
   "source": [
    "pwd # in jupyter"
   ]
  },
  {
   "cell_type": "code",
   "execution_count": null,
   "metadata": {},
   "outputs": [],
   "source": [
    "f = open('practice.txt', 'w+') # doesn't exist yet, it will create it with \"w+\"\n",
    "f.write('This is a test file...')\n",
    "f.close()"
   ]
  },
  {
   "cell_type": "code",
   "execution_count": 64,
   "metadata": {},
   "outputs": [
    {
     "data": {
      "text/plain": [
       "'/Users/oscarw/Library/Mobile Documents/com~apple~CloudDocs/Documents/github/Complete-Python-Bootcamp'"
      ]
     },
     "execution_count": 64,
     "metadata": {},
     "output_type": "execute_result"
    }
   ],
   "source": [
    "os.getcwd() # any python script"
   ]
  },
  {
   "cell_type": "code",
   "execution_count": 65,
   "metadata": {},
   "outputs": [
    {
     "data": {
      "text/plain": [
       "['Milestone 2',\n",
       " 'main.ipynb',\n",
       " '.DS_Store',\n",
       " 'main-continued.ipynb',\n",
       " 'Milestone2',\n",
       " 'practice.txt',\n",
       " 'hacker-rank',\n",
       " 'tests',\n",
       " 'my_new_file.txt',\n",
       " 'Python-challenge.ipynb',\n",
       " 'Methods_Functions.ipynb',\n",
       " 'notes',\n",
       " 'Milestone1',\n",
       " 'myfile.txt',\n",
       " 'my_package',\n",
       " '.git',\n",
       " 'main.py',\n",
       " 'python_package.py',\n",
       " '.idea']"
      ]
     },
     "execution_count": 65,
     "metadata": {},
     "output_type": "execute_result"
    }
   ],
   "source": [
    "os.listdir()"
   ]
  },
  {
   "cell_type": "code",
   "execution_count": 67,
   "metadata": {},
   "outputs": [
    {
     "data": {
      "text/plain": [
       "['.DS_Store', '.localized', 'github']"
      ]
     },
     "execution_count": 67,
     "metadata": {},
     "output_type": "execute_result"
    }
   ],
   "source": [
    "os.listdir(\"/Users/oscarw/Library/Mobile Documents/com~apple~CloudDocs/Documents\")"
   ]
  },
  {
   "cell_type": "code",
   "execution_count": 68,
   "metadata": {},
   "outputs": [
    {
     "data": {
      "text/plain": [
       "'/Users/oscarw/Library/Mobile Documents/com~apple~CloudDocs/Documents/github/Complete-Python-Bootcamp'"
      ]
     },
     "execution_count": 68,
     "metadata": {},
     "output_type": "execute_result"
    }
   ],
   "source": [
    "os.getcwd()"
   ]
  },
  {
   "cell_type": "code",
   "execution_count": 70,
   "metadata": {},
   "outputs": [
    {
     "data": {
      "text/plain": [
       "'/Users/oscarw/Library/Mobile Documents/com~apple~CloudDocs/Documents/github/Complete-Python-Bootcamp/hacker-rank/practice.txt'"
      ]
     },
     "execution_count": 70,
     "metadata": {},
     "output_type": "execute_result"
    }
   ],
   "source": [
    "shutil.move('practice.txt', '/Users/oscarw/Library/Mobile Documents/com~apple~CloudDocs/Documents/github/Complete-Python-Bootcamp/hacker-rank')"
   ]
  },
  {
   "cell_type": "code",
   "execution_count": null,
   "metadata": {},
   "outputs": [],
   "source": [
    "# UNLINK - path deleting\n",
    "# os.unlink(path)\n",
    "\n",
    "# RMDIR - deleting empty folder\n",
    "# os.rmdir(path)\n",
    "\n",
    "# RMTREE - dangerous, all files and folders in the path\n",
    "# shutil.rmtree(path)"
   ]
  },
  {
   "cell_type": "markdown",
   "metadata": {},
   "source": [
    "#### using send2trash is safer but it is an external module\n"
   ]
  },
  {
   "cell_type": "code",
   "execution_count": 72,
   "metadata": {},
   "outputs": [
    {
     "name": "stdout",
     "output_type": "stream",
     "text": [
      "Requirement already satisfied: send2trash in /Library/Frameworks/Python.framework/Versions/3.12/lib/python3.12/site-packages (1.8.3)\n",
      "\n",
      "\u001b[1m[\u001b[0m\u001b[34;49mnotice\u001b[0m\u001b[1;39;49m]\u001b[0m\u001b[39;49m A new release of pip is available: \u001b[0m\u001b[31;49m25.1.1\u001b[0m\u001b[39;49m -> \u001b[0m\u001b[32;49m25.2\u001b[0m\n",
      "\u001b[1m[\u001b[0m\u001b[34;49mnotice\u001b[0m\u001b[1;39;49m]\u001b[0m\u001b[39;49m To update, run: \u001b[0m\u001b[32;49mpip install --upgrade pip\u001b[0m\n"
     ]
    }
   ],
   "source": [
    "!pip install send2trash"
   ]
  },
  {
   "cell_type": "code",
   "execution_count": 71,
   "metadata": {},
   "outputs": [],
   "source": [
    "import send2trash"
   ]
  },
  {
   "cell_type": "code",
   "execution_count": 74,
   "metadata": {},
   "outputs": [
    {
     "ename": "Error",
     "evalue": "Destination path '/Users/oscarw/Library/Mobile Documents/com~apple~CloudDocs/Documents/github/Complete-Python-Bootcamp/practice.txt' already exists",
     "output_type": "error",
     "traceback": [
      "\u001b[31m---------------------------------------------------------------------------\u001b[39m",
      "\u001b[31mError\u001b[39m                                     Traceback (most recent call last)",
      "\u001b[36mCell\u001b[39m\u001b[36m \u001b[39m\u001b[32mIn[74]\u001b[39m\u001b[32m, line 2\u001b[39m\n\u001b[32m      1\u001b[39m \u001b[38;5;66;03m# moving it back to og folder\u001b[39;00m\n\u001b[32m----> \u001b[39m\u001b[32m2\u001b[39m \u001b[43mshutil\u001b[49m\u001b[43m.\u001b[49m\u001b[43mmove\u001b[49m\u001b[43m(\u001b[49m\u001b[33;43m\"\u001b[39;49m\u001b[33;43m/Users/oscarw/Library/Mobile Documents/com~apple~CloudDocs/Documents/github/Complete-Python-Bootcamp/hacker-rank/practice.txt\u001b[39;49m\u001b[33;43m\"\u001b[39;49m\u001b[43m,\u001b[49m\u001b[43m \u001b[49m\u001b[33;43m\"\u001b[39;49m\u001b[33;43m/Users/oscarw/Library/Mobile Documents/com~apple~CloudDocs/Documents/github/Complete-Python-Bootcamp\u001b[39;49m\u001b[33;43m\"\u001b[39;49m\u001b[43m)\u001b[49m\n",
      "\u001b[36mFile \u001b[39m\u001b[32m/Library/Frameworks/Python.framework/Versions/3.12/lib/python3.12/shutil.py:860\u001b[39m, in \u001b[36mmove\u001b[39m\u001b[34m(src, dst, copy_function)\u001b[39m\n\u001b[32m    857\u001b[39m     real_dst = os.path.join(dst, _basename(src))\n\u001b[32m    859\u001b[39m     \u001b[38;5;28;01mif\u001b[39;00m os.path.exists(real_dst):\n\u001b[32m--> \u001b[39m\u001b[32m860\u001b[39m         \u001b[38;5;28;01mraise\u001b[39;00m Error(\u001b[33m\"\u001b[39m\u001b[33mDestination path \u001b[39m\u001b[33m'\u001b[39m\u001b[38;5;132;01m%s\u001b[39;00m\u001b[33m'\u001b[39m\u001b[33m already exists\u001b[39m\u001b[33m\"\u001b[39m % real_dst)\n\u001b[32m    861\u001b[39m \u001b[38;5;28;01mtry\u001b[39;00m:\n\u001b[32m    862\u001b[39m     os.rename(src, real_dst)\n",
      "\u001b[31mError\u001b[39m: Destination path '/Users/oscarw/Library/Mobile Documents/com~apple~CloudDocs/Documents/github/Complete-Python-Bootcamp/practice.txt' already exists"
     ]
    }
   ],
   "source": [
    "# moving it back to og folder\n",
    "shutil.move(\"/Users/oscarw/Library/Mobile Documents/com~apple~CloudDocs/Documents/github/Complete-Python-Bootcamp/hacker-rank/practice.txt\", \"/Users/oscarw/Library/Mobile Documents/com~apple~CloudDocs/Documents/github/Complete-Python-Bootcamp\")"
   ]
  },
  {
   "cell_type": "code",
   "execution_count": 75,
   "metadata": {},
   "outputs": [],
   "source": [
    "send2trash.send2trash('/Users/oscarw/Library/Mobile Documents/com~apple~CloudDocs/Documents/github/Complete-Python-Bootcamp/practice.txt')"
   ]
  },
  {
   "cell_type": "markdown",
   "metadata": {},
   "source": [
    "### OS WALK"
   ]
  },
  {
   "cell_type": "markdown",
   "metadata": {},
   "source": [
    "#### showing all folders, subfolders, and files"
   ]
  },
  {
   "cell_type": "code",
   "execution_count": 77,
   "metadata": {},
   "outputs": [
    {
     "name": "stdout",
     "output_type": "stream",
     "text": [
      "We are looking at folder: /Users/oscarw/Library/Mobile Documents/com~apple~CloudDocs/Documents/github/Complete-Python-Bootcamp\n",
      "Subfolders are:\n",
      "/tMilestone 2\n",
      "/tMilestone2\n",
      "/thacker-rank\n",
      "/ttests\n",
      "/tMilestone1\n",
      "/tmy_package\n",
      "/t.git\n",
      "/t.idea\n",
      "Files are:\n",
      "/tmain.ipynb\n",
      "/t.DS_Store\n",
      "/tmain-continued.ipynb\n",
      "/tmy_new_file.txt\n",
      "/tPython-challenge.ipynb\n",
      "/tMethods_Functions.ipynb\n",
      "/tnotes\n",
      "/tmyfile.txt\n",
      "/tmain.py\n",
      "/tpython_package.py\n",
      "We are looking at folder: /Users/oscarw/Library/Mobile Documents/com~apple~CloudDocs/Documents/github/Complete-Python-Bootcamp/Milestone 2\n",
      "Subfolders are:\n",
      "Files are:\n",
      "/t01-Milestone Project 2 - Assignment.ipynb\n",
      "We are looking at folder: /Users/oscarw/Library/Mobile Documents/com~apple~CloudDocs/Documents/github/Complete-Python-Bootcamp/Milestone2\n",
      "Subfolders are:\n",
      "Files are:\n",
      "/t00-Milestone-2-Warmup-Project.ipynb\n",
      "/t03-Milestone Project 2 - Complete Walkthrough Solution.ipynb\n",
      "/t02-Milestone Project 2 - Walkthrough Steps Workbook.ipynb\n",
      "/t01-Milestone Project2-Assignment.ipynb\n",
      "We are looking at folder: /Users/oscarw/Library/Mobile Documents/com~apple~CloudDocs/Documents/github/Complete-Python-Bootcamp/hacker-rank\n",
      "Subfolders are:\n",
      "/ttasks\n",
      "Files are:\n",
      "/thacker-rank.ipynb\n",
      "We are looking at folder: /Users/oscarw/Library/Mobile Documents/com~apple~CloudDocs/Documents/github/Complete-Python-Bootcamp/hacker-rank/tasks\n",
      "Subfolders are:\n",
      "Files are:\n",
      "/tScreenshot 2025-02-09 at 17.57.07.png\n",
      "/tScreenshot 2025-02-09 at 19.38.02.png\n",
      "We are looking at folder: /Users/oscarw/Library/Mobile Documents/com~apple~CloudDocs/Documents/github/Complete-Python-Bootcamp/tests\n",
      "Subfolders are:\n",
      "/tSolutions\n",
      "Files are:\n",
      "/t04-OOP Challenge.ipynb\n",
      "/t07-Statements Assessment Test.ipynb\n",
      "/t09-Guessing Game Challenge.ipynb\n",
      "/t05-OOP Challenge - Solution.ipynb\n",
      "/t03-Object Oriented Programming Homework - Solution.ipynb\n",
      "/t03-Function Practice Exercises.ipynb\n",
      "/t09-Objects and Data Structures Assessment Test.ipynb\n",
      "/t02-Object Oriented Programming Homework.ipynb\n",
      "/t02-Decorators Homework.ipynb\n",
      "/t08-Functions and Methods Homework.ipynb\n",
      "/t02-Iterators and Generators Homework.ipynb\n",
      "We are looking at folder: /Users/oscarw/Library/Mobile Documents/com~apple~CloudDocs/Documents/github/Complete-Python-Bootcamp/tests/Solutions\n",
      "Subfolders are:\n",
      "Files are:\n",
      "/t08-Statements Assessment Test - Solutions.ipynb\n",
      "/t10-Guessing Game Challenge - Solution.ipynb\n",
      "/t10-Objects and Data Structures Assessment Test-Solution.ipynb\n",
      "/t09-Functions and Methods Homework - Solutions.ipynb\n",
      "/t04-Function Practice Exercises - Solutions.ipynb\n",
      "We are looking at folder: /Users/oscarw/Library/Mobile Documents/com~apple~CloudDocs/Documents/github/Complete-Python-Bootcamp/Milestone1\n",
      "Subfolders are:\n",
      "Files are:\n",
      "/t00-Warm-Up-Project-Exercises.ipynb\n",
      "/t02-Milestone Project 1 - Walkthrough Steps Workbook.ipynb\n",
      "/t01-Milestone Project 1 - Assignment.ipynb\n",
      "/t03-Milestone Project 1 - Complete Walkthrough Solution.ipynb\n",
      "We are looking at folder: /Users/oscarw/Library/Mobile Documents/com~apple~CloudDocs/Documents/github/Complete-Python-Bootcamp/my_package\n",
      "Subfolders are:\n",
      "/t__pycache__\n",
      "/tSubPackage\n",
      "Files are:\n",
      "/t__init__.py\n",
      "/tsome_main_script.py\n",
      "We are looking at folder: /Users/oscarw/Library/Mobile Documents/com~apple~CloudDocs/Documents/github/Complete-Python-Bootcamp/my_package/__pycache__\n",
      "Subfolders are:\n",
      "Files are:\n",
      "/tsome_main_script.cpython-311.pyc\n",
      "/t__init__.cpython-311.pyc\n",
      "We are looking at folder: /Users/oscarw/Library/Mobile Documents/com~apple~CloudDocs/Documents/github/Complete-Python-Bootcamp/my_package/SubPackage\n",
      "Subfolders are:\n",
      "/t__pycache__\n",
      "Files are:\n",
      "/t__init__.py\n",
      "/tmysubscript.py\n",
      "/tuntitled\n",
      "We are looking at folder: /Users/oscarw/Library/Mobile Documents/com~apple~CloudDocs/Documents/github/Complete-Python-Bootcamp/my_package/SubPackage/__pycache__\n",
      "Subfolders are:\n",
      "Files are:\n",
      "/tmysubscript.cpython-311.pyc\n",
      "/t__init__.cpython-311.pyc\n",
      "We are looking at folder: /Users/oscarw/Library/Mobile Documents/com~apple~CloudDocs/Documents/github/Complete-Python-Bootcamp/.git\n",
      "Subfolders are:\n",
      "/tobjects\n",
      "/tinfo\n",
      "/tlogs\n",
      "/thooks\n",
      "/trefs\n",
      "Files are:\n",
      "/tconfig\n",
      "/tHEAD\n",
      "/tdescription\n",
      "/tindex\n",
      "/tpacked-refs\n",
      "/tCOMMIT_EDITMSG\n",
      "/tFETCH_HEAD\n",
      "We are looking at folder: /Users/oscarw/Library/Mobile Documents/com~apple~CloudDocs/Documents/github/Complete-Python-Bootcamp/.git/objects\n",
      "Subfolders are:\n",
      "/t95\n",
      "/tb4\n",
      "/ta5\n",
      "/tbd\n",
      "/td1\n",
      "/teb\n",
      "/tee\n",
      "/tc9\n",
      "/tf2\n",
      "/tfb\n",
      "/ted\n",
      "/tpack\n",
      "/t11\n",
      "/t7b\n",
      "/t8f\n",
      "/t19\n",
      "/t07\n",
      "/tinfo\n",
      "/t96\n",
      "/t3f\n",
      "/t5b\n",
      "/t6d\n",
      "/t97\n",
      "/t64\n",
      "/tb8\n",
      "/tf0\n",
      "/tf7\n",
      "/tf1\n",
      "/t79\n",
      "/t77\n",
      "/t71\n",
      "Files are:\n",
      "We are looking at folder: /Users/oscarw/Library/Mobile Documents/com~apple~CloudDocs/Documents/github/Complete-Python-Bootcamp/.git/objects/95\n",
      "Subfolders are:\n",
      "Files are:\n",
      "/t57f1d93ab6fb5d366f55405dd01c2648cf211e\n",
      "We are looking at folder: /Users/oscarw/Library/Mobile Documents/com~apple~CloudDocs/Documents/github/Complete-Python-Bootcamp/.git/objects/b4\n",
      "Subfolders are:\n",
      "Files are:\n",
      "/tcecf16054a6e5c911a9f2590c88618cb5fd55e\n",
      "We are looking at folder: /Users/oscarw/Library/Mobile Documents/com~apple~CloudDocs/Documents/github/Complete-Python-Bootcamp/.git/objects/a5\n",
      "Subfolders are:\n",
      "Files are:\n",
      "/teb1ce348666d2862951c0534331829689fb956\n",
      "We are looking at folder: /Users/oscarw/Library/Mobile Documents/com~apple~CloudDocs/Documents/github/Complete-Python-Bootcamp/.git/objects/bd\n",
      "Subfolders are:\n",
      "Files are:\n",
      "/t3b9c5cc94492bc239089e06f5585786140ca11\n",
      "We are looking at folder: /Users/oscarw/Library/Mobile Documents/com~apple~CloudDocs/Documents/github/Complete-Python-Bootcamp/.git/objects/d1\n",
      "Subfolders are:\n",
      "Files are:\n",
      "/t6b064a98f3a647a5db58c5535b474ff042a71c\n",
      "We are looking at folder: /Users/oscarw/Library/Mobile Documents/com~apple~CloudDocs/Documents/github/Complete-Python-Bootcamp/.git/objects/eb\n",
      "Subfolders are:\n",
      "Files are:\n",
      "/tebc7d2e759601e6c0ff8c2f4d49f2f05e235b9\n",
      "We are looking at folder: /Users/oscarw/Library/Mobile Documents/com~apple~CloudDocs/Documents/github/Complete-Python-Bootcamp/.git/objects/ee\n",
      "Subfolders are:\n",
      "Files are:\n",
      "/tacafadbcaae4584b8d2f6ad849a65b61985df7\n",
      "We are looking at folder: /Users/oscarw/Library/Mobile Documents/com~apple~CloudDocs/Documents/github/Complete-Python-Bootcamp/.git/objects/c9\n",
      "Subfolders are:\n",
      "Files are:\n",
      "/te86c143540eb54f992f32c285e23daea58865a\n",
      "We are looking at folder: /Users/oscarw/Library/Mobile Documents/com~apple~CloudDocs/Documents/github/Complete-Python-Bootcamp/.git/objects/f2\n",
      "Subfolders are:\n",
      "Files are:\n",
      "/te10aeaf0c73a2c4b9133bbc828dff83802f69a\n",
      "We are looking at folder: /Users/oscarw/Library/Mobile Documents/com~apple~CloudDocs/Documents/github/Complete-Python-Bootcamp/.git/objects/fb\n",
      "Subfolders are:\n",
      "Files are:\n",
      "/t7fc8cb8f4001aba9b1613de54c369ecc034a9e\n",
      "We are looking at folder: /Users/oscarw/Library/Mobile Documents/com~apple~CloudDocs/Documents/github/Complete-Python-Bootcamp/.git/objects/ed\n",
      "Subfolders are:\n",
      "Files are:\n",
      "/tccba5aa1daa5cf9dad90da59727806b1bddb96\n",
      "We are looking at folder: /Users/oscarw/Library/Mobile Documents/com~apple~CloudDocs/Documents/github/Complete-Python-Bootcamp/.git/objects/pack\n",
      "Subfolders are:\n",
      "Files are:\n",
      "/tpack-5f6965500098b30dbd14bbeaae2e7a79f3e3f7cf.idx\n",
      "/tpack-5f6965500098b30dbd14bbeaae2e7a79f3e3f7cf.pack\n",
      "/tpack-5f6965500098b30dbd14bbeaae2e7a79f3e3f7cf.rev\n",
      "We are looking at folder: /Users/oscarw/Library/Mobile Documents/com~apple~CloudDocs/Documents/github/Complete-Python-Bootcamp/.git/objects/11\n",
      "Subfolders are:\n",
      "Files are:\n",
      "/tef43ba3a687080e8594acb307d7c80e9b91f2c\n",
      "We are looking at folder: /Users/oscarw/Library/Mobile Documents/com~apple~CloudDocs/Documents/github/Complete-Python-Bootcamp/.git/objects/7b\n",
      "Subfolders are:\n",
      "Files are:\n",
      "/tfac341579a4e7c1238f582663c991798e787f8\n",
      "We are looking at folder: /Users/oscarw/Library/Mobile Documents/com~apple~CloudDocs/Documents/github/Complete-Python-Bootcamp/.git/objects/8f\n",
      "Subfolders are:\n",
      "Files are:\n",
      "/te2c2fb2be701a68890888575d4b3050095f098\n",
      "We are looking at folder: /Users/oscarw/Library/Mobile Documents/com~apple~CloudDocs/Documents/github/Complete-Python-Bootcamp/.git/objects/19\n",
      "Subfolders are:\n",
      "Files are:\n",
      "/t313e9c5cf3661e62e9a119908d5e8c658cd89a\n",
      "We are looking at folder: /Users/oscarw/Library/Mobile Documents/com~apple~CloudDocs/Documents/github/Complete-Python-Bootcamp/.git/objects/07\n",
      "Subfolders are:\n",
      "Files are:\n",
      "/t5767ba0e39d42ebf91e1ec6cf19cde108c87d0\n",
      "We are looking at folder: /Users/oscarw/Library/Mobile Documents/com~apple~CloudDocs/Documents/github/Complete-Python-Bootcamp/.git/objects/info\n",
      "Subfolders are:\n",
      "Files are:\n",
      "We are looking at folder: /Users/oscarw/Library/Mobile Documents/com~apple~CloudDocs/Documents/github/Complete-Python-Bootcamp/.git/objects/96\n",
      "Subfolders are:\n",
      "Files are:\n",
      "/tf2919c16140551d04a67e3c463647bd61e810f\n",
      "/te495fb3e7abec7442d6f10ac50a0e7c7039692\n",
      "We are looking at folder: /Users/oscarw/Library/Mobile Documents/com~apple~CloudDocs/Documents/github/Complete-Python-Bootcamp/.git/objects/3f\n",
      "Subfolders are:\n",
      "Files are:\n",
      "/te931316ef4ccaee28aa38e1eb69cdb01827c34\n",
      "We are looking at folder: /Users/oscarw/Library/Mobile Documents/com~apple~CloudDocs/Documents/github/Complete-Python-Bootcamp/.git/objects/5b\n",
      "Subfolders are:\n",
      "Files are:\n",
      "/t7f7fe052e879aadd390513de0892cf371480bd\n",
      "We are looking at folder: /Users/oscarw/Library/Mobile Documents/com~apple~CloudDocs/Documents/github/Complete-Python-Bootcamp/.git/objects/6d\n",
      "Subfolders are:\n",
      "Files are:\n",
      "/t81cce0aa555bcb7bb59206872dc479d4a65b2c\n",
      "We are looking at folder: /Users/oscarw/Library/Mobile Documents/com~apple~CloudDocs/Documents/github/Complete-Python-Bootcamp/.git/objects/97\n",
      "Subfolders are:\n",
      "Files are:\n",
      "/t1c18ac158a202a7eeadf265f926ce07e363945\n",
      "We are looking at folder: /Users/oscarw/Library/Mobile Documents/com~apple~CloudDocs/Documents/github/Complete-Python-Bootcamp/.git/objects/64\n",
      "Subfolders are:\n",
      "Files are:\n",
      "/tf3d417a1a1807dc7194b55ca5a04741639cf4d\n",
      "We are looking at folder: /Users/oscarw/Library/Mobile Documents/com~apple~CloudDocs/Documents/github/Complete-Python-Bootcamp/.git/objects/b8\n",
      "Subfolders are:\n",
      "Files are:\n",
      "/ta390114554e7d537c5d583c88a5a7e4e1b8a0c\n",
      "We are looking at folder: /Users/oscarw/Library/Mobile Documents/com~apple~CloudDocs/Documents/github/Complete-Python-Bootcamp/.git/objects/f0\n",
      "Subfolders are:\n",
      "Files are:\n",
      "/t4e040f27ca41a94c98d1cf09d3dc80459e0680\n",
      "We are looking at folder: /Users/oscarw/Library/Mobile Documents/com~apple~CloudDocs/Documents/github/Complete-Python-Bootcamp/.git/objects/f7\n",
      "Subfolders are:\n",
      "Files are:\n",
      "/t2d3a8a5e02f1e57ac9b431e58a41c1ded6361a\n",
      "We are looking at folder: /Users/oscarw/Library/Mobile Documents/com~apple~CloudDocs/Documents/github/Complete-Python-Bootcamp/.git/objects/f1\n",
      "Subfolders are:\n",
      "Files are:\n",
      "/t5743ee61c381105d27c7659df4ad1ac219926a\n",
      "/t11228160b1a55fbf121dda0577f14bb4c00f7f\n",
      "We are looking at folder: /Users/oscarw/Library/Mobile Documents/com~apple~CloudDocs/Documents/github/Complete-Python-Bootcamp/.git/objects/79\n",
      "Subfolders are:\n",
      "Files are:\n",
      "/t3df4a60747c3267fd5f9ec5dbc518ab0769153\n",
      "We are looking at folder: /Users/oscarw/Library/Mobile Documents/com~apple~CloudDocs/Documents/github/Complete-Python-Bootcamp/.git/objects/77\n",
      "Subfolders are:\n",
      "Files are:\n",
      "/t37b249ed8911d5009fd36ac5416925a5af3f83\n",
      "We are looking at folder: /Users/oscarw/Library/Mobile Documents/com~apple~CloudDocs/Documents/github/Complete-Python-Bootcamp/.git/objects/71\n",
      "Subfolders are:\n",
      "Files are:\n",
      "/t12e8fc749e8b2d647ee7d03c4f69aba564acf1\n",
      "We are looking at folder: /Users/oscarw/Library/Mobile Documents/com~apple~CloudDocs/Documents/github/Complete-Python-Bootcamp/.git/info\n",
      "Subfolders are:\n",
      "Files are:\n",
      "/texclude\n",
      "We are looking at folder: /Users/oscarw/Library/Mobile Documents/com~apple~CloudDocs/Documents/github/Complete-Python-Bootcamp/.git/logs\n",
      "Subfolders are:\n",
      "/trefs\n",
      "Files are:\n",
      "/tHEAD\n",
      "We are looking at folder: /Users/oscarw/Library/Mobile Documents/com~apple~CloudDocs/Documents/github/Complete-Python-Bootcamp/.git/logs/refs\n",
      "Subfolders are:\n",
      "/theads\n",
      "/tremotes\n",
      "Files are:\n",
      "We are looking at folder: /Users/oscarw/Library/Mobile Documents/com~apple~CloudDocs/Documents/github/Complete-Python-Bootcamp/.git/logs/refs/heads\n",
      "Subfolders are:\n",
      "Files are:\n",
      "/tmain\n",
      "We are looking at folder: /Users/oscarw/Library/Mobile Documents/com~apple~CloudDocs/Documents/github/Complete-Python-Bootcamp/.git/logs/refs/remotes\n",
      "Subfolders are:\n",
      "/torigin\n",
      "Files are:\n",
      "We are looking at folder: /Users/oscarw/Library/Mobile Documents/com~apple~CloudDocs/Documents/github/Complete-Python-Bootcamp/.git/logs/refs/remotes/origin\n",
      "Subfolders are:\n",
      "Files are:\n",
      "/tHEAD\n",
      "/tmain\n",
      "We are looking at folder: /Users/oscarw/Library/Mobile Documents/com~apple~CloudDocs/Documents/github/Complete-Python-Bootcamp/.git/hooks\n",
      "Subfolders are:\n",
      "Files are:\n",
      "/tcommit-msg.sample\n",
      "/tpre-rebase.sample\n",
      "/tsendemail-validate.sample\n",
      "/tpre-commit.sample\n",
      "/tapplypatch-msg.sample\n",
      "/tfsmonitor-watchman.sample\n",
      "/tpre-receive.sample\n",
      "/tprepare-commit-msg.sample\n",
      "/tpost-update.sample\n",
      "/tpre-merge-commit.sample\n",
      "/tpre-applypatch.sample\n",
      "/tpre-push.sample\n",
      "/tupdate.sample\n",
      "/tpush-to-checkout.sample\n",
      "We are looking at folder: /Users/oscarw/Library/Mobile Documents/com~apple~CloudDocs/Documents/github/Complete-Python-Bootcamp/.git/refs\n",
      "Subfolders are:\n",
      "/theads\n",
      "/ttags\n",
      "/tremotes\n",
      "Files are:\n",
      "We are looking at folder: /Users/oscarw/Library/Mobile Documents/com~apple~CloudDocs/Documents/github/Complete-Python-Bootcamp/.git/refs/heads\n",
      "Subfolders are:\n",
      "Files are:\n",
      "/tmain\n",
      "We are looking at folder: /Users/oscarw/Library/Mobile Documents/com~apple~CloudDocs/Documents/github/Complete-Python-Bootcamp/.git/refs/tags\n",
      "Subfolders are:\n",
      "Files are:\n",
      "We are looking at folder: /Users/oscarw/Library/Mobile Documents/com~apple~CloudDocs/Documents/github/Complete-Python-Bootcamp/.git/refs/remotes\n",
      "Subfolders are:\n",
      "/torigin\n",
      "Files are:\n",
      "We are looking at folder: /Users/oscarw/Library/Mobile Documents/com~apple~CloudDocs/Documents/github/Complete-Python-Bootcamp/.git/refs/remotes/origin\n",
      "Subfolders are:\n",
      "Files are:\n",
      "/tHEAD\n",
      "/tmain\n",
      "We are looking at folder: /Users/oscarw/Library/Mobile Documents/com~apple~CloudDocs/Documents/github/Complete-Python-Bootcamp/.idea\n",
      "Subfolders are:\n",
      "/tinspectionProfiles\n",
      "Files are:\n",
      "/tvcs.xml\n",
      "/tComplete-Python-Bootcamp.iml\n",
      "/t.gitignore\n",
      "/tmodules.xml\n",
      "/tmisc.xml\n",
      "We are looking at folder: /Users/oscarw/Library/Mobile Documents/com~apple~CloudDocs/Documents/github/Complete-Python-Bootcamp/.idea/inspectionProfiles\n",
      "Subfolders are:\n",
      "Files are:\n",
      "/tprofiles_settings.xml\n"
     ]
    }
   ],
   "source": [
    "for folder, subfolders, files in os.walk(os.getcwd()):\n",
    "    print(f\"We are looking at folder: {folder}\")\n",
    "    print(\"Subfolders are:\")\n",
    "    for subfolder in subfolders:\n",
    "        print(\"/t\" + subfolder)\n",
    "\n",
    "    print(\"Files are:\")\n",
    "    for file in files:\n",
    "        print(\"/t\" + file)"
   ]
  },
  {
   "cell_type": "code",
   "execution_count": null,
   "metadata": {},
   "outputs": [],
   "source": []
  }
 ],
 "metadata": {
  "kernelspec": {
   "display_name": "Python 3",
   "language": "python",
   "name": "python3"
  },
  "language_info": {
   "codemirror_mode": {
    "name": "ipython",
    "version": 3
   },
   "file_extension": ".py",
   "mimetype": "text/x-python",
   "name": "python",
   "nbconvert_exporter": "python",
   "pygments_lexer": "ipython3",
   "version": "3.12.0"
  },
  "orig_nbformat": 4
 },
 "nbformat": 4,
 "nbformat_minor": 2
}
